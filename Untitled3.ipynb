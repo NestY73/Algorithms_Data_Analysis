{
  "nbformat": 4,
  "nbformat_minor": 0,
  "metadata": {
    "colab": {
      "name": "Untitled3.ipynb",
      "provenance": [],
      "collapsed_sections": [],
      "include_colab_link": true
    },
    "kernelspec": {
      "name": "python3",
      "display_name": "Python 3"
    }
  },
  "cells": [
    {
      "cell_type": "markdown",
      "metadata": {
        "id": "view-in-github",
        "colab_type": "text"
      },
      "source": [
        "<a href=\"https://colab.research.google.com/github/NestY73/Algorithms_Data_Analysis/blob/master/Untitled3.ipynb\" target=\"_parent\"><img src=\"https://colab.research.google.com/assets/colab-badge.svg\" alt=\"Open In Colab\"/></a>"
      ]
    },
    {
      "cell_type": "markdown",
      "metadata": {
        "id": "qT_se7FDIdne",
        "colab_type": "text"
      },
      "source": [
        "1. Сгенерировать датасет при помощи sklearn.datasets.make_regression и обучить линейную модель при помощи градиентного и стохастического градиентного спуска. Нанести среднеквадратичную ошибку для обоих методов на один график, сделать выводы о разнице скорости сходимости каждого из методов."
      ]
    },
    {
      "cell_type": "code",
      "metadata": {
        "id": "BsaVcFM4pU9d",
        "colab_type": "code",
        "colab": {}
      },
      "source": [
        "import numpy as np\n",
        "from sklearn import datasets\n",
        "import matplotlib.pyplot as plt\n",
        "\n",
        "%matplotlib inline"
      ],
      "execution_count": 0,
      "outputs": []
    },
    {
      "cell_type": "code",
      "metadata": {
        "id": "x3IC6kXTq-3X",
        "colab_type": "code",
        "colab": {}
      },
      "source": [
        "# реализуем функцию, определяющую среднеквадратичную ошибку\n",
        "def mserror(X, w, y_pred):\n",
        "    y = X.dot(w)\n",
        "    return (sum((y - y_pred)**2)) / len(y)"
      ],
      "execution_count": 0,
      "outputs": []
    },
    {
      "cell_type": "code",
      "metadata": {
        "id": "0Y2W4FrEsPaq",
        "colab_type": "code",
        "colab": {}
      },
      "source": [
        "data, target, coef = datasets.make_regression(n_samples=1000, n_features = 2, n_informative = 2, n_targets = 1, \n",
        "                                              noise = 5, coef = True, random_state = 2)"
      ],
      "execution_count": 0,
      "outputs": []
    },
    {
      "cell_type": "code",
      "metadata": {
        "id": "ADGl0hHOsRAQ",
        "colab_type": "code",
        "colab": {}
      },
      "source": [
        "data"
      ],
      "execution_count": 0,
      "outputs": []
    },
    {
      "cell_type": "markdown",
      "metadata": {
        "id": "AH21zU6Jsc8x",
        "colab_type": "text"
      },
      "source": [
        "градиентный спуск\n"
      ]
    },
    {
      "cell_type": "code",
      "metadata": {
        "id": "NKUPCulgsh-R",
        "colab_type": "code",
        "colab": {
          "base_uri": "https://localhost:8080/",
          "height": 51
        },
        "outputId": "696e53a4-caa5-46e0-9861-8960951ce4cb"
      },
      "source": [
        "X = data.copy()\n",
        "Y = target.copy()\n",
        "\n",
        "# инициализируем начальный вектор весов\n",
        "w = np.zeros(2)\n",
        "\n",
        "# список векторов весов после каждой итерации\n",
        "w_list = [w.copy()]\n",
        "\n",
        "# список значений ошибок после каждой итерации\n",
        "errors_gs = []\n",
        "\n",
        "# шаг градиентного спуска\n",
        "eta = 0.01\n",
        "\n",
        "# максимальное число итераций\n",
        "max_iter = 1e4\n",
        "\n",
        "# критерий сходимости (разница весов, при которой алгоритм останавливается)\n",
        "min_weight_dist = 1e-8\n",
        "\n",
        "# зададим начальную разницу весов большим числом\n",
        "weight_dist = np.inf\n",
        "\n",
        "# счетчик итераций\n",
        "iter_num = 0\n",
        "\n",
        "# ход градиентного спуска\n",
        "while weight_dist > min_weight_dist and iter_num < max_iter:\n",
        "    new_w = w - 2 * eta * np.dot(X.T, (np.dot(X, w) - Y)) / Y.shape[0]\n",
        "    weight_dist = np.linalg.norm(new_w - w, ord=2)\n",
        "    \n",
        "    w_list.append(new_w.copy())\n",
        "    errors_gs.append(mserror(X, new_w, Y))\n",
        "    \n",
        "    iter_num += 1\n",
        "    w = new_w\n",
        "    \n",
        "w_list = np.array(w_list)\n",
        "\n",
        "print(f'В случае использования градиентного спуска функционал ошибки составляет {round(errors_gs[-1], 4)}')\n",
        "print(f'Количество выполненных итераций равно {iter_num}')"
      ],
      "execution_count": 24,
      "outputs": [
        {
          "output_type": "stream",
          "text": [
            "В случае использования градиентного спуска функционал ошибки составляет 26.4259\n",
            "Количество выполненных итераций равно 986\n"
          ],
          "name": "stdout"
        }
      ]
    },
    {
      "cell_type": "markdown",
      "metadata": {
        "id": "9Wt03_rxs6Wa",
        "colab_type": "text"
      },
      "source": [
        "стохастический градиентный спуск"
      ]
    },
    {
      "cell_type": "code",
      "metadata": {
        "id": "sb6GAZrOs8ht",
        "colab_type": "code",
        "colab": {
          "base_uri": "https://localhost:8080/",
          "height": 51
        },
        "outputId": "ce8f0e1c-9c29-43e7-bd65-34a4daa7babc"
      },
      "source": [
        "data = data.copy()\n",
        "target = target.copy()\n",
        "# инициализируем начальный вектор весов\n",
        "w = np.zeros(2)\n",
        "\n",
        "# список векторов весов после каждой итерации\n",
        "w_list = [w.copy()]\n",
        "\n",
        "# список значений ошибок после каждой итерации\n",
        "errors_sgs = []\n",
        "\n",
        "# шаг градиентного спуска\n",
        "eta = 0.01\n",
        "\n",
        "# максимальное число итераций\n",
        "max_iter = 1e5\n",
        "\n",
        "# критерий сходимости (разница весов, при которой алгоритм останавливается)\n",
        "min_weight_dist = 1e-8\n",
        "\n",
        "# зададим начальную разницу весов большим числом\n",
        "weight_dist = np.inf\n",
        "\n",
        "# счетчик итераций\n",
        "iter_num = 0\n",
        "\n",
        "np.random.seed(1234)\n",
        "\n",
        "# ход градиентного спуска\n",
        "while weight_dist > min_weight_dist and iter_num < max_iter:\n",
        "    \n",
        "    # генерируем случайный индекс объекта выборки\n",
        "    train_ind = np.random.randint(data.shape[0])\n",
        "    \n",
        "    new_w = w - 2 * eta * np.dot(data[train_ind].T, (np.dot(data[train_ind], w) - target[train_ind])) / target.shape[0]\n",
        "\n",
        "    weight_dist = np.linalg.norm(new_w - w, ord=2)\n",
        "    \n",
        "    w_list.append(new_w.copy())\n",
        "    errors_sgs.append(mserror(data, new_w, target))\n",
        "    \n",
        "    iter_num += 1\n",
        "    w = new_w\n",
        "    \n",
        "w_list = np.array(w_list)\n",
        "\n",
        "print(f'В случае использования стохастического градиентного спуска функционал ошибки составляет {round(errors_sgs[-1], 4)}')\n",
        "print(f'Количество выполненных итераций равно {iter_num}')"
      ],
      "execution_count": 25,
      "outputs": [
        {
          "output_type": "stream",
          "text": [
            "В случае использования стохастического градиентного спуска функционал ошибки составляет 457.0203\n",
            "Количество выполненных итераций равно 75746\n"
          ],
          "name": "stdout"
        }
      ]
    },
    {
      "cell_type": "markdown",
      "metadata": {
        "id": "DMJY3m_Y-KJr",
        "colab_type": "text"
      },
      "source": [
        ""
      ]
    },
    {
      "cell_type": "code",
      "metadata": {
        "id": "zh489K2x1F9g",
        "colab_type": "code",
        "colab": {
          "base_uri": "https://localhost:8080/",
          "height": 312
        },
        "outputId": "2f021e03-2e97-44e2-80f5-fe9e08819b69"
      },
      "source": [
        "# Визуализируем изменение функционала ошибки\n",
        "plt.plot(range(len(errors_gs)), errors_gs, color='g')\n",
        "plt.plot(range(len(errors_sgs)), errors_sgs, color='r')\n",
        "plt.title('MSE')\n",
        "plt.xlabel('Iteration number')\n",
        "plt.ylabel('MSE')"
      ],
      "execution_count": 23,
      "outputs": [
        {
          "output_type": "execute_result",
          "data": {
            "text/plain": [
              "Text(0, 0.5, 'MSE')"
            ]
          },
          "metadata": {
            "tags": []
          },
          "execution_count": 23
        },
        {
          "output_type": "display_data",
          "data": {
            "image/png": "[encoded data removed]",
            "text/plain": [
              "<Figure size 432x288 with 1 Axes>"
            ]
          },
          "metadata": {
            "tags": []
          }
        }
      ]
    },
    {
      "cell_type": "markdown",
      "metadata": {
        "id": "E_YVNq0_-LNL",
        "colab_type": "text"
      },
      "source": [
        "Как видно из представленных реализаций градиентного спуска и стохастического градиентного спуска, количество итераций для графиентного спуска на 2 порядка меньше (986 и 75746), чем для стохастического градиентноо спуска, чтобы обеспечить заданную разницу весов 1е-08.\n",
        "А значит, сходимость стохастического градиентного спуса хуже."
      ]
    },
    {
      "cell_type": "code",
      "metadata": {
        "id": "h0sdqvEP-O6S",
        "colab_type": "code",
        "colab": {}
      },
      "source": [
        ""
      ],
      "execution_count": 0,
      "outputs": []
    },
    {
      "cell_type": "markdown",
      "metadata": {
        "id": "HOqntLpeIsz4",
        "colab_type": "text"
      },
      "source": [
        "2. Модифицировать решение первого задания путем добавления  L2 -регуляризации (в функцию, считающую MSE, нужно добавить норму вектора весов) и сравнить результаты."
      ]
    },
    {
      "cell_type": "code",
      "metadata": {
        "id": "6sXznKgtIvKw",
        "colab_type": "code",
        "colab": {}
      },
      "source": [
        ""
      ],
      "execution_count": 0,
      "outputs": []
    },
    {
      "cell_type": "markdown",
      "metadata": {
        "id": "eSMVcwCjMB0I",
        "colab_type": "text"
      },
      "source": [
        "1 Постройте график зависимости весов всех признаков от lambda в L2-регуляризации (на данных из урока).\n",
        " \n",
        " "
      ]
    },
    {
      "cell_type": "code",
      "metadata": {
        "id": "mIPFoSVIMHqw",
        "colab_type": "code",
        "colab": {}
      },
      "source": [
        ""
      ],
      "execution_count": 0,
      "outputs": []
    },
    {
      "cell_type": "markdown",
      "metadata": {
        "id": "M3gXDDFnMKnn",
        "colab_type": "text"
      },
      "source": [
        "2. Можно ли к одному и тому же признаку применить сразу и нормализацию, и стандартизацию?"
      ]
    },
    {
      "cell_type": "code",
      "metadata": {
        "id": "qU8KCyRdMT0B",
        "colab_type": "code",
        "colab": {}
      },
      "source": [
        "import numpy as np\n",
        "import matplotlib.pyplot as plt"
      ],
      "execution_count": 0,
      "outputs": []
    },
    {
      "cell_type": "code",
      "metadata": {
        "id": "qbDO1iC2PXkB",
        "colab_type": "code",
        "colab": {}
      },
      "source": [
        "X = np.array([[1, 1, 1, 1, 1, 1, 1, 1, 1, 1],\n",
        "              [1, 1, 2, 1, 3, 0, 5, 10, 1, 2],\n",
        "              [500, 700, 750, 600, 1450,\n",
        "               800, 1500, 2000, 450, 1000],\n",
        "              [1, 1, 2, 1, 2, \n",
        "               1, 3, 3, 1, 2]])"
      ],
      "execution_count": 0,
      "outputs": []
    },
    {
      "cell_type": "code",
      "metadata": {
        "id": "xEYAhw7tPjFB",
        "colab_type": "code",
        "colab": {
          "base_uri": "https://localhost:8080/",
          "height": 34
        },
        "outputId": "4af46b9b-fcec-4fe2-93bd-1d314b458fce"
      },
      "source": [
        "X_norm=X[2].copy()\n",
        "X_norm"
      ],
      "execution_count": 8,
      "outputs": [
        {
          "output_type": "execute_result",
          "data": {
            "text/plain": [
              "array([ 500,  700,  750,  600, 1450,  800, 1500, 2000,  450, 1000])"
            ]
          },
          "metadata": {
            "tags": []
          },
          "execution_count": 8
        }
      ]
    },
    {
      "cell_type": "code",
      "metadata": {
        "id": "Xu-2Tm6NPzom",
        "colab_type": "code",
        "colab": {
          "base_uri": "https://localhost:8080/",
          "height": 51
        },
        "outputId": "c206e586-6577-4ea3-a2c5-7ae25c208228"
      },
      "source": [
        "X_norm = (X_norm - X_norm.min()) / (X_norm.max() - X_norm.min())\n",
        "X_norm"
      ],
      "execution_count": 9,
      "outputs": [
        {
          "output_type": "execute_result",
          "data": {
            "text/plain": [
              "array([0.03225806, 0.16129032, 0.19354839, 0.09677419, 0.64516129,\n",
              "       0.22580645, 0.67741935, 1.        , 0.        , 0.35483871])"
            ]
          },
          "metadata": {
            "tags": []
          },
          "execution_count": 9
        }
      ]
    },
    {
      "cell_type": "code",
      "metadata": {
        "id": "_cTsoe9cQpcA",
        "colab_type": "code",
        "colab": {
          "base_uri": "https://localhost:8080/",
          "height": 34
        },
        "outputId": "93daf3eb-f783-4539-c613-26f2bb84bb48"
      },
      "source": [
        "X_s=X[2].copy()\n",
        "X_s"
      ],
      "execution_count": 18,
      "outputs": [
        {
          "output_type": "execute_result",
          "data": {
            "text/plain": [
              "array([ 500,  700,  750,  600, 1450,  800, 1500, 2000,  450, 1000])"
            ]
          },
          "metadata": {
            "tags": []
          },
          "execution_count": 18
        }
      ]
    },
    {
      "cell_type": "code",
      "metadata": {
        "id": "znHF2Yy1Q5Ba",
        "colab_type": "code",
        "colab": {
          "base_uri": "https://localhost:8080/",
          "height": 34
        },
        "outputId": "83fd9462-4178-4b2f-838c-1efbb5afa8b1"
      },
      "source": [
        "X_mean = X_s.mean()\n",
        "X_mean"
      ],
      "execution_count": 19,
      "outputs": [
        {
          "output_type": "execute_result",
          "data": {
            "text/plain": [
              "975.0"
            ]
          },
          "metadata": {
            "tags": []
          },
          "execution_count": 19
        }
      ]
    },
    {
      "cell_type": "code",
      "metadata": {
        "id": "XTco8XOoRlw4",
        "colab_type": "code",
        "colab": {
          "base_uri": "https://localhost:8080/",
          "height": 34
        },
        "outputId": "27b9d21c-6792-49db-e1c5-0f85bc30a0e5"
      },
      "source": [
        "X_std1=X_s.std()\n",
        "X_std1"
      ],
      "execution_count": 20,
      "outputs": [
        {
          "output_type": "execute_result",
          "data": {
            "text/plain": [
              "484.8968962573384"
            ]
          },
          "metadata": {
            "tags": []
          },
          "execution_count": 20
        }
      ]
    },
    {
      "cell_type": "code",
      "metadata": {
        "id": "lHXH2CTQRdXz",
        "colab_type": "code",
        "colab": {
          "base_uri": "https://localhost:8080/",
          "height": 51
        },
        "outputId": "07021996-fbd4-458a-988e-3fba150f9d93"
      },
      "source": [
        "X_st = (X_s - X_mean) / X_std1\n",
        "X_st"
      ],
      "execution_count": 21,
      "outputs": [
        {
          "output_type": "execute_result",
          "data": {
            "text/plain": [
              "array([-0.97958969, -0.56713087, -0.46401617, -0.77336028,  0.97958969,\n",
              "       -0.36090146,  1.08270439,  2.11385144, -1.08270439,  0.05155735])"
            ]
          },
          "metadata": {
            "tags": []
          },
          "execution_count": 21
        }
      ]
    },
    {
      "cell_type": "markdown",
      "metadata": {
        "id": "uhQe0mYyMb8Z",
        "colab_type": "text"
      },
      "source": [
        "3*. Напишите функцию наподобие eval_model_reg2, но для применения L1-регуляризации."
      ]
    },
    {
      "cell_type": "code",
      "metadata": {
        "id": "7p7OQ1SPMjnu",
        "colab_type": "code",
        "colab": {}
      },
      "source": [
        ""
      ],
      "execution_count": 0,
      "outputs": []
    }
  ]
}