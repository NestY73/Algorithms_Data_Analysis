{
  "nbformat": 4,
  "nbformat_minor": 0,
  "metadata": {
    "colab": {
      "name": "Lesson_1_Homework.ipynb",
      "provenance": [],
      "include_colab_link": true
    },
    "kernelspec": {
      "name": "python3",
      "display_name": "Python 3"
    }
  },
  "cells": [
    {
      "cell_type": "markdown",
      "metadata": {
        "id": "view-in-github",
        "colab_type": "text"
      },
      "source": [
        "<a href=\"https://colab.research.google.com/github/NestY73/Algorithms_Data_Analysis/blob/master/Lesson_1_Homework.ipynb\" target=\"_parent\"><img src=\"https://colab.research.google.com/assets/colab-badge.svg\" alt=\"Open In Colab\"/></a>"
      ]
    },
    {
      "cell_type": "markdown",
      "metadata": {
        "id": "zMB6msvozmsH",
        "colab_type": "text"
      },
      "source": [
        "1. Подберите скорость обучения (alpha) и количество итераций:"
      ]
    },
    {
      "cell_type": "code",
      "metadata": {
        "id": "rh6_499ny49L",
        "colab_type": "code",
        "colab": {}
      },
      "source": [
        "import numpy as np\n",
        "import matplotlib.pyplot as plt"
      ],
      "execution_count": 0,
      "outputs": []
    },
    {
      "cell_type": "code",
      "metadata": {
        "id": "uXIdTjX4zI2i",
        "colab_type": "code",
        "colab": {}
      },
      "source": [
        "X = np.array([[1, 1, 1, 1, 1, 1, 1, 1, 1, 1],\n",
        "              [1, 1, 2, 1, 3, 0, 5, 10, 1, 2]])"
      ],
      "execution_count": 0,
      "outputs": []
    },
    {
      "cell_type": "code",
      "metadata": {
        "id": "IzM-WfbSzMVv",
        "colab_type": "code",
        "colab": {}
      },
      "source": [
        "y = [45, 55, 50, 59, 65, 35, 75, 80, 50, 60]"
      ],
      "execution_count": 0,
      "outputs": []
    },
    {
      "cell_type": "code",
      "metadata": {
        "id": "afM5_7_-zNnP",
        "colab_type": "code",
        "colab": {}
      },
      "source": [
        "def calc_mse(y, y_pred):\n",
        "  err = np.mean((y - y_pred)**2)\n",
        "  return err"
      ],
      "execution_count": 0,
      "outputs": []
    },
    {
      "cell_type": "code",
      "metadata": {
        "id": "p6CSLy9pzVuk",
        "colab_type": "code",
        "colab": {}
      },
      "source": [
        "def calc_mae(y, y_pred):\n",
        "  err = np.mean(np.abs(y - y_pred))\n",
        "  return err"
      ],
      "execution_count": 0,
      "outputs": []
    },
    {
      "cell_type": "code",
      "metadata": {
        "id": "bdhCTckqzbOf",
        "colab_type": "code",
        "colab": {
          "base_uri": "https://localhost:8080/",
          "height": 34
        },
        "outputId": "458f5d8a-5877-476d-b192-46c9a205247f"
      },
      "source": [
        "n = X.shape[1]\n",
        "alpha = 1e-4\n",
        "W = np.array([1, 0.5])\n",
        "W, alpha"
      ],
      "execution_count": 6,
      "outputs": [
        {
          "output_type": "execute_result",
          "data": {
            "text/plain": [
              "(array([1. , 0.5]), 0.0001)"
            ]
          },
          "metadata": {
            "tags": []
          },
          "execution_count": 6
        }
      ]
    },
    {
      "cell_type": "code",
      "metadata": {
        "id": "Tfa_MOVfzdGR",
        "colab_type": "code",
        "colab": {
          "base_uri": "https://localhost:8080/",
          "height": 272
        },
        "outputId": "f7455b76-e1ed-4823-95f0-83344dda51f1"
      },
      "source": [
        "for i in range(1500):\n",
        "  y_pred = np.dot(W, X)\n",
        "  err = calc_mse(y, y_pred)\n",
        "  for ii in range(W.shape[0]):\n",
        "    W[ii] -= alpha * (1/n * 2 * np.sum(X[ii] * (y_pred - y)))\n",
        "  if i % 100 == 0:\n",
        "    print(i, W, err)"
      ],
      "execution_count": 7,
      "outputs": [
        {
          "output_type": "stream",
          "text": [
            "0 [1.01102 0.534  ] 3173.15\n",
            "100 [2.02168794 3.452835  ] 2207.6942101483005\n",
            "200 [2.88306663 5.58962851] 1670.7027004086372\n",
            "300 [3.63289519 7.14848061] 1368.0832412796256\n",
            "400 [4.29908617 8.28027926] 1193.7493344933293\n",
            "500 [4.90228732 9.09657298] 1089.714750358689\n",
            "600 [5.45777535 9.67982684] 1024.2828984889416\n",
            "700 [ 5.97685612 10.0910047 ] 980.1260644155933\n",
            "800 [ 6.46789973 10.37517467] 947.770026039189\n",
            "900 [ 6.93710574 10.56565326] 922.0330206910178\n",
            "1000 [ 7.38906894 10.68706909] 900.0794345405571\n",
            "1100 [ 7.82719761 10.75762786] 880.3560305497828\n",
            "1200 [ 8.25402271 10.7907869 ] 862.0105344693482\n",
            "1300 [ 8.67142649 10.79649311] 844.5738572427321\n",
            "1400 [ 9.08081151 10.78209811] 827.7864098809556\n"
          ],
          "name": "stdout"
        }
      ]
    },
    {
      "cell_type": "markdown",
      "metadata": {
        "id": "kVPAjMvDziBZ",
        "colab_type": "text"
      },
      "source": [
        "2. В этом коде мы избавляемся от итераций по весам, но тут есть ошибка, исправьте ее:"
      ]
    },
    {
      "cell_type": "code",
      "metadata": {
        "id": "hMb5NF4Tzk3f",
        "colab_type": "code",
        "colab": {
          "base_uri": "https://localhost:8080/",
          "height": 238
        },
        "outputId": "dc962d5c-7a16-44f8-c449-d2baeef939c3"
      },
      "source": [
        "for i in range(1300):\n",
        "  y_pred = np.dot(W, X)\n",
        "  err = calc_mse(y, y_pred)\n",
        "  '''for ii in range(W.shape[0]):\n",
        "    W[ii] -= alpha * (1/n * 2 * np.sum(X[ii] * (y_pred - y)))'''\n",
        "  W -= (alpha * (1/n * 2 * np.sum(X * (y_pred - y))))\n",
        "  if i % 100 == 0:\n",
        "    print(i, W, err)"
      ],
      "execution_count": 8,
      "outputs": [
        {
          "output_type": "stream",
          "text": [
            "0 [ 9.48287649 10.75702733] 811.5031731785864\n",
            "100 [ 9.78018624 11.05433708] 802.4799744221228\n",
            "200 [ 9.9761455  11.25029634] 798.5600846812271\n",
            "300 [10.10530385 11.37945469] 796.8571923926395\n",
            "400 [10.19043316 11.464584  ] 796.1174159350829\n",
            "500 [10.24654258 11.52069343] 795.7960396443905\n",
            "600 [10.28352476 11.5576756 ] 795.6564262258177\n",
            "700 [10.30790001 11.58205085] 795.5957748734619\n",
            "800 [10.32396594 11.59811678] 795.5694264996438\n",
            "900 [10.33455512 11.60870596] 795.5579801464152\n",
            "1000 [10.34153454 11.61568538] 795.5530075813854\n",
            "1100 [10.34613473 11.62028557] 795.5508473821955\n",
            "1200 [10.34916675 11.62331759] 795.5499089408652\n"
          ],
          "name": "stdout"
        }
      ]
    },
    {
      "cell_type": "markdown",
      "metadata": {
        "id": "sDGCxFvD0D50",
        "colab_type": "text"
      },
      "source": [
        "Задание *3: вместо того, чтобы задавать количество итераций, задайте условие остановки алгоритма - когда ошибка за итерацию\n",
        "начинает изменяться ниже определенного порога (упрощенный аналог параметра tol в линейной регрессии в sklearn)."
      ]
    },
    {
      "cell_type": "code",
      "metadata": {
        "colab_type": "code",
        "outputId": "f7455b76-e1ed-4823-95f0-83344dda51f1",
        "id": "8Qve3-9H0PL6",
        "colab": {
          "base_uri": "https://localhost:8080/",
          "height": 272
        }
      },
      "source": [
        "for i in range(1500):\n",
        "  y_pred = np.dot(W, X)\n",
        "  err = calc_mse(y, y_pred)\n",
        "  for ii in range(W.shape[0]):\n",
        "    W[ii] -= alpha * (1/n * 2 * np.sum(X[ii] * (y_pred - y)))\n",
        "  if i % 100 == 0:\n",
        "    print(i, W, err)"
      ],
      "execution_count": 0,
      "outputs": [
        {
          "output_type": "stream",
          "text": [
            "0 [1.01102 0.534  ] 3173.15\n",
            "100 [2.02168794 3.452835  ] 2207.6942101483005\n",
            "200 [2.88306663 5.58962851] 1670.7027004086372\n",
            "300 [3.63289519 7.14848061] 1368.0832412796256\n",
            "400 [4.29908617 8.28027926] 1193.7493344933293\n",
            "500 [4.90228732 9.09657298] 1089.714750358689\n",
            "600 [5.45777535 9.67982684] 1024.2828984889416\n",
            "700 [ 5.97685612 10.0910047 ] 980.1260644155933\n",
            "800 [ 6.46789973 10.37517467] 947.770026039189\n",
            "900 [ 6.93710574 10.56565326] 922.0330206910178\n",
            "1000 [ 7.38906894 10.68706909] 900.0794345405571\n",
            "1100 [ 7.82719761 10.75762786] 880.3560305497828\n",
            "1200 [ 8.25402271 10.7907869 ] 862.0105344693482\n",
            "1300 [ 8.67142649 10.79649311] 844.5738572427321\n",
            "1400 [ 9.08081151 10.78209811] 827.7864098809556\n"
          ],
          "name": "stdout"
        }
      ]
    }
  ]
}