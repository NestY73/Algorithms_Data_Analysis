{
  "nbformat": 4,
  "nbformat_minor": 0,
  "metadata": {
    "kernelspec": {
      "display_name": "Python 3",
      "language": "python",
      "name": "python3"
    },
    "language_info": {
      "codemirror_mode": {
        "name": "ipython",
        "version": 3
      },
      "file_extension": ".py",
      "mimetype": "text/x-python",
      "name": "python",
      "nbconvert_exporter": "python",
      "pygments_lexer": "ipython3",
      "version": "3.6.7"
    },
    "colab": {
      "name": "task-3.2.2.ipynb",
      "provenance": [],
      "collapsed_sections": [],
      "include_colab_link": true
    }
  },
  "cells": [
    {
      "cell_type": "markdown",
      "metadata": {
        "id": "view-in-github",
        "colab_type": "text"
      },
      "source": [
        "<a href=\"https://colab.research.google.com/github/NestY73/Algorithms_Data_Analysis/blob/master/task_3_2_2v1.ipynb\" target=\"_parent\"><img src=\"https://colab.research.google.com/assets/colab-badge.svg\" alt=\"Open In Colab\"/></a>"
      ]
    },
    {
      "cell_type": "markdown",
      "metadata": {
        "id": "tn05KwM3dbnr"
      },
      "source": [
        "# Измерение качества моделей"
      ]
    },
    {
      "cell_type": "markdown",
      "metadata": {
        "id": "NkeDJw7sdbnu"
      },
      "source": [
        "## Метрики качества"
      ]
    },
    {
      "cell_type": "markdown",
      "metadata": {
        "id": "zCfQz7P0dbnv"
      },
      "source": [
        "Это практическое задание посвящено ознакомлению с инструментами оценки качества моделей машинного обучения, которые предоставляет библиотека `scikit-learn`. Метрики качества, представленные различными функциями, находятся в модуле `sklearn.metrics`. Мы начнем с загрузки набора данных из файла `data.csv` при помощи функции `read_csv` из библиотеки `pandas`. Этот набор данных содержит информацию о предсказаниях различных алгоритмов машинного обучения для решения задачи классификации. Колонка `prediction` - это результаты работы одного из этих алгоритмов. Целевая переменная содержится в столбце `target` (класс 0 или 1). Подсчитайте значение `true negative`, `false negative`, `true positive` и `false positive`. Запишите эти значения через запятую, сохраняя приведенный порядок, в переменную `answer1`, которая будет являтся строкой. Далее, посчитайте для этих данных значение таких метрик как `precision`, `recall` и `f1 score` с точностью до двух знаков после запятой. Запишите результаты в строго заданном порядке через запятую в переменную `answer2`, которая так же будет являться строкой"
      ]
    },
    {
      "cell_type": "markdown",
      "metadata": {
        "id": "ozLGwIJLdbnw"
      },
      "source": [
        "### *РЕШЕНИЕ*"
      ]
    },
    {
      "cell_type": "code",
      "metadata": {
        "colab": {
          "base_uri": "https://localhost:8080/"
        },
        "id": "pEn2qlH_dbnx",
        "outputId": "c59f034a-470c-46b0-cbe5-99e8f7c48b2d"
      },
      "source": [
        "import pandas as pd\n",
        "from sklearn.metrics import confusion_matrix\n",
        "\n",
        "data = pd.read_csv('/data.csv')\n",
        "data.shape[0]\n",
        "true_negative = 0\n",
        "true_positive = 0\n",
        "false_negative = 0\n",
        "false_positive = 0\n",
        "for i in range(data.shape[0]):\n",
        "  if (data.loc[i]['prediction']==data.loc[i]['target']) and (data.loc[i]['prediction']==0):\n",
        "    true_negative += 1\n",
        "  elif data.loc[i]['prediction']==data.loc[i]['target'] and data.loc[i]['prediction']==1:\n",
        "    true_positive += 1\n",
        "  elif data.loc[i]['prediction']!=data.loc[i]['target'] and data.loc[i]['prediction']==0:\n",
        "    false_negative += 1\n",
        "  elif data.loc[i]['prediction']!=data.loc[i]['target'] and data.loc[i]['prediction']==1:\n",
        "    false_positive += 1\n",
        "   \n",
        "answer1 = print(true_negative,false_negative,true_positive, false_positive, sep=',')\n",
        "#print(answer1)\n",
        "y_pred= data['prediction']\n",
        "y_true=data['target']\n",
        "tn, fp, fn, tp = confusion_matrix(y_true,y_pred).ravel()\n",
        "(tn, fp, fn, tp)\n"
      ],
      "execution_count": 5,
      "outputs": [
        {
          "output_type": "stream",
          "text": [
            "63,4,114,7\n"
          ],
          "name": "stdout"
        },
        {
          "output_type": "execute_result",
          "data": {
            "text/plain": [
              "(63, 7, 4, 114)"
            ]
          },
          "metadata": {
            "tags": []
          },
          "execution_count": 5
        }
      ]
    },
    {
      "cell_type": "code",
      "metadata": {
        "colab": {
          "base_uri": "https://localhost:8080/"
        },
        "id": "rBEcUY3hdbny",
        "outputId": "87871fe4-f431-487d-aa32-cfaaf007188d"
      },
      "source": [
        "from sklearn.metrics import precision_score, recall_score, f1_score\n",
        "p_s = precision_score(y_true, y_pred, average=None)\n",
        "r_s = recall_score(y_true, y_pred, average=None)\n",
        "f1_s = f1_score(y_true, y_pred, average=None)\n",
        "print(p_s, r_s, f1_s)\n",
        "print(tp/(tp+fp))\n",
        "print(tp/(tp+fn))"
      ],
      "execution_count": 6,
      "outputs": [
        {
          "output_type": "stream",
          "text": [
            "[0.94029851 0.94214876] [0.9        0.96610169] [0.91970803 0.9539749 ]\n",
            "0.9421487603305785\n",
            "0.9661016949152542\n"
          ],
          "name": "stdout"
        }
      ]
    },
    {
      "cell_type": "markdown",
      "metadata": {
        "id": "yANcCN3xdbnz"
      },
      "source": [
        "В столбцах `scores_1` и `scores_2` содержаться оценки вероятности пренадлежности объектов к классу 1 для двух разных алгоритмов машинного обучения. Рассчитайте площадь под ROC-кривой для каждого алгоритма и сравните их. В качестве ответа `answer3` приведите большее из двух значений, округленное до трех знаков после запятой."
      ]
    },
    {
      "cell_type": "markdown",
      "metadata": {
        "id": "Ez0lzdLmdbnz"
      },
      "source": [
        "### *РЕШЕНИЕ*"
      ]
    },
    {
      "cell_type": "code",
      "metadata": {
        "colab": {
          "base_uri": "https://localhost:8080/"
        },
        "id": "PH7-tPDCdbnz",
        "outputId": "e27bc9d4-9380-4980-a454-d33722d648d6"
      },
      "source": [
        "from sklearn.metrics import roc_auc_score\n",
        "y_sc1 = data['scores_1']\n",
        "y_sc2 = data['scores_2']\n",
        "roc1 = roc_auc_score(y_true, y_sc1)\n",
        "roc2 = roc_auc_score(y_true, y_sc2)\n",
        "print('{:.3f},{:.3f}'.format(roc1,roc2))"
      ],
      "execution_count": 7,
      "outputs": [
        {
          "output_type": "stream",
          "text": [
            "0.993,0.985\n"
          ],
          "name": "stdout"
        }
      ]
    },
    {
      "cell_type": "markdown",
      "metadata": {
        "id": "rcUnlNindbnz"
      },
      "source": [
        "## Метод скользящего контроля"
      ]
    },
    {
      "cell_type": "markdown",
      "metadata": {
        "id": "Wqfcgp2mdbn0"
      },
      "source": [
        "Во второй части данного практического задания мы изучать различные методы оценки моделей машинного обучения. Загрузите набор данных `Breast Cancer Wisconsin (Diagnostic)`, используя функцию `load_breast_cancer` из модуля `sklearn.datasets`. Этот датасет позволяет решать задачу предсказания рака груди по различным характеристикам опухоли. В данном случае, целевая переменная принимает два значения, соответствующие доброкачественной и злокачественной опухоли. Проверьте, является ли данная выборка сбалансированной."
      ]
    },
    {
      "cell_type": "code",
      "metadata": {
        "colab": {
          "base_uri": "https://localhost:8080/"
        },
        "id": "RDwW4c8Sdbn0",
        "outputId": "6afac617-d48e-40ba-b2ae-0daeb5144dc0"
      },
      "source": [
        "from sklearn.datasets import load_breast_cancer\n",
        "\n",
        "X, y = load_breast_cancer(return_X_y=True)\n",
        "counts = pd.value_counts(y)\n",
        "print(\"Is this a balanced dataset? {}\".format(counts[1] == counts[0]))\n"
      ],
      "execution_count": 8,
      "outputs": [
        {
          "output_type": "stream",
          "text": [
            "Is this a balanced dataset? False\n"
          ],
          "name": "stdout"
        }
      ]
    },
    {
      "cell_type": "markdown",
      "metadata": {
        "id": "x_IvqAHHdbn0"
      },
      "source": [
        "Первый метод, который мы будем использовать, - это случайное разбиение датасета на тренировочную и тестовую выборку с помощью функции `train_test_split` из `sklearn.model_selection` с параметрами `random_state=3` и `test_size=0.33`. Если выборка является несбалансированной передайте целевую переменную в эту функцию в качестве аргумента `stratify`.\n",
        "\n",
        "Обучите логистическую регрессию (класс `LogisticRegression` из модуля `sklearn.linear_model`) с параметром конструктора `random_state=42` и метод K ближайших соседей (класс `KNeighborsClassifier` из модуля `sklearn.neighbors`) на тренировочной выборке. Оцените качество на тестовой выборке для каждой из моделей. В качестве метрики качества используйте `recall`. Какая из моделей показывает лучший результат? Ответом на это задание `answer4` является этот результат, округленный до трех знаков после запятой."
      ]
    },
    {
      "cell_type": "markdown",
      "metadata": {
        "id": "3mUSzPexdbn1"
      },
      "source": [
        "### *РЕШЕНИЕ*"
      ]
    },
    {
      "cell_type": "code",
      "metadata": {
        "colab": {
          "base_uri": "https://localhost:8080/"
        },
        "id": "8uNNFNAOdbn1",
        "outputId": "bd8bd4ab-722e-4035-fe83-ee825e7f5301"
      },
      "source": [
        "from sklearn.model_selection import train_test_split\n",
        "from sklearn.metrics import recall_score\n",
        "from sklearn.neighbors import KNeighborsClassifier\n",
        "from sklearn.linear_model import LogisticRegression\n",
        "\n",
        "\n",
        "X_train, X_test, y_train, y_test = train_test_split(X, y, test_size=0.33, random_state=3, stratify=y)\n",
        "LogR=LogisticRegression(random_state=42)\n",
        "LogR.fit(X_train, y_train)\n",
        "ypr1 = LogR.predict(X_test)\n",
        "r_s1 = recall_score(y_test, ypr1, average=None)\n",
        "\n",
        "neigh = KNeighborsClassifier(n_neighbors=3)\n",
        "neigh.fit(X_train, y_train)\n",
        "ypr2 =neigh.predict(X_test)\n",
        "r_s2 = recall_score(y_test, ypr2, average=None)\n",
        "print(r_s1, r_s2)"
      ],
      "execution_count": 9,
      "outputs": [
        {
          "output_type": "stream",
          "text": [
            "[0.95714286 0.96610169] [0.91428571 0.97457627]\n"
          ],
          "name": "stdout"
        },
        {
          "output_type": "stream",
          "text": [
            "/usr/local/lib/python3.7/dist-packages/sklearn/linear_model/_logistic.py:940: ConvergenceWarning: lbfgs failed to converge (status=1):\n",
            "STOP: TOTAL NO. of ITERATIONS REACHED LIMIT.\n",
            "\n",
            "Increase the number of iterations (max_iter) or scale the data as shown in:\n",
            "    https://scikit-learn.org/stable/modules/preprocessing.html\n",
            "Please also refer to the documentation for alternative solver options:\n",
            "    https://scikit-learn.org/stable/modules/linear_model.html#logistic-regression\n",
            "  extra_warning_msg=_LOGISTIC_SOLVER_CONVERGENCE_MSG)\n"
          ],
          "name": "stderr"
        }
      ]
    },
    {
      "cell_type": "markdown",
      "metadata": {
        "id": "eS-IuVD7dbn1"
      },
      "source": [
        "Далее мы проведем оценку каждой из этих моделей в соответствии с методом скользящего контроля с помощью функции `cross_val_score` из модуля `sklearn.model_selection`. В качестве параметра кросс-валидации `cv` в этой функции используйте экземпляр класса `StratifiedKFold` из `sklearn.model_selection` с тремя разбиениями. \n",
        "\n",
        "Функция `cross_val_score` возвращает количество оценок, соответствующие числу разбиений.\n",
        "В качестве итогового результата используете среднее значение полученных оценок с помощью метрики `recall`. Какая модель работает лучше в это случае? Какие выводы можно из этого сделать? Ответом на это задание `answer5` является лучший итоговый результат, округленный до трех знаков после запятой."
      ]
    },
    {
      "cell_type": "markdown",
      "metadata": {
        "id": "8OFRnvPBdbn2"
      },
      "source": [
        "### *РЕШЕНИЕ*"
      ]
    },
    {
      "cell_type": "code",
      "metadata": {
        "colab": {
          "base_uri": "https://localhost:8080/"
        },
        "id": "O2qxGm-Wdbn2",
        "outputId": "046d0496-a94e-4257-fd9b-f296bd68f524"
      },
      "source": [
        "from sklearn.model_selection import cross_val_score, StratifiedKFold\n",
        "\n",
        "skf = StratifiedKFold(n_splits=3)\n",
        "for train_index, test_index in skf.split(X, y):\n",
        "  #print(\"TRAIN:\", train_index, \"TEST:\", test_index)\n",
        "  X_train, X_test = X[train_index], X[test_index]\n",
        "  y_train, y_test = y[train_index], y[test_index]\n",
        "\n",
        "print(cross_val_score(LogR, X, y, cv=3,scoring='recall').mean())\n",
        "print(cross_val_score(neigh, X, y, cv=3, scoring='recall').mean())\n"
      ],
      "execution_count": 20,
      "outputs": [
        {
          "output_type": "stream",
          "text": [
            "0.9635854341736696\n",
            "0.9607843137254902\n"
          ],
          "name": "stdout"
        },
        {
          "output_type": "stream",
          "text": [
            "/usr/local/lib/python3.7/dist-packages/sklearn/linear_model/_logistic.py:940: ConvergenceWarning: lbfgs failed to converge (status=1):\n",
            "STOP: TOTAL NO. of ITERATIONS REACHED LIMIT.\n",
            "\n",
            "Increase the number of iterations (max_iter) or scale the data as shown in:\n",
            "    https://scikit-learn.org/stable/modules/preprocessing.html\n",
            "Please also refer to the documentation for alternative solver options:\n",
            "    https://scikit-learn.org/stable/modules/linear_model.html#logistic-regression\n",
            "  extra_warning_msg=_LOGISTIC_SOLVER_CONVERGENCE_MSG)\n",
            "/usr/local/lib/python3.7/dist-packages/sklearn/linear_model/_logistic.py:940: ConvergenceWarning: lbfgs failed to converge (status=1):\n",
            "STOP: TOTAL NO. of ITERATIONS REACHED LIMIT.\n",
            "\n",
            "Increase the number of iterations (max_iter) or scale the data as shown in:\n",
            "    https://scikit-learn.org/stable/modules/preprocessing.html\n",
            "Please also refer to the documentation for alternative solver options:\n",
            "    https://scikit-learn.org/stable/modules/linear_model.html#logistic-regression\n",
            "  extra_warning_msg=_LOGISTIC_SOLVER_CONVERGENCE_MSG)\n",
            "/usr/local/lib/python3.7/dist-packages/sklearn/linear_model/_logistic.py:940: ConvergenceWarning: lbfgs failed to converge (status=1):\n",
            "STOP: TOTAL NO. of ITERATIONS REACHED LIMIT.\n",
            "\n",
            "Increase the number of iterations (max_iter) or scale the data as shown in:\n",
            "    https://scikit-learn.org/stable/modules/preprocessing.html\n",
            "Please also refer to the documentation for alternative solver options:\n",
            "    https://scikit-learn.org/stable/modules/linear_model.html#logistic-regression\n",
            "  extra_warning_msg=_LOGISTIC_SOLVER_CONVERGENCE_MSG)\n"
          ],
          "name": "stderr"
        }
      ]
    },
    {
      "cell_type": "markdown",
      "metadata": {
        "id": "cyu_vKjLdbn2"
      },
      "source": [
        "# Строка с ответами"
      ]
    },
    {
      "cell_type": "code",
      "metadata": {
        "id": "pX24St9Wdbn3"
      },
      "source": [
        "output = \"\"\"TN,FN,TP,FP = {0}\n",
        "Precision,Recall,F1 Score = {1}\n",
        "Best ROC AUC Score {2:.3f}\n",
        "Random Split {3:.3f}\n",
        "Cross Val Score {4:.3f}\"\"\"\n",
        "print(output.format(answer1, answer2, answer3, answer4, answer5))"
      ],
      "execution_count": null,
      "outputs": []
    }
  ]
}