{
  "nbformat": 4,
  "nbformat_minor": 0,
  "metadata": {
    "kernelspec": {
      "display_name": "Python 3",
      "language": "python",
      "name": "python3"
    },
    "language_info": {
      "codemirror_mode": {
        "name": "ipython",
        "version": 3
      },
      "file_extension": ".py",
      "mimetype": "text/x-python",
      "name": "python",
      "nbconvert_exporter": "python",
      "pygments_lexer": "ipython3",
      "version": "3.6.7"
    },
    "colab": {
      "name": "task-3.2.2.ipynb",
      "provenance": [],
      "collapsed_sections": [],
      "include_colab_link": true
    }
  },
  "cells": [
    {
      "cell_type": "markdown",
      "metadata": {
        "id": "view-in-github",
        "colab_type": "text"
      },
      "source": [
        "<a href=\"https://colab.research.google.com/github/NestY73/Algorithms_Data_Analysis/blob/master/task_3_2_2.ipynb\" target=\"_parent\"><img src=\"https://colab.research.google.com/assets/colab-badge.svg\" alt=\"Open In Colab\"/></a>"
      ]
    },
    {
      "cell_type": "markdown",
      "metadata": {
        "id": "tn05KwM3dbnr"
      },
      "source": [
        "# Измерение качества моделей"
      ]
    },
    {
      "cell_type": "markdown",
      "metadata": {
        "id": "NkeDJw7sdbnu"
      },
      "source": [
        "## Метрики качества"
      ]
    },
    {
      "cell_type": "markdown",
      "metadata": {
        "id": "zCfQz7P0dbnv"
      },
      "source": [
        "Это практическое задание посвящено ознакомлению с инструментами оценки качества моделей машинного обучения, которые предоставляет библиотека `scikit-learn`. Метрики качества, представленные различными функциями, находятся в модуле `sklearn.metrics`. Мы начнем с загрузки набора данных из файла `data.csv` при помощи функции `read_csv` из библиотеки `pandas`. Этот набор данных содержит информацию о предсказаниях различных алгоритмов машинного обучения для решения задачи классификации. Колонка `prediction` - это результаты работы одного из этих алгоритмов. Целевая переменная содержится в столбце `target` (класс 0 или 1). Подсчитайте значение `true negative`, `false negative`, `true positive` и `false positive`. Запишите эти значения через запятую, сохраняя приведенный порядок, в переменную `answer1`, которая будет являтся строкой. Далее, посчитайте для этих данных значение таких метрик как `precision`, `recall` и `f1 score` с точностью до двух знаков после запятой. Запишите результаты в строго заданном порядке через запятую в переменную `answer2`, которая так же будет являться строкой"
      ]
    },
    {
      "cell_type": "markdown",
      "metadata": {
        "id": "ozLGwIJLdbnw"
      },
      "source": [
        "### *РЕШЕНИЕ*"
      ]
    },
    {
      "cell_type": "code",
      "metadata": {
        "colab": {
          "base_uri": "https://localhost:8080/"
        },
        "id": "pEn2qlH_dbnx",
        "outputId": "48b35b5d-91f8-4984-e72c-a437a9fd2536"
      },
      "source": [
        "import pandas as pd\n",
        "from sklearn.metrics import confusion_matrix\n",
        "\n",
        "data = pd.read_csv('/data.csv')\n",
        "data.shape[0]\n",
        "true_negative = 0\n",
        "true_positive = 0\n",
        "false_negative = 0\n",
        "false_positive = 0\n",
        "for i in range(data.shape[0]):\n",
        "  if (data.loc[i]['prediction']==data.loc[i]['target']) and (data.loc[i]['prediction']==0):\n",
        "    true_negative += 1\n",
        "  elif data.loc[i]['prediction']==data.loc[i]['target'] and data.loc[i]['prediction']==1:\n",
        "    true_positive += 1\n",
        "  elif data.loc[i]['prediction']!=data.loc[i]['target'] and data.loc[i]['prediction']==0:\n",
        "    false_negative += 1\n",
        "  elif data.loc[i]['prediction']!=data.loc[i]['target'] and data.loc[i]['prediction']==1:\n",
        "    false_positive += 1\n",
        "   \n",
        "answer1 = print(true_negative,false_negative,true_positive, false_positive, sep=',')\n",
        "#print(answer1)\n",
        "y_pred= data['prediction']\n",
        "y_true=data['target']\n",
        "tn, fp, fn, tp = confusion_matrix(y_true,y_pred).ravel()\n",
        "(tn, fp, fn, tp)\n"
      ],
      "execution_count": 4,
      "outputs": [
        {
          "output_type": "stream",
          "text": [
            "63,4,114,7\n"
          ],
          "name": "stdout"
        },
        {
          "output_type": "execute_result",
          "data": {
            "text/plain": [
              "(63, 7, 4, 114)"
            ]
          },
          "metadata": {
            "tags": []
          },
          "execution_count": 4
        }
      ]
    },
    {
      "cell_type": "code",
      "metadata": {
        "colab": {
          "base_uri": "https://localhost:8080/"
        },
        "id": "rBEcUY3hdbny",
        "outputId": "fa1c5365-7202-4126-c20e-e2125ff08c2f"
      },
      "source": [
        "from sklearn.metrics import precision_score, recall_score, f1_score\n",
        "p_s = precision_score(y_true, y_pred, average=None)\n",
        "r_s = recall_score(y_true, y_pred, average=None)\n",
        "f1_s = f1_score(y_true, y_pred, average=None)\n",
        "print(p_s, r_s, f1_s)\n",
        "print(tp/(tp+fp))\n",
        "print(tp/(tp+fn))"
      ],
      "execution_count": 51,
      "outputs": [
        {
          "output_type": "stream",
          "text": [
            "[0.94029851 0.94214876] [0.9        0.96610169] [0.91970803 0.9539749 ]\n",
            "0.9421487603305785\n",
            "0.9661016949152542\n"
          ],
          "name": "stdout"
        }
      ]
    },
    {
      "cell_type": "markdown",
      "metadata": {
        "id": "yANcCN3xdbnz"
      },
      "source": [
        "В столбцах `scores_1` и `scores_2` содержаться оценки вероятности пренадлежности объектов к классу 1 для двух разных алгоритмов машинного обучения. Рассчитайте площадь под ROC-кривой для каждого алгоритма и сравните их. В качестве ответа `answer3` приведите большее из двух значений, округленное до трех знаков после запятой."
      ]
    },
    {
      "cell_type": "markdown",
      "metadata": {
        "id": "Ez0lzdLmdbnz"
      },
      "source": [
        "### *РЕШЕНИЕ*"
      ]
    },
    {
      "cell_type": "code",
      "metadata": {
        "colab": {
          "base_uri": "https://localhost:8080/"
        },
        "id": "PH7-tPDCdbnz",
        "outputId": "cdf773c4-d7f8-4d8a-c2b6-2dddb9bb862e"
      },
      "source": [
        "from sklearn.metrics import roc_auc_score\n",
        "y_sc1 = data['scores_1']\n",
        "y_sc2 = data['scores_2']\n",
        "roc1 = roc_auc_score(y_true, y_sc1)\n",
        "roc2 = roc_auc_score(y_true, y_sc2)\n",
        "print('{:.3f},{:.3f}'.format(roc1,roc2))"
      ],
      "execution_count": 8,
      "outputs": [
        {
          "output_type": "stream",
          "text": [
            "0.993,0.985\n"
          ],
          "name": "stdout"
        }
      ]
    },
    {
      "cell_type": "markdown",
      "metadata": {
        "id": "rcUnlNindbnz"
      },
      "source": [
        "## Метод скользящего контроля"
      ]
    },
    {
      "cell_type": "markdown",
      "metadata": {
        "id": "Wqfcgp2mdbn0"
      },
      "source": [
        "Во второй части данного практического задания мы изучать различные методы оценки моделей машинного обучения. Загрузите набор данных `Breast Cancer Wisconsin (Diagnostic)`, используя функцию `load_breast_cancer` из модуля `sklearn.datasets`. Этот датасет позволяет решать задачу предсказания рака груди по различным характеристикам опухоли. В данном случае, целевая переменная принимает два значения, соответствующие доброкачественной и злокачественной опухоли. Проверьте, является ли данная выборка сбалансированной."
      ]
    },
    {
      "cell_type": "code",
      "metadata": {
        "colab": {
          "base_uri": "https://localhost:8080/"
        },
        "id": "RDwW4c8Sdbn0",
        "outputId": "23cbdd19-6750-4f56-e7ba-b48281997c28"
      },
      "source": [
        "from sklearn.datasets import load_breast_cancer\n",
        "\n",
        "X, y = load_breast_cancer(return_X_y=True)\n",
        "counts = pd.value_counts(y)\n",
        "print(\"Is this a balanced dataset? {}\".format(counts[1] == counts[0]))\n"
      ],
      "execution_count": 16,
      "outputs": [
        {
          "output_type": "stream",
          "text": [
            "Is this a balanced dataset? False\n"
          ],
          "name": "stdout"
        }
      ]
    },
    {
      "cell_type": "markdown",
      "metadata": {
        "id": "x_IvqAHHdbn0"
      },
      "source": [
        "Первый метод, который мы будем использовать, - это случайное разбиение датасета на тренировочную и тестовую выборку с помощью функции `train_test_split` из `sklearn.model_selection` с параметрами `random_state=3` и `test_size=0.33`. Если выборка является несбалансированной передайте целевую переменную в эту функцию в качестве аргумента `stratify`.\n",
        "\n",
        "Обучите логистическую регрессию (класс `LogisticRegression` из модуля `sklearn.linear_model`) с параметром конструктора `random_state=42` и метод K ближайших соседей (класс `KNeighborsClassifier` из модуля `sklearn.neighbors`) на тренировочной выборке. Оцените качество на тестовой выборке для каждой из моделей. В качестве метрики качества используйте `recall`. Какая из моделей показывает лучший результат? Ответом на это задание `answer4` является этот результат, округленный до трех знаков после запятой."
      ]
    },
    {
      "cell_type": "markdown",
      "metadata": {
        "id": "3mUSzPexdbn1"
      },
      "source": [
        "### *РЕШЕНИЕ*"
      ]
    },
    {
      "cell_type": "code",
      "metadata": {
        "colab": {
          "base_uri": "https://localhost:8080/"
        },
        "id": "8uNNFNAOdbn1",
        "outputId": "fd04a56b-202e-4131-d8a2-72206c0b09c3"
      },
      "source": [
        "from sklearn.model_selection import train_test_split\n",
        "from sklearn.metrics import recall_score\n",
        "from sklearn.neighbors import KNeighborsClassifier\n",
        "from sklearn.linear_model import LogisticRegression\n",
        "\n",
        "\n",
        "X_train, X_test, y_train, y_test = train_test_split(X, y, test_size=0.33, random_state=3, stratify=y)\n",
        "LogR=LogisticRegression(random_state=42)\n",
        "LogR.fit(X_train, y_train)\n",
        "ypr1 = LogR.predict(X_test)\n",
        "r_s1 = recall_score(y_test, ypr1, average=None)\n",
        "\n",
        "neigh = KNeighborsClassifier(n_neighbors=3)\n",
        "neigh.fit(X_train, y_train)\n",
        "ypr2 =neigh.predict(X_test)\n",
        "r_s2 = recall_score(y_test, ypr2, average=None)\n",
        "print(r_s1, r_s2)"
      ],
      "execution_count": 32,
      "outputs": [
        {
          "output_type": "stream",
          "text": [
            "[0.95714286 0.96610169] [0.91428571 0.97457627]\n"
          ],
          "name": "stdout"
        },
        {
          "output_type": "stream",
          "text": [
            "/usr/local/lib/python3.7/dist-packages/sklearn/linear_model/_logistic.py:940: ConvergenceWarning: lbfgs failed to converge (status=1):\n",
            "STOP: TOTAL NO. of ITERATIONS REACHED LIMIT.\n",
            "\n",
            "Increase the number of iterations (max_iter) or scale the data as shown in:\n",
            "    https://scikit-learn.org/stable/modules/preprocessing.html\n",
            "Please also refer to the documentation for alternative solver options:\n",
            "    https://scikit-learn.org/stable/modules/linear_model.html#logistic-regression\n",
            "  extra_warning_msg=_LOGISTIC_SOLVER_CONVERGENCE_MSG)\n"
          ],
          "name": "stderr"
        }
      ]
    },
    {
      "cell_type": "markdown",
      "metadata": {
        "id": "eS-IuVD7dbn1"
      },
      "source": [
        "Далее мы проведем оценку каждой из этих моделей в соответствии с методом скользящего контроля с помощью функции `cross_val_score` из модуля `sklearn.model_selection`. В качестве параметра кросс-валидации `cv` в этой функции используйте экземпляр класса `StratifiedKFold` из `sklearn.model_selection` с тремя разбиениями. \n",
        "\n",
        "Функция `cross_val_score` возвращает количество оценок, соответствующие числу разбиений.\n",
        "В качестве итогового результата используете среднее значение полученных оценок с помощью метрики `recall`. Какая модель работает лучше в это случае? Какие выводы можно из этого сделать? Ответом на это задание `answer5` является лучший итоговый результат, округленный до трех знаков после запятой."
      ]
    },
    {
      "cell_type": "markdown",
      "metadata": {
        "id": "8OFRnvPBdbn2"
      },
      "source": [
        "### *РЕШЕНИЕ*"
      ]
    },
    {
      "cell_type": "code",
      "metadata": {
        "colab": {
          "base_uri": "https://localhost:8080/"
        },
        "id": "O2qxGm-Wdbn2",
        "outputId": "91ffe802-ede7-46a6-87ec-03220cf28492"
      },
      "source": [
        "from sklearn.model_selection import cross_val_score, StratifiedKFold\n",
        "\n",
        "skf = StratifiedKFold(n_splits=3)\n",
        "for train_index, test_index in skf.split(X, y):\n",
        "  print(\"TRAIN:\", train_index, \"TEST:\", test_index)\n",
        "  X_train, X_test = X[train_index], X[test_index]\n",
        "  y_train, y_test = y[train_index], y[test_index]"
      ],
      "execution_count": 37,
      "outputs": [
        {
          "output_type": "stream",
          "text": [
            "TRAIN: [121 122 126 127 129 131 132 134 135 138 141 146 156 161 162 164 167 168\n",
            " 171 172 177 180 181 182 184 186 190 193 194 196 197 198 199 201 202 203\n",
            " 205 207 210 212 213 214 215 218 219 223 229 230 233 236 237 239 242 243\n",
            " 244 245 246 247 248 249 250 251 252 253 254 255 256 257 258 259 260 261\n",
            " 262 263 264 265 266 267 268 269 270 271 272 273 274 275 276 277 278 279\n",
            " 280 281 282 283 284 285 286 287 288 289 290 291 292 293 294 295 296 297\n",
            " 298 299 300 301 302 303 304 305 306 307 308 309 310 311 312 313 314 315\n",
            " 316 317 318 319 320 321 322 323 324 325 326 327 328 329 330 331 332 333\n",
            " 334 335 336 337 338 339 340 341 342 343 344 345 346 347 348 349 350 351\n",
            " 352 353 354 355 356 357 358 359 360 361 362 363 364 365 366 367 368 369\n",
            " 370 371 372 373 374 375 376 377 378 379 380 381 382 383 384 385 386 387\n",
            " 388 389 390 391 392 393 394 395 396 397 398 399 400 401 402 403 404 405\n",
            " 406 407 408 409 410 411 412 413 414 415 416 417 418 419 420 421 422 423\n",
            " 424 425 426 427 428 429 430 431 432 433 434 435 436 437 438 439 440 441\n",
            " 442 443 444 445 446 447 448 449 450 451 452 453 454 455 456 457 458 459\n",
            " 460 461 462 463 464 465 466 467 468 469 470 471 472 473 474 475 476 477\n",
            " 478 479 480 481 482 483 484 485 486 487 488 489 490 491 492 493 494 495\n",
            " 496 497 498 499 500 501 502 503 504 505 506 507 508 509 510 511 512 513\n",
            " 514 515 516 517 518 519 520 521 522 523 524 525 526 527 528 529 530 531\n",
            " 532 533 534 535 536 537 538 539 540 541 542 543 544 545 546 547 548 549\n",
            " 550 551 552 553 554 555 556 557 558 559 560 561 562 563 564 565 566 567\n",
            " 568] TEST: [  0   1   2   3   4   5   6   7   8   9  10  11  12  13  14  15  16  17\n",
            "  18  19  20  21  22  23  24  25  26  27  28  29  30  31  32  33  34  35\n",
            "  36  37  38  39  40  41  42  43  44  45  46  47  48  49  50  51  52  53\n",
            "  54  55  56  57  58  59  60  61  62  63  64  65  66  67  68  69  70  71\n",
            "  72  73  74  75  76  77  78  79  80  81  82  83  84  85  86  87  88  89\n",
            "  90  91  92  93  94  95  96  97  98  99 100 101 102 103 104 105 106 107\n",
            " 108 109 110 111 112 113 114 115 116 117 118 119 120 123 124 125 128 130\n",
            " 133 136 137 139 140 142 143 144 145 147 148 149 150 151 152 153 154 155\n",
            " 157 158 159 160 163 165 166 169 170 173 174 175 176 178 179 183 185 187\n",
            " 188 189 191 192 195 200 204 206 208 209 211 216 217 220 221 222 224 225\n",
            " 226 227 228 231 232 234 235 238 240 241]\n",
            "TRAIN: [  0   1   2   3   4   5   6   7   8   9  10  11  12  13  14  15  16  17\n",
            "  18  19  20  21  22  23  24  25  26  27  28  29  30  31  32  33  34  35\n",
            "  36  37  38  39  40  41  42  43  44  45  46  47  48  49  50  51  52  53\n",
            "  54  55  56  57  58  59  60  61  62  63  64  65  66  67  68  69  70  71\n",
            "  72  73  74  75  76  77  78  79  80  81  82  83  84  85  86  87  88  89\n",
            "  90  91  92  93  94  95  96  97  98  99 100 101 102 103 104 105 106 107\n",
            " 108 109 110 111 112 113 114 115 116 117 118 119 120 123 124 125 128 130\n",
            " 133 136 137 139 140 142 143 144 145 147 148 149 150 151 152 153 154 155\n",
            " 157 158 159 160 163 165 166 169 170 173 174 175 176 178 179 183 185 187\n",
            " 188 189 191 192 195 200 204 206 208 209 211 216 217 220 221 222 224 225\n",
            " 226 227 228 231 232 234 235 238 240 241 280 282 283 297 300 302 317 321\n",
            " 323 328 329 330 335 337 339 343 351 352 353 365 366 368 369 370 372 373\n",
            " 379 385 389 392 393 400 408 413 414 415 416 417 418 419 420 421 422 423\n",
            " 424 425 426 427 428 429 430 431 432 433 434 435 436 437 438 439 440 441\n",
            " 442 443 444 445 446 447 448 449 450 451 452 453 454 455 456 457 458 459\n",
            " 460 461 462 463 464 465 466 467 468 469 470 471 472 473 474 475 476 477\n",
            " 478 479 480 481 482 483 484 485 486 487 488 489 490 491 492 493 494 495\n",
            " 496 497 498 499 500 501 502 503 504 505 506 507 508 509 510 511 512 513\n",
            " 514 515 516 517 518 519 520 521 522 523 524 525 526 527 528 529 530 531\n",
            " 532 533 534 535 536 537 538 539 540 541 542 543 544 545 546 547 548 549\n",
            " 550 551 552 553 554 555 556 557 558 559 560 561 562 563 564 565 566 567\n",
            " 568] TEST: [121 122 126 127 129 131 132 134 135 138 141 146 156 161 162 164 167 168\n",
            " 171 172 177 180 181 182 184 186 190 193 194 196 197 198 199 201 202 203\n",
            " 205 207 210 212 213 214 215 218 219 223 229 230 233 236 237 239 242 243\n",
            " 244 245 246 247 248 249 250 251 252 253 254 255 256 257 258 259 260 261\n",
            " 262 263 264 265 266 267 268 269 270 271 272 273 274 275 276 277 278 279\n",
            " 281 284 285 286 287 288 289 290 291 292 293 294 295 296 298 299 301 303\n",
            " 304 305 306 307 308 309 310 311 312 313 314 315 316 318 319 320 322 324\n",
            " 325 326 327 331 332 333 334 336 338 340 341 342 344 345 346 347 348 349\n",
            " 350 354 355 356 357 358 359 360 361 362 363 364 367 371 374 375 376 377\n",
            " 378 380 381 382 383 384 386 387 388 390 391 394 395 396 397 398 399 401\n",
            " 402 403 404 405 406 407 409 410 411 412]\n",
            "TRAIN: [  0   1   2   3   4   5   6   7   8   9  10  11  12  13  14  15  16  17\n",
            "  18  19  20  21  22  23  24  25  26  27  28  29  30  31  32  33  34  35\n",
            "  36  37  38  39  40  41  42  43  44  45  46  47  48  49  50  51  52  53\n",
            "  54  55  56  57  58  59  60  61  62  63  64  65  66  67  68  69  70  71\n",
            "  72  73  74  75  76  77  78  79  80  81  82  83  84  85  86  87  88  89\n",
            "  90  91  92  93  94  95  96  97  98  99 100 101 102 103 104 105 106 107\n",
            " 108 109 110 111 112 113 114 115 116 117 118 119 120 121 122 123 124 125\n",
            " 126 127 128 129 130 131 132 133 134 135 136 137 138 139 140 141 142 143\n",
            " 144 145 146 147 148 149 150 151 152 153 154 155 156 157 158 159 160 161\n",
            " 162 163 164 165 166 167 168 169 170 171 172 173 174 175 176 177 178 179\n",
            " 180 181 182 183 184 185 186 187 188 189 190 191 192 193 194 195 196 197\n",
            " 198 199 200 201 202 203 204 205 206 207 208 209 210 211 212 213 214 215\n",
            " 216 217 218 219 220 221 222 223 224 225 226 227 228 229 230 231 232 233\n",
            " 234 235 236 237 238 239 240 241 242 243 244 245 246 247 248 249 250 251\n",
            " 252 253 254 255 256 257 258 259 260 261 262 263 264 265 266 267 268 269\n",
            " 270 271 272 273 274 275 276 277 278 279 281 284 285 286 287 288 289 290\n",
            " 291 292 293 294 295 296 298 299 301 303 304 305 306 307 308 309 310 311\n",
            " 312 313 314 315 316 318 319 320 322 324 325 326 327 331 332 333 334 336\n",
            " 338 340 341 342 344 345 346 347 348 349 350 354 355 356 357 358 359 360\n",
            " 361 362 363 364 367 371 374 375 376 377 378 380 381 382 383 384 386 387\n",
            " 388 390 391 394 395 396 397 398 399 401 402 403 404 405 406 407 409 410\n",
            " 411 412] TEST: [280 282 283 297 300 302 317 321 323 328 329 330 335 337 339 343 351 352\n",
            " 353 365 366 368 369 370 372 373 379 385 389 392 393 400 408 413 414 415\n",
            " 416 417 418 419 420 421 422 423 424 425 426 427 428 429 430 431 432 433\n",
            " 434 435 436 437 438 439 440 441 442 443 444 445 446 447 448 449 450 451\n",
            " 452 453 454 455 456 457 458 459 460 461 462 463 464 465 466 467 468 469\n",
            " 470 471 472 473 474 475 476 477 478 479 480 481 482 483 484 485 486 487\n",
            " 488 489 490 491 492 493 494 495 496 497 498 499 500 501 502 503 504 505\n",
            " 506 507 508 509 510 511 512 513 514 515 516 517 518 519 520 521 522 523\n",
            " 524 525 526 527 528 529 530 531 532 533 534 535 536 537 538 539 540 541\n",
            " 542 543 544 545 546 547 548 549 550 551 552 553 554 555 556 557 558 559\n",
            " 560 561 562 563 564 565 566 567 568]\n"
          ],
          "name": "stdout"
        }
      ]
    },
    {
      "cell_type": "markdown",
      "metadata": {
        "id": "cyu_vKjLdbn2"
      },
      "source": [
        "# Строка с ответами"
      ]
    },
    {
      "cell_type": "code",
      "metadata": {
        "id": "pX24St9Wdbn3"
      },
      "source": [
        "output = \"\"\"TN,FN,TP,FP = {0}\n",
        "Precision,Recall,F1 Score = {1}\n",
        "Best ROC AUC Score {2:.3f}\n",
        "Random Split {3:.3f}\n",
        "Cross Val Score {4:.3f}\"\"\"\n",
        "print(output.format(answer1, answer2, answer3, answer4, answer5))"
      ],
      "execution_count": null,
      "outputs": []
    }
  ]
}