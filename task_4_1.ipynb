{
  "nbformat": 4,
  "nbformat_minor": 0,
  "metadata": {
    "anaconda-cloud": {},
    "kernelspec": {
      "display_name": "Python 3",
      "language": "python",
      "name": "python3"
    },
    "language_info": {
      "codemirror_mode": {
        "name": "ipython",
        "version": 3
      },
      "file_extension": ".py",
      "mimetype": "text/x-python",
      "name": "python",
      "nbconvert_exporter": "python",
      "pygments_lexer": "ipython3",
      "version": "3.6.7"
    },
    "toc": {
      "base_numbering": 1,
      "nav_menu": {
        "height": "216px",
        "width": "252px"
      },
      "number_sections": true,
      "sideBar": true,
      "skip_h1_title": false,
      "title_cell": "Table of Contents",
      "title_sidebar": "Contents",
      "toc_cell": false,
      "toc_position": {},
      "toc_section_display": "block",
      "toc_window_display": false
    },
    "colab": {
      "name": "task-4.1.ipynb",
      "provenance": [],
      "include_colab_link": true
    }
  },
  "cells": [
    {
      "cell_type": "markdown",
      "metadata": {
        "id": "view-in-github",
        "colab_type": "text"
      },
      "source": [
        "<a href=\"https://colab.research.google.com/github/NestY73/Algorithms_Data_Analysis/blob/master/task_4_1.ipynb\" target=\"_parent\"><img src=\"https://colab.research.google.com/assets/colab-badge.svg\" alt=\"Open In Colab\"/></a>"
      ]
    },
    {
      "cell_type": "markdown",
      "metadata": {
        "id": "cobkK90RFVwS"
      },
      "source": [
        "# Методы обучения без учителя.\n",
        "## Методы кластеризации"
      ]
    },
    {
      "cell_type": "markdown",
      "metadata": {
        "id": "AQu5gHibFVwV"
      },
      "source": [
        "В этом задании вам необходимо будет применить 3 метода кластеризации к данным.\n",
        "\n",
        "Для каждого метода будет свой вопрос, ответ на который надо будет передать на портал"
      ]
    },
    {
      "cell_type": "code",
      "metadata": {
        "id": "ZunWEj_qFVwW"
      },
      "source": [
        "import pandas as pd\n",
        "import matplotlib.pyplot as plt\n",
        "import numpy as np\n",
        "\n",
        "%matplotlib inline"
      ],
      "execution_count": 1,
      "outputs": []
    },
    {
      "cell_type": "markdown",
      "metadata": {
        "id": "mNoVc0eRFVwW"
      },
      "source": [
        "## Подготовка данных\n",
        "\n",
        "Для начала загрузим данные из этой [статьи](https://fivethirtyeight.com/features/weather-forecast-news-app-habits/)"
      ]
    },
    {
      "cell_type": "code",
      "metadata": {
        "id": "oUl0nIB3FVwX"
      },
      "source": [
        "df = pd.read_csv('./weather-check.csv')"
      ],
      "execution_count": 2,
      "outputs": []
    },
    {
      "cell_type": "code",
      "metadata": {
        "colab": {
          "base_uri": "https://localhost:8080/",
          "height": 440
        },
        "id": "a24nhGYtFVwX",
        "outputId": "97fe6393-7a44-4f7d-b3da-f8658501cddb"
      },
      "source": [
        "df.head()"
      ],
      "execution_count": 3,
      "outputs": [
        {
          "output_type": "execute_result",
          "data": {
            "text/html": [
              "<div>\n",
              "<style scoped>\n",
              "    .dataframe tbody tr th:only-of-type {\n",
              "        vertical-align: middle;\n",
              "    }\n",
              "\n",
              "    .dataframe tbody tr th {\n",
              "        vertical-align: top;\n",
              "    }\n",
              "\n",
              "    .dataframe thead th {\n",
              "        text-align: right;\n",
              "    }\n",
              "</style>\n",
              "<table border=\"1\" class=\"dataframe\">\n",
              "  <thead>\n",
              "    <tr style=\"text-align: right;\">\n",
              "      <th></th>\n",
              "      <th>RespondentID</th>\n",
              "      <th>Do you typically check a daily weather report?</th>\n",
              "      <th>How do you typically check the weather?</th>\n",
              "      <th>A specific website or app (please provide the answer)</th>\n",
              "      <th>If you had a smartwatch (like the soon to be released Apple Watch), how likely or unlikely would you be to check the weather on that device?</th>\n",
              "      <th>Age</th>\n",
              "      <th>What is your gender?</th>\n",
              "      <th>How much total combined money did all members of your HOUSEHOLD earn last year?</th>\n",
              "      <th>US Region</th>\n",
              "    </tr>\n",
              "  </thead>\n",
              "  <tbody>\n",
              "    <tr>\n",
              "      <th>0</th>\n",
              "      <td>3887201482</td>\n",
              "      <td>Yes</td>\n",
              "      <td>The default weather app on your phone</td>\n",
              "      <td>-</td>\n",
              "      <td>Very likely</td>\n",
              "      <td>30 - 44</td>\n",
              "      <td>Male</td>\n",
              "      <td>$50,000 to $74,999</td>\n",
              "      <td>South Atlantic</td>\n",
              "    </tr>\n",
              "    <tr>\n",
              "      <th>1</th>\n",
              "      <td>3887159451</td>\n",
              "      <td>Yes</td>\n",
              "      <td>The default weather app on your phone</td>\n",
              "      <td>-</td>\n",
              "      <td>Very likely</td>\n",
              "      <td>18 - 29</td>\n",
              "      <td>Male</td>\n",
              "      <td>Prefer not to answer</td>\n",
              "      <td>-</td>\n",
              "    </tr>\n",
              "    <tr>\n",
              "      <th>2</th>\n",
              "      <td>3887152228</td>\n",
              "      <td>Yes</td>\n",
              "      <td>The default weather app on your phone</td>\n",
              "      <td>-</td>\n",
              "      <td>Very likely</td>\n",
              "      <td>30 - 44</td>\n",
              "      <td>Male</td>\n",
              "      <td>$100,000 to $124,999</td>\n",
              "      <td>Middle Atlantic</td>\n",
              "    </tr>\n",
              "    <tr>\n",
              "      <th>3</th>\n",
              "      <td>3887145426</td>\n",
              "      <td>Yes</td>\n",
              "      <td>The default weather app on your phone</td>\n",
              "      <td>-</td>\n",
              "      <td>Somewhat likely</td>\n",
              "      <td>30 - 44</td>\n",
              "      <td>Male</td>\n",
              "      <td>Prefer not to answer</td>\n",
              "      <td>-</td>\n",
              "    </tr>\n",
              "    <tr>\n",
              "      <th>4</th>\n",
              "      <td>3887021873</td>\n",
              "      <td>Yes</td>\n",
              "      <td>A specific website or app (please provide the ...</td>\n",
              "      <td>Iphone app</td>\n",
              "      <td>Very likely</td>\n",
              "      <td>30 - 44</td>\n",
              "      <td>Male</td>\n",
              "      <td>$150,000 to $174,999</td>\n",
              "      <td>Middle Atlantic</td>\n",
              "    </tr>\n",
              "  </tbody>\n",
              "</table>\n",
              "</div>"
            ],
            "text/plain": [
              "   RespondentID  ...        US Region\n",
              "0    3887201482  ...   South Atlantic\n",
              "1    3887159451  ...                -\n",
              "2    3887152228  ...  Middle Atlantic\n",
              "3    3887145426  ...                -\n",
              "4    3887021873  ...  Middle Atlantic\n",
              "\n",
              "[5 rows x 9 columns]"
            ]
          },
          "metadata": {
            "tags": []
          },
          "execution_count": 3
        }
      ]
    },
    {
      "cell_type": "markdown",
      "metadata": {
        "id": "0g3qqPycFVwY"
      },
      "source": [
        "Они представляют из сбея результат небольшого опроса жителей США на тему того, как они проверяют прогноз прогоды. Кроме того в опроснике есть пункты, связанные с соц-дем информацией: возраст, пол, заработок, регион. \n",
        "\n",
        "Все признаки, в данном случае, являются категориальными.\n",
        "\n",
        "Для начала удалим столбец с идентификатором респондентов и столбец с открытым вопросом."
      ]
    },
    {
      "cell_type": "code",
      "metadata": {
        "id": "vrYnVnf5FVwY"
      },
      "source": [
        "df = df.drop(labels=df.columns[0], axis=1)\n",
        "df = df.drop(labels=df.columns[2], axis=1)"
      ],
      "execution_count": 4,
      "outputs": []
    },
    {
      "cell_type": "code",
      "metadata": {
        "colab": {
          "base_uri": "https://localhost:8080/",
          "height": 405
        },
        "id": "PokeC0UIFVwY",
        "outputId": "c5d31aef-569a-40c2-80aa-40669e706de9"
      },
      "source": [
        "df.head()"
      ],
      "execution_count": 5,
      "outputs": [
        {
          "output_type": "execute_result",
          "data": {
            "text/html": [
              "<div>\n",
              "<style scoped>\n",
              "    .dataframe tbody tr th:only-of-type {\n",
              "        vertical-align: middle;\n",
              "    }\n",
              "\n",
              "    .dataframe tbody tr th {\n",
              "        vertical-align: top;\n",
              "    }\n",
              "\n",
              "    .dataframe thead th {\n",
              "        text-align: right;\n",
              "    }\n",
              "</style>\n",
              "<table border=\"1\" class=\"dataframe\">\n",
              "  <thead>\n",
              "    <tr style=\"text-align: right;\">\n",
              "      <th></th>\n",
              "      <th>Do you typically check a daily weather report?</th>\n",
              "      <th>How do you typically check the weather?</th>\n",
              "      <th>If you had a smartwatch (like the soon to be released Apple Watch), how likely or unlikely would you be to check the weather on that device?</th>\n",
              "      <th>Age</th>\n",
              "      <th>What is your gender?</th>\n",
              "      <th>How much total combined money did all members of your HOUSEHOLD earn last year?</th>\n",
              "      <th>US Region</th>\n",
              "    </tr>\n",
              "  </thead>\n",
              "  <tbody>\n",
              "    <tr>\n",
              "      <th>0</th>\n",
              "      <td>Yes</td>\n",
              "      <td>The default weather app on your phone</td>\n",
              "      <td>Very likely</td>\n",
              "      <td>30 - 44</td>\n",
              "      <td>Male</td>\n",
              "      <td>$50,000 to $74,999</td>\n",
              "      <td>South Atlantic</td>\n",
              "    </tr>\n",
              "    <tr>\n",
              "      <th>1</th>\n",
              "      <td>Yes</td>\n",
              "      <td>The default weather app on your phone</td>\n",
              "      <td>Very likely</td>\n",
              "      <td>18 - 29</td>\n",
              "      <td>Male</td>\n",
              "      <td>Prefer not to answer</td>\n",
              "      <td>-</td>\n",
              "    </tr>\n",
              "    <tr>\n",
              "      <th>2</th>\n",
              "      <td>Yes</td>\n",
              "      <td>The default weather app on your phone</td>\n",
              "      <td>Very likely</td>\n",
              "      <td>30 - 44</td>\n",
              "      <td>Male</td>\n",
              "      <td>$100,000 to $124,999</td>\n",
              "      <td>Middle Atlantic</td>\n",
              "    </tr>\n",
              "    <tr>\n",
              "      <th>3</th>\n",
              "      <td>Yes</td>\n",
              "      <td>The default weather app on your phone</td>\n",
              "      <td>Somewhat likely</td>\n",
              "      <td>30 - 44</td>\n",
              "      <td>Male</td>\n",
              "      <td>Prefer not to answer</td>\n",
              "      <td>-</td>\n",
              "    </tr>\n",
              "    <tr>\n",
              "      <th>4</th>\n",
              "      <td>Yes</td>\n",
              "      <td>A specific website or app (please provide the ...</td>\n",
              "      <td>Very likely</td>\n",
              "      <td>30 - 44</td>\n",
              "      <td>Male</td>\n",
              "      <td>$150,000 to $174,999</td>\n",
              "      <td>Middle Atlantic</td>\n",
              "    </tr>\n",
              "  </tbody>\n",
              "</table>\n",
              "</div>"
            ],
            "text/plain": [
              "  Do you typically check a daily weather report?  ...        US Region\n",
              "0                                            Yes  ...   South Atlantic\n",
              "1                                            Yes  ...                -\n",
              "2                                            Yes  ...  Middle Atlantic\n",
              "3                                            Yes  ...                -\n",
              "4                                            Yes  ...  Middle Atlantic\n",
              "\n",
              "[5 rows x 7 columns]"
            ]
          },
          "metadata": {
            "tags": []
          },
          "execution_count": 5
        }
      ]
    },
    {
      "cell_type": "markdown",
      "metadata": {
        "id": "MfnkC6kcFVwZ"
      },
      "source": [
        "Далее выполним перекодировку признаков с помощью метода `pd.get_dummies`. \n",
        "\n",
        "Конечно, для таких признаков как \"заработок\" или \"регион проживания\" можно выполнить более интеллектуальное преобразование (например учитывающее, что ответ \"50,000 to  74,999\" ближе к \"80,000 to 99,999\", чем к \"150,000 to 174,999\"), но для первого подхода мы этого делать не будем."
      ]
    },
    {
      "cell_type": "code",
      "metadata": {
        "id": "Xy6rBUVVFVwZ"
      },
      "source": [
        "df_dummy = pd.get_dummies(df)"
      ],
      "execution_count": 6,
      "outputs": []
    },
    {
      "cell_type": "code",
      "metadata": {
        "colab": {
          "base_uri": "https://localhost:8080/"
        },
        "id": "i2H4l3i1FVwZ",
        "outputId": "d9c29883-0319-463d-ccd8-d24c50bf41a1"
      },
      "source": [
        "X = df_dummy.values\n",
        "X"
      ],
      "execution_count": 8,
      "outputs": [
        {
          "output_type": "execute_result",
          "data": {
            "text/plain": [
              "array([[0, 1, 0, ..., 1, 0, 0],\n",
              "       [0, 1, 0, ..., 0, 0, 0],\n",
              "       [0, 1, 0, ..., 0, 0, 0],\n",
              "       ...,\n",
              "       [0, 1, 0, ..., 0, 0, 0],\n",
              "       [1, 0, 1, ..., 0, 0, 0],\n",
              "       [0, 1, 1, ..., 0, 0, 0]], dtype=uint8)"
            ]
          },
          "metadata": {
            "tags": []
          },
          "execution_count": 8
        }
      ]
    },
    {
      "cell_type": "markdown",
      "metadata": {
        "id": "Qy5ARDJ5FVwZ"
      },
      "source": [
        "## Kmeans"
      ]
    },
    {
      "cell_type": "markdown",
      "metadata": {
        "id": "tr6vK-RpFVwa"
      },
      "source": [
        "Обычно, результаты kmeans на данных, полностью состоящим из категориальных признаков, получаются не такими хорошими.\n",
        "\n",
        "* Обучите метод к-средних с `n_clusters` от 2 до 20 и `random_state=123`\n",
        "* Создайте массив `scores`\n",
        "* Для каждого запуска вычислите `silhouette_score` полученной кластеризации\n",
        "* В переменную `answer1` сохраните значение наибольшего значения из `scores` c точностью до сотых"
      ]
    },
    {
      "cell_type": "code",
      "metadata": {
        "id": "BmfvnLunFVwa"
      },
      "source": [
        "from sklearn.cluster import KMeans\n",
        "from sklearn.metrics import silhouette_score"
      ],
      "execution_count": 9,
      "outputs": []
    },
    {
      "cell_type": "markdown",
      "metadata": {
        "id": "3OHkidq1FVwa"
      },
      "source": [
        "### *РЕШЕНИЕ*"
      ]
    },
    {
      "cell_type": "code",
      "metadata": {
        "colab": {
          "base_uri": "https://localhost:8080/"
        },
        "id": "EK8g3TdMFVwa",
        "outputId": "01231926-0ba0-4f49-f144-22f9b673f775"
      },
      "source": [
        "scores=[]\n",
        "for k in range(2,21):\n",
        "  kmeans = KMeans(n_clusters=k, random_state=123)\n",
        "  preds = kmeans.fit_predict(X)\n",
        "  \n",
        "  score = silhouette_score(X, preds, metric='euclidean')\n",
        "  print(\"For n_clusters = {}, silhouette score is {})\".format(k, score))"
      ],
      "execution_count": 46,
      "outputs": [
        {
          "output_type": "stream",
          "text": [
            "For n_clusters = 2, silhouette score is 0.1002864128782305)\n",
            "For n_clusters = 3, silhouette score is 0.09920088935026475)\n",
            "For n_clusters = 4, silhouette score is 0.0746796877850485)\n",
            "For n_clusters = 5, silhouette score is 0.07491743301394561)\n",
            "For n_clusters = 6, silhouette score is 0.07869785568966982)\n",
            "For n_clusters = 7, silhouette score is 0.08446868973633206)\n",
            "For n_clusters = 8, silhouette score is 0.08389226369629658)\n",
            "For n_clusters = 9, silhouette score is 0.09451887876780597)\n",
            "For n_clusters = 10, silhouette score is 0.08266799506510034)\n",
            "For n_clusters = 11, silhouette score is 0.09152435149475281)\n",
            "For n_clusters = 12, silhouette score is 0.09399945157985837)\n",
            "For n_clusters = 13, silhouette score is 0.08694070029493774)\n",
            "For n_clusters = 14, silhouette score is 0.08694689169771751)\n",
            "For n_clusters = 15, silhouette score is 0.09116875200745587)\n",
            "For n_clusters = 16, silhouette score is 0.09127423977908083)\n",
            "For n_clusters = 17, silhouette score is 0.09445328116270414)\n",
            "For n_clusters = 18, silhouette score is 0.09783838944367566)\n",
            "For n_clusters = 19, silhouette score is 0.09881756385018525)\n",
            "For n_clusters = 20, silhouette score is 0.10210623529244543)\n"
          ],
          "name": "stdout"
        }
      ]
    },
    {
      "cell_type": "markdown",
      "metadata": {
        "id": "sXTw_SBrFVwb"
      },
      "source": [
        "## Агломеративная кластеризация"
      ]
    },
    {
      "cell_type": "markdown",
      "metadata": {
        "id": "ie0ptEYxFVwb"
      },
      "source": [
        "Попробуем применить агломеративную кластеризацию\n",
        "\n",
        "* Прогоните метод с параметрами `method='average'`, `metric='cosine'`\n",
        "* Визуализируйте полученную дендрограмму\n",
        "* Выделите 5 кластеров из полученной иерархии\n",
        "* В переменную `answer2` запишите долю мужчин во втором по величине кластере с точностью до сотых"
      ]
    },
    {
      "cell_type": "code",
      "metadata": {
        "id": "zRzx5mY8FVwb"
      },
      "source": [
        "from scipy.cluster.hierarchy import fcluster, dendrogram, linkage"
      ],
      "execution_count": null,
      "outputs": []
    },
    {
      "cell_type": "markdown",
      "metadata": {
        "id": "gBOOgnF1FVwb"
      },
      "source": [
        "### *РЕШЕНИЕ*"
      ]
    },
    {
      "cell_type": "code",
      "metadata": {
        "id": "n8Br-IQ7FVwc"
      },
      "source": [
        ""
      ],
      "execution_count": null,
      "outputs": []
    },
    {
      "cell_type": "markdown",
      "metadata": {
        "id": "Uh8eLcXaFVwc"
      },
      "source": [
        "## DBSCAN"
      ]
    },
    {
      "cell_type": "markdown",
      "metadata": {
        "id": "0Buw1V3LFVwc"
      },
      "source": [
        "Возможно вы уже успели заметить, что часть респондентов практически не отвечали на заданные вопросы - то есть в соответствующих графах стоит символ \"-\". \"Молчунами\" будем называть участников опроса, которые не ответили ни на один вопрос. Таких респондентов можно сразу исключить из дальнейших исследований.\n",
        "\n",
        "* Переберите значение параметра `eps` в интервале [0.1, 1] с шагом 0.1\n",
        "* Остальные параметрамы установите следующим образом `min_samples=20`, `metric='cosine'`\n",
        "* В переменную `answer3` запишите значение `eps` (c точностью до **сотых**) при котором алгоритм выделит всех \"молчунов\" в отдельный кластер с выбросами"
      ]
    },
    {
      "cell_type": "code",
      "metadata": {
        "id": "yCcM6S3gFVwc"
      },
      "source": [
        "from sklearn.cluster import DBSCAN"
      ],
      "execution_count": null,
      "outputs": []
    },
    {
      "cell_type": "markdown",
      "metadata": {
        "id": "5JeefO-3FVwc"
      },
      "source": [
        "### *РЕШЕНИЕ*"
      ]
    },
    {
      "cell_type": "code",
      "metadata": {
        "id": "XHSrAgSuFVwd"
      },
      "source": [
        ""
      ],
      "execution_count": null,
      "outputs": []
    },
    {
      "cell_type": "markdown",
      "metadata": {
        "id": "f-M4m53mFVwd"
      },
      "source": [
        "# Строка с ответами"
      ]
    },
    {
      "cell_type": "code",
      "metadata": {
        "id": "5GN2MOzdFVwd"
      },
      "source": [
        "print('kmeans {:.2f}\\nagg {:.2f}\\ndbscan {:.2f}'.format(answer1, answer2, answer3))"
      ],
      "execution_count": null,
      "outputs": []
    }
  ]
}