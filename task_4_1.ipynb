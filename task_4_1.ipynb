{
  "nbformat": 4,
  "nbformat_minor": 0,
  "metadata": {
    "anaconda-cloud": {},
    "kernelspec": {
      "display_name": "Python 3",
      "language": "python",
      "name": "python3"
    },
    "language_info": {
      "codemirror_mode": {
        "name": "ipython",
        "version": 3
      },
      "file_extension": ".py",
      "mimetype": "text/x-python",
      "name": "python",
      "nbconvert_exporter": "python",
      "pygments_lexer": "ipython3",
      "version": "3.6.7"
    },
    "toc": {
      "base_numbering": 1,
      "nav_menu": {
        "height": "216px",
        "width": "252px"
      },
      "number_sections": true,
      "sideBar": true,
      "skip_h1_title": false,
      "title_cell": "Table of Contents",
      "title_sidebar": "Contents",
      "toc_cell": false,
      "toc_position": {},
      "toc_section_display": "block",
      "toc_window_display": false
    },
    "colab": {
      "name": "task-4.1.ipynb",
      "provenance": [],
      "include_colab_link": true
    }
  },
  "cells": [
    {
      "cell_type": "markdown",
      "metadata": {
        "id": "view-in-github",
        "colab_type": "text"
      },
      "source": [
        "<a href=\"https://colab.research.google.com/github/NestY73/Algorithms_Data_Analysis/blob/master/task_4_1.ipynb\" target=\"_parent\"><img src=\"https://colab.research.google.com/assets/colab-badge.svg\" alt=\"Open In Colab\"/></a>"
      ]
    },
    {
      "cell_type": "markdown",
      "metadata": {
        "id": "cobkK90RFVwS"
      },
      "source": [
        "# Методы обучения без учителя.\n",
        "## Методы кластеризации"
      ]
    },
    {
      "cell_type": "markdown",
      "metadata": {
        "id": "AQu5gHibFVwV"
      },
      "source": [
        "В этом задании вам необходимо будет применить 3 метода кластеризации к данным.\n",
        "\n",
        "Для каждого метода будет свой вопрос, ответ на который надо будет передать на портал"
      ]
    },
    {
      "cell_type": "code",
      "metadata": {
        "id": "ZunWEj_qFVwW"
      },
      "source": [
        "import pandas as pd\n",
        "import matplotlib.pyplot as plt\n",
        "import numpy as np\n",
        "\n",
        "%matplotlib inline"
      ],
      "execution_count": 7,
      "outputs": []
    },
    {
      "cell_type": "markdown",
      "metadata": {
        "id": "mNoVc0eRFVwW"
      },
      "source": [
        "## Подготовка данных\n",
        "\n",
        "Для начала загрузим данные из этой [статьи](https://fivethirtyeight.com/features/weather-forecast-news-app-habits/)"
      ]
    },
    {
      "cell_type": "code",
      "metadata": {
        "id": "oUl0nIB3FVwX"
      },
      "source": [
        "df = pd.read_csv('./weather-check.csv')"
      ],
      "execution_count": 9,
      "outputs": []
    },
    {
      "cell_type": "code",
      "metadata": {
        "colab": {
          "base_uri": "https://localhost:8080/",
          "height": 595
        },
        "id": "a24nhGYtFVwX",
        "outputId": "3d72aca3-ac1c-4554-97cc-3f10d04cdddd"
      },
      "source": [
        "df.head()"
      ],
      "execution_count": 10,
      "outputs": [
        {
          "output_type": "execute_result",
          "data": {
            "text/html": [
              "<div>\n",
              "<style scoped>\n",
              "    .dataframe tbody tr th:only-of-type {\n",
              "        vertical-align: middle;\n",
              "    }\n",
              "\n",
              "    .dataframe tbody tr th {\n",
              "        vertical-align: top;\n",
              "    }\n",
              "\n",
              "    .dataframe thead th {\n",
              "        text-align: right;\n",
              "    }\n",
              "</style>\n",
              "<table border=\"1\" class=\"dataframe\">\n",
              "  <thead>\n",
              "    <tr style=\"text-align: right;\">\n",
              "      <th></th>\n",
              "      <th>RespondentID</th>\n",
              "      <th>Do you typically check a daily weather report?</th>\n",
              "      <th>How do you typically check the weather?</th>\n",
              "      <th>A specific website or app (please provide the answer)</th>\n",
              "      <th>If you had a smartwatch (like the soon to be released Apple Watch), how likely or unlikely would you be to check the weather on that device?</th>\n",
              "      <th>Age</th>\n",
              "      <th>What is your gender?</th>\n",
              "      <th>How much total combined money did all members of your HOUSEHOLD earn last year?</th>\n",
              "      <th>US Region</th>\n",
              "    </tr>\n",
              "  </thead>\n",
              "  <tbody>\n",
              "    <tr>\n",
              "      <th>0</th>\n",
              "      <td>3887201482</td>\n",
              "      <td>Yes</td>\n",
              "      <td>The default weather app on your phone</td>\n",
              "      <td>-</td>\n",
              "      <td>Very likely</td>\n",
              "      <td>30 - 44</td>\n",
              "      <td>Male</td>\n",
              "      <td>$50,000 to $74,999</td>\n",
              "      <td>South Atlantic</td>\n",
              "    </tr>\n",
              "    <tr>\n",
              "      <th>1</th>\n",
              "      <td>3887159451</td>\n",
              "      <td>Yes</td>\n",
              "      <td>The default weather app on your phone</td>\n",
              "      <td>-</td>\n",
              "      <td>Very likely</td>\n",
              "      <td>18 - 29</td>\n",
              "      <td>Male</td>\n",
              "      <td>Prefer not to answer</td>\n",
              "      <td>-</td>\n",
              "    </tr>\n",
              "    <tr>\n",
              "      <th>2</th>\n",
              "      <td>3887152228</td>\n",
              "      <td>Yes</td>\n",
              "      <td>The default weather app on your phone</td>\n",
              "      <td>-</td>\n",
              "      <td>Very likely</td>\n",
              "      <td>30 - 44</td>\n",
              "      <td>Male</td>\n",
              "      <td>$100,000 to $124,999</td>\n",
              "      <td>Middle Atlantic</td>\n",
              "    </tr>\n",
              "    <tr>\n",
              "      <th>3</th>\n",
              "      <td>3887145426</td>\n",
              "      <td>Yes</td>\n",
              "      <td>The default weather app on your phone</td>\n",
              "      <td>-</td>\n",
              "      <td>Somewhat likely</td>\n",
              "      <td>30 - 44</td>\n",
              "      <td>Male</td>\n",
              "      <td>Prefer not to answer</td>\n",
              "      <td>-</td>\n",
              "    </tr>\n",
              "    <tr>\n",
              "      <th>4</th>\n",
              "      <td>3887021873</td>\n",
              "      <td>Yes</td>\n",
              "      <td>A specific website or app (please provide the ...</td>\n",
              "      <td>Iphone app</td>\n",
              "      <td>Very likely</td>\n",
              "      <td>30 - 44</td>\n",
              "      <td>Male</td>\n",
              "      <td>$150,000 to $174,999</td>\n",
              "      <td>Middle Atlantic</td>\n",
              "    </tr>\n",
              "  </tbody>\n",
              "</table>\n",
              "</div>"
            ],
            "text/plain": [
              "   RespondentID  ...        US Region\n",
              "0    3887201482  ...   South Atlantic\n",
              "1    3887159451  ...                -\n",
              "2    3887152228  ...  Middle Atlantic\n",
              "3    3887145426  ...                -\n",
              "4    3887021873  ...  Middle Atlantic\n",
              "\n",
              "[5 rows x 9 columns]"
            ]
          },
          "metadata": {
            "tags": []
          },
          "execution_count": 10
        }
      ]
    },
    {
      "cell_type": "code",
      "metadata": {
        "colab": {
          "base_uri": "https://localhost:8080/"
        },
        "id": "13dFgb88JUY8",
        "outputId": "23bce7e5-2153-43f2-cfd7-c8279e564a76"
      },
      "source": [
        "df.shape"
      ],
      "execution_count": 11,
      "outputs": [
        {
          "output_type": "execute_result",
          "data": {
            "text/plain": [
              "(928, 9)"
            ]
          },
          "metadata": {
            "tags": []
          },
          "execution_count": 11
        }
      ]
    },
    {
      "cell_type": "markdown",
      "metadata": {
        "id": "0g3qqPycFVwY"
      },
      "source": [
        "Они представляют из сбея результат небольшого опроса жителей США на тему того, как они проверяют прогноз прогоды. Кроме того в опроснике есть пункты, связанные с соц-дем информацией: возраст, пол, заработок, регион. \n",
        "\n",
        "Все признаки, в данном случае, являются категориальными.\n",
        "\n",
        "Для начала удалим столбец с идентификатором респондентов и столбец с открытым вопросом."
      ]
    },
    {
      "cell_type": "code",
      "metadata": {
        "id": "vrYnVnf5FVwY"
      },
      "source": [
        "df = df.drop(labels=df.columns[0], axis=1)\n",
        "df = df.drop(labels=df.columns[2], axis=1)"
      ],
      "execution_count": 12,
      "outputs": []
    },
    {
      "cell_type": "code",
      "metadata": {
        "colab": {
          "base_uri": "https://localhost:8080/",
          "height": 457
        },
        "id": "PokeC0UIFVwY",
        "outputId": "27127dcc-8169-4104-fab8-3c9ace9d8f27"
      },
      "source": [
        "df.head()"
      ],
      "execution_count": 13,
      "outputs": [
        {
          "output_type": "execute_result",
          "data": {
            "text/html": [
              "<div>\n",
              "<style scoped>\n",
              "    .dataframe tbody tr th:only-of-type {\n",
              "        vertical-align: middle;\n",
              "    }\n",
              "\n",
              "    .dataframe tbody tr th {\n",
              "        vertical-align: top;\n",
              "    }\n",
              "\n",
              "    .dataframe thead th {\n",
              "        text-align: right;\n",
              "    }\n",
              "</style>\n",
              "<table border=\"1\" class=\"dataframe\">\n",
              "  <thead>\n",
              "    <tr style=\"text-align: right;\">\n",
              "      <th></th>\n",
              "      <th>Do you typically check a daily weather report?</th>\n",
              "      <th>How do you typically check the weather?</th>\n",
              "      <th>If you had a smartwatch (like the soon to be released Apple Watch), how likely or unlikely would you be to check the weather on that device?</th>\n",
              "      <th>Age</th>\n",
              "      <th>What is your gender?</th>\n",
              "      <th>How much total combined money did all members of your HOUSEHOLD earn last year?</th>\n",
              "      <th>US Region</th>\n",
              "    </tr>\n",
              "  </thead>\n",
              "  <tbody>\n",
              "    <tr>\n",
              "      <th>0</th>\n",
              "      <td>Yes</td>\n",
              "      <td>The default weather app on your phone</td>\n",
              "      <td>Very likely</td>\n",
              "      <td>30 - 44</td>\n",
              "      <td>Male</td>\n",
              "      <td>$50,000 to $74,999</td>\n",
              "      <td>South Atlantic</td>\n",
              "    </tr>\n",
              "    <tr>\n",
              "      <th>1</th>\n",
              "      <td>Yes</td>\n",
              "      <td>The default weather app on your phone</td>\n",
              "      <td>Very likely</td>\n",
              "      <td>18 - 29</td>\n",
              "      <td>Male</td>\n",
              "      <td>Prefer not to answer</td>\n",
              "      <td>-</td>\n",
              "    </tr>\n",
              "    <tr>\n",
              "      <th>2</th>\n",
              "      <td>Yes</td>\n",
              "      <td>The default weather app on your phone</td>\n",
              "      <td>Very likely</td>\n",
              "      <td>30 - 44</td>\n",
              "      <td>Male</td>\n",
              "      <td>$100,000 to $124,999</td>\n",
              "      <td>Middle Atlantic</td>\n",
              "    </tr>\n",
              "    <tr>\n",
              "      <th>3</th>\n",
              "      <td>Yes</td>\n",
              "      <td>The default weather app on your phone</td>\n",
              "      <td>Somewhat likely</td>\n",
              "      <td>30 - 44</td>\n",
              "      <td>Male</td>\n",
              "      <td>Prefer not to answer</td>\n",
              "      <td>-</td>\n",
              "    </tr>\n",
              "    <tr>\n",
              "      <th>4</th>\n",
              "      <td>Yes</td>\n",
              "      <td>A specific website or app (please provide the ...</td>\n",
              "      <td>Very likely</td>\n",
              "      <td>30 - 44</td>\n",
              "      <td>Male</td>\n",
              "      <td>$150,000 to $174,999</td>\n",
              "      <td>Middle Atlantic</td>\n",
              "    </tr>\n",
              "  </tbody>\n",
              "</table>\n",
              "</div>"
            ],
            "text/plain": [
              "  Do you typically check a daily weather report?  ...        US Region\n",
              "0                                            Yes  ...   South Atlantic\n",
              "1                                            Yes  ...                -\n",
              "2                                            Yes  ...  Middle Atlantic\n",
              "3                                            Yes  ...                -\n",
              "4                                            Yes  ...  Middle Atlantic\n",
              "\n",
              "[5 rows x 7 columns]"
            ]
          },
          "metadata": {
            "tags": []
          },
          "execution_count": 13
        }
      ]
    },
    {
      "cell_type": "markdown",
      "metadata": {
        "id": "MfnkC6kcFVwZ"
      },
      "source": [
        "Далее выполним перекодировку признаков с помощью метода `pd.get_dummies`. \n",
        "\n",
        "Конечно, для таких признаков как \"заработок\" или \"регион проживания\" можно выполнить более интеллектуальное преобразование (например учитывающее, что ответ \"50,000 to  74,999\" ближе к \"80,000 to 99,999\", чем к \"150,000 to 174,999\"), но для первого подхода мы этого делать не будем."
      ]
    },
    {
      "cell_type": "code",
      "metadata": {
        "colab": {
          "base_uri": "https://localhost:8080/",
          "height": 738
        },
        "id": "Xy6rBUVVFVwZ",
        "outputId": "76c35e69-c07a-4180-f52f-b8e7bf02c09c"
      },
      "source": [
        "df_dummy = pd.get_dummies(df)\n",
        "df_dummy"
      ],
      "execution_count": 14,
      "outputs": [
        {
          "output_type": "execute_result",
          "data": {
            "text/html": [
              "<div>\n",
              "<style scoped>\n",
              "    .dataframe tbody tr th:only-of-type {\n",
              "        vertical-align: middle;\n",
              "    }\n",
              "\n",
              "    .dataframe tbody tr th {\n",
              "        vertical-align: top;\n",
              "    }\n",
              "\n",
              "    .dataframe thead th {\n",
              "        text-align: right;\n",
              "    }\n",
              "</style>\n",
              "<table border=\"1\" class=\"dataframe\">\n",
              "  <thead>\n",
              "    <tr style=\"text-align: right;\">\n",
              "      <th></th>\n",
              "      <th>Do you typically check a daily weather report?_No</th>\n",
              "      <th>Do you typically check a daily weather report?_Yes</th>\n",
              "      <th>How do you typically check the weather?_-</th>\n",
              "      <th>How do you typically check the weather?_A specific website or app (please provide the answer)</th>\n",
              "      <th>How do you typically check the weather?_Internet search</th>\n",
              "      <th>How do you typically check the weather?_Local TV News</th>\n",
              "      <th>How do you typically check the weather?_Newsletter</th>\n",
              "      <th>How do you typically check the weather?_Newspaper</th>\n",
              "      <th>How do you typically check the weather?_Radio weather</th>\n",
              "      <th>How do you typically check the weather?_The Weather Channel</th>\n",
              "      <th>How do you typically check the weather?_The default weather app on your phone</th>\n",
              "      <th>If you had a smartwatch (like the soon to be released Apple Watch), how likely or unlikely would you be to check the weather on that device?_-</th>\n",
              "      <th>If you had a smartwatch (like the soon to be released Apple Watch), how likely or unlikely would you be to check the weather on that device?_Somewhat likely</th>\n",
              "      <th>If you had a smartwatch (like the soon to be released Apple Watch), how likely or unlikely would you be to check the weather on that device?_Somewhat unlikely</th>\n",
              "      <th>If you had a smartwatch (like the soon to be released Apple Watch), how likely or unlikely would you be to check the weather on that device?_Very likely</th>\n",
              "      <th>If you had a smartwatch (like the soon to be released Apple Watch), how likely or unlikely would you be to check the weather on that device?_Very unlikely</th>\n",
              "      <th>Age_-</th>\n",
              "      <th>Age_18 - 29</th>\n",
              "      <th>Age_30 - 44</th>\n",
              "      <th>Age_45 - 59</th>\n",
              "      <th>Age_60+</th>\n",
              "      <th>What is your gender?_-</th>\n",
              "      <th>What is your gender?_Female</th>\n",
              "      <th>What is your gender?_Male</th>\n",
              "      <th>How much total combined money did all members of your HOUSEHOLD earn last year?_$0 to $9,999</th>\n",
              "      <th>How much total combined money did all members of your HOUSEHOLD earn last year?_$10,000 to $24,999</th>\n",
              "      <th>How much total combined money did all members of your HOUSEHOLD earn last year?_$100,000 to $124,999</th>\n",
              "      <th>How much total combined money did all members of your HOUSEHOLD earn last year?_$125,000 to $149,999</th>\n",
              "      <th>How much total combined money did all members of your HOUSEHOLD earn last year?_$150,000 to $174,999</th>\n",
              "      <th>How much total combined money did all members of your HOUSEHOLD earn last year?_$175,000 to $199,999</th>\n",
              "      <th>How much total combined money did all members of your HOUSEHOLD earn last year?_$200,000 and up</th>\n",
              "      <th>How much total combined money did all members of your HOUSEHOLD earn last year?_$25,000 to $49,999</th>\n",
              "      <th>How much total combined money did all members of your HOUSEHOLD earn last year?_$50,000 to $74,999</th>\n",
              "      <th>How much total combined money did all members of your HOUSEHOLD earn last year?_$75,000 to $99,999</th>\n",
              "      <th>How much total combined money did all members of your HOUSEHOLD earn last year?_-</th>\n",
              "      <th>How much total combined money did all members of your HOUSEHOLD earn last year?_Prefer not to answer</th>\n",
              "      <th>US Region_-</th>\n",
              "      <th>US Region_East North Central</th>\n",
              "      <th>US Region_East South Central</th>\n",
              "      <th>US Region_Middle Atlantic</th>\n",
              "      <th>US Region_Mountain</th>\n",
              "      <th>US Region_New England</th>\n",
              "      <th>US Region_Pacific</th>\n",
              "      <th>US Region_South Atlantic</th>\n",
              "      <th>US Region_West North Central</th>\n",
              "      <th>US Region_West South Central</th>\n",
              "    </tr>\n",
              "  </thead>\n",
              "  <tbody>\n",
              "    <tr>\n",
              "      <th>0</th>\n",
              "      <td>0</td>\n",
              "      <td>1</td>\n",
              "      <td>0</td>\n",
              "      <td>0</td>\n",
              "      <td>0</td>\n",
              "      <td>0</td>\n",
              "      <td>0</td>\n",
              "      <td>0</td>\n",
              "      <td>0</td>\n",
              "      <td>0</td>\n",
              "      <td>1</td>\n",
              "      <td>0</td>\n",
              "      <td>0</td>\n",
              "      <td>0</td>\n",
              "      <td>1</td>\n",
              "      <td>0</td>\n",
              "      <td>0</td>\n",
              "      <td>0</td>\n",
              "      <td>1</td>\n",
              "      <td>0</td>\n",
              "      <td>0</td>\n",
              "      <td>0</td>\n",
              "      <td>0</td>\n",
              "      <td>1</td>\n",
              "      <td>0</td>\n",
              "      <td>0</td>\n",
              "      <td>0</td>\n",
              "      <td>0</td>\n",
              "      <td>0</td>\n",
              "      <td>0</td>\n",
              "      <td>0</td>\n",
              "      <td>0</td>\n",
              "      <td>1</td>\n",
              "      <td>0</td>\n",
              "      <td>0</td>\n",
              "      <td>0</td>\n",
              "      <td>0</td>\n",
              "      <td>0</td>\n",
              "      <td>0</td>\n",
              "      <td>0</td>\n",
              "      <td>0</td>\n",
              "      <td>0</td>\n",
              "      <td>0</td>\n",
              "      <td>1</td>\n",
              "      <td>0</td>\n",
              "      <td>0</td>\n",
              "    </tr>\n",
              "    <tr>\n",
              "      <th>1</th>\n",
              "      <td>0</td>\n",
              "      <td>1</td>\n",
              "      <td>0</td>\n",
              "      <td>0</td>\n",
              "      <td>0</td>\n",
              "      <td>0</td>\n",
              "      <td>0</td>\n",
              "      <td>0</td>\n",
              "      <td>0</td>\n",
              "      <td>0</td>\n",
              "      <td>1</td>\n",
              "      <td>0</td>\n",
              "      <td>0</td>\n",
              "      <td>0</td>\n",
              "      <td>1</td>\n",
              "      <td>0</td>\n",
              "      <td>0</td>\n",
              "      <td>1</td>\n",
              "      <td>0</td>\n",
              "      <td>0</td>\n",
              "      <td>0</td>\n",
              "      <td>0</td>\n",
              "      <td>0</td>\n",
              "      <td>1</td>\n",
              "      <td>0</td>\n",
              "      <td>0</td>\n",
              "      <td>0</td>\n",
              "      <td>0</td>\n",
              "      <td>0</td>\n",
              "      <td>0</td>\n",
              "      <td>0</td>\n",
              "      <td>0</td>\n",
              "      <td>0</td>\n",
              "      <td>0</td>\n",
              "      <td>0</td>\n",
              "      <td>1</td>\n",
              "      <td>1</td>\n",
              "      <td>0</td>\n",
              "      <td>0</td>\n",
              "      <td>0</td>\n",
              "      <td>0</td>\n",
              "      <td>0</td>\n",
              "      <td>0</td>\n",
              "      <td>0</td>\n",
              "      <td>0</td>\n",
              "      <td>0</td>\n",
              "    </tr>\n",
              "    <tr>\n",
              "      <th>2</th>\n",
              "      <td>0</td>\n",
              "      <td>1</td>\n",
              "      <td>0</td>\n",
              "      <td>0</td>\n",
              "      <td>0</td>\n",
              "      <td>0</td>\n",
              "      <td>0</td>\n",
              "      <td>0</td>\n",
              "      <td>0</td>\n",
              "      <td>0</td>\n",
              "      <td>1</td>\n",
              "      <td>0</td>\n",
              "      <td>0</td>\n",
              "      <td>0</td>\n",
              "      <td>1</td>\n",
              "      <td>0</td>\n",
              "      <td>0</td>\n",
              "      <td>0</td>\n",
              "      <td>1</td>\n",
              "      <td>0</td>\n",
              "      <td>0</td>\n",
              "      <td>0</td>\n",
              "      <td>0</td>\n",
              "      <td>1</td>\n",
              "      <td>0</td>\n",
              "      <td>0</td>\n",
              "      <td>1</td>\n",
              "      <td>0</td>\n",
              "      <td>0</td>\n",
              "      <td>0</td>\n",
              "      <td>0</td>\n",
              "      <td>0</td>\n",
              "      <td>0</td>\n",
              "      <td>0</td>\n",
              "      <td>0</td>\n",
              "      <td>0</td>\n",
              "      <td>0</td>\n",
              "      <td>0</td>\n",
              "      <td>0</td>\n",
              "      <td>1</td>\n",
              "      <td>0</td>\n",
              "      <td>0</td>\n",
              "      <td>0</td>\n",
              "      <td>0</td>\n",
              "      <td>0</td>\n",
              "      <td>0</td>\n",
              "    </tr>\n",
              "    <tr>\n",
              "      <th>3</th>\n",
              "      <td>0</td>\n",
              "      <td>1</td>\n",
              "      <td>0</td>\n",
              "      <td>0</td>\n",
              "      <td>0</td>\n",
              "      <td>0</td>\n",
              "      <td>0</td>\n",
              "      <td>0</td>\n",
              "      <td>0</td>\n",
              "      <td>0</td>\n",
              "      <td>1</td>\n",
              "      <td>0</td>\n",
              "      <td>1</td>\n",
              "      <td>0</td>\n",
              "      <td>0</td>\n",
              "      <td>0</td>\n",
              "      <td>0</td>\n",
              "      <td>0</td>\n",
              "      <td>1</td>\n",
              "      <td>0</td>\n",
              "      <td>0</td>\n",
              "      <td>0</td>\n",
              "      <td>0</td>\n",
              "      <td>1</td>\n",
              "      <td>0</td>\n",
              "      <td>0</td>\n",
              "      <td>0</td>\n",
              "      <td>0</td>\n",
              "      <td>0</td>\n",
              "      <td>0</td>\n",
              "      <td>0</td>\n",
              "      <td>0</td>\n",
              "      <td>0</td>\n",
              "      <td>0</td>\n",
              "      <td>0</td>\n",
              "      <td>1</td>\n",
              "      <td>1</td>\n",
              "      <td>0</td>\n",
              "      <td>0</td>\n",
              "      <td>0</td>\n",
              "      <td>0</td>\n",
              "      <td>0</td>\n",
              "      <td>0</td>\n",
              "      <td>0</td>\n",
              "      <td>0</td>\n",
              "      <td>0</td>\n",
              "    </tr>\n",
              "    <tr>\n",
              "      <th>4</th>\n",
              "      <td>0</td>\n",
              "      <td>1</td>\n",
              "      <td>0</td>\n",
              "      <td>1</td>\n",
              "      <td>0</td>\n",
              "      <td>0</td>\n",
              "      <td>0</td>\n",
              "      <td>0</td>\n",
              "      <td>0</td>\n",
              "      <td>0</td>\n",
              "      <td>0</td>\n",
              "      <td>0</td>\n",
              "      <td>0</td>\n",
              "      <td>0</td>\n",
              "      <td>1</td>\n",
              "      <td>0</td>\n",
              "      <td>0</td>\n",
              "      <td>0</td>\n",
              "      <td>1</td>\n",
              "      <td>0</td>\n",
              "      <td>0</td>\n",
              "      <td>0</td>\n",
              "      <td>0</td>\n",
              "      <td>1</td>\n",
              "      <td>0</td>\n",
              "      <td>0</td>\n",
              "      <td>0</td>\n",
              "      <td>0</td>\n",
              "      <td>1</td>\n",
              "      <td>0</td>\n",
              "      <td>0</td>\n",
              "      <td>0</td>\n",
              "      <td>0</td>\n",
              "      <td>0</td>\n",
              "      <td>0</td>\n",
              "      <td>0</td>\n",
              "      <td>0</td>\n",
              "      <td>0</td>\n",
              "      <td>0</td>\n",
              "      <td>1</td>\n",
              "      <td>0</td>\n",
              "      <td>0</td>\n",
              "      <td>0</td>\n",
              "      <td>0</td>\n",
              "      <td>0</td>\n",
              "      <td>0</td>\n",
              "    </tr>\n",
              "    <tr>\n",
              "      <th>...</th>\n",
              "      <td>...</td>\n",
              "      <td>...</td>\n",
              "      <td>...</td>\n",
              "      <td>...</td>\n",
              "      <td>...</td>\n",
              "      <td>...</td>\n",
              "      <td>...</td>\n",
              "      <td>...</td>\n",
              "      <td>...</td>\n",
              "      <td>...</td>\n",
              "      <td>...</td>\n",
              "      <td>...</td>\n",
              "      <td>...</td>\n",
              "      <td>...</td>\n",
              "      <td>...</td>\n",
              "      <td>...</td>\n",
              "      <td>...</td>\n",
              "      <td>...</td>\n",
              "      <td>...</td>\n",
              "      <td>...</td>\n",
              "      <td>...</td>\n",
              "      <td>...</td>\n",
              "      <td>...</td>\n",
              "      <td>...</td>\n",
              "      <td>...</td>\n",
              "      <td>...</td>\n",
              "      <td>...</td>\n",
              "      <td>...</td>\n",
              "      <td>...</td>\n",
              "      <td>...</td>\n",
              "      <td>...</td>\n",
              "      <td>...</td>\n",
              "      <td>...</td>\n",
              "      <td>...</td>\n",
              "      <td>...</td>\n",
              "      <td>...</td>\n",
              "      <td>...</td>\n",
              "      <td>...</td>\n",
              "      <td>...</td>\n",
              "      <td>...</td>\n",
              "      <td>...</td>\n",
              "      <td>...</td>\n",
              "      <td>...</td>\n",
              "      <td>...</td>\n",
              "      <td>...</td>\n",
              "      <td>...</td>\n",
              "    </tr>\n",
              "    <tr>\n",
              "      <th>923</th>\n",
              "      <td>0</td>\n",
              "      <td>1</td>\n",
              "      <td>0</td>\n",
              "      <td>0</td>\n",
              "      <td>0</td>\n",
              "      <td>0</td>\n",
              "      <td>0</td>\n",
              "      <td>0</td>\n",
              "      <td>0</td>\n",
              "      <td>1</td>\n",
              "      <td>0</td>\n",
              "      <td>0</td>\n",
              "      <td>0</td>\n",
              "      <td>0</td>\n",
              "      <td>1</td>\n",
              "      <td>0</td>\n",
              "      <td>0</td>\n",
              "      <td>0</td>\n",
              "      <td>0</td>\n",
              "      <td>1</td>\n",
              "      <td>0</td>\n",
              "      <td>0</td>\n",
              "      <td>1</td>\n",
              "      <td>0</td>\n",
              "      <td>0</td>\n",
              "      <td>0</td>\n",
              "      <td>0</td>\n",
              "      <td>0</td>\n",
              "      <td>0</td>\n",
              "      <td>0</td>\n",
              "      <td>0</td>\n",
              "      <td>0</td>\n",
              "      <td>0</td>\n",
              "      <td>0</td>\n",
              "      <td>0</td>\n",
              "      <td>1</td>\n",
              "      <td>0</td>\n",
              "      <td>0</td>\n",
              "      <td>0</td>\n",
              "      <td>0</td>\n",
              "      <td>0</td>\n",
              "      <td>0</td>\n",
              "      <td>1</td>\n",
              "      <td>0</td>\n",
              "      <td>0</td>\n",
              "      <td>0</td>\n",
              "    </tr>\n",
              "    <tr>\n",
              "      <th>924</th>\n",
              "      <td>0</td>\n",
              "      <td>1</td>\n",
              "      <td>0</td>\n",
              "      <td>0</td>\n",
              "      <td>0</td>\n",
              "      <td>0</td>\n",
              "      <td>0</td>\n",
              "      <td>0</td>\n",
              "      <td>0</td>\n",
              "      <td>0</td>\n",
              "      <td>1</td>\n",
              "      <td>0</td>\n",
              "      <td>0</td>\n",
              "      <td>0</td>\n",
              "      <td>1</td>\n",
              "      <td>0</td>\n",
              "      <td>0</td>\n",
              "      <td>0</td>\n",
              "      <td>1</td>\n",
              "      <td>0</td>\n",
              "      <td>0</td>\n",
              "      <td>0</td>\n",
              "      <td>1</td>\n",
              "      <td>0</td>\n",
              "      <td>0</td>\n",
              "      <td>0</td>\n",
              "      <td>0</td>\n",
              "      <td>0</td>\n",
              "      <td>0</td>\n",
              "      <td>0</td>\n",
              "      <td>0</td>\n",
              "      <td>0</td>\n",
              "      <td>0</td>\n",
              "      <td>0</td>\n",
              "      <td>0</td>\n",
              "      <td>1</td>\n",
              "      <td>0</td>\n",
              "      <td>0</td>\n",
              "      <td>0</td>\n",
              "      <td>0</td>\n",
              "      <td>0</td>\n",
              "      <td>0</td>\n",
              "      <td>0</td>\n",
              "      <td>1</td>\n",
              "      <td>0</td>\n",
              "      <td>0</td>\n",
              "    </tr>\n",
              "    <tr>\n",
              "      <th>925</th>\n",
              "      <td>0</td>\n",
              "      <td>1</td>\n",
              "      <td>0</td>\n",
              "      <td>0</td>\n",
              "      <td>0</td>\n",
              "      <td>1</td>\n",
              "      <td>0</td>\n",
              "      <td>0</td>\n",
              "      <td>0</td>\n",
              "      <td>0</td>\n",
              "      <td>0</td>\n",
              "      <td>0</td>\n",
              "      <td>1</td>\n",
              "      <td>0</td>\n",
              "      <td>0</td>\n",
              "      <td>0</td>\n",
              "      <td>0</td>\n",
              "      <td>0</td>\n",
              "      <td>0</td>\n",
              "      <td>0</td>\n",
              "      <td>1</td>\n",
              "      <td>0</td>\n",
              "      <td>1</td>\n",
              "      <td>0</td>\n",
              "      <td>0</td>\n",
              "      <td>0</td>\n",
              "      <td>0</td>\n",
              "      <td>0</td>\n",
              "      <td>0</td>\n",
              "      <td>0</td>\n",
              "      <td>0</td>\n",
              "      <td>0</td>\n",
              "      <td>0</td>\n",
              "      <td>0</td>\n",
              "      <td>0</td>\n",
              "      <td>1</td>\n",
              "      <td>0</td>\n",
              "      <td>0</td>\n",
              "      <td>0</td>\n",
              "      <td>0</td>\n",
              "      <td>0</td>\n",
              "      <td>0</td>\n",
              "      <td>1</td>\n",
              "      <td>0</td>\n",
              "      <td>0</td>\n",
              "      <td>0</td>\n",
              "    </tr>\n",
              "    <tr>\n",
              "      <th>926</th>\n",
              "      <td>1</td>\n",
              "      <td>0</td>\n",
              "      <td>1</td>\n",
              "      <td>0</td>\n",
              "      <td>0</td>\n",
              "      <td>0</td>\n",
              "      <td>0</td>\n",
              "      <td>0</td>\n",
              "      <td>0</td>\n",
              "      <td>0</td>\n",
              "      <td>0</td>\n",
              "      <td>1</td>\n",
              "      <td>0</td>\n",
              "      <td>0</td>\n",
              "      <td>0</td>\n",
              "      <td>0</td>\n",
              "      <td>1</td>\n",
              "      <td>0</td>\n",
              "      <td>0</td>\n",
              "      <td>0</td>\n",
              "      <td>0</td>\n",
              "      <td>1</td>\n",
              "      <td>0</td>\n",
              "      <td>0</td>\n",
              "      <td>0</td>\n",
              "      <td>0</td>\n",
              "      <td>0</td>\n",
              "      <td>0</td>\n",
              "      <td>0</td>\n",
              "      <td>0</td>\n",
              "      <td>0</td>\n",
              "      <td>0</td>\n",
              "      <td>0</td>\n",
              "      <td>0</td>\n",
              "      <td>1</td>\n",
              "      <td>0</td>\n",
              "      <td>1</td>\n",
              "      <td>0</td>\n",
              "      <td>0</td>\n",
              "      <td>0</td>\n",
              "      <td>0</td>\n",
              "      <td>0</td>\n",
              "      <td>0</td>\n",
              "      <td>0</td>\n",
              "      <td>0</td>\n",
              "      <td>0</td>\n",
              "    </tr>\n",
              "    <tr>\n",
              "      <th>927</th>\n",
              "      <td>0</td>\n",
              "      <td>1</td>\n",
              "      <td>1</td>\n",
              "      <td>0</td>\n",
              "      <td>0</td>\n",
              "      <td>0</td>\n",
              "      <td>0</td>\n",
              "      <td>0</td>\n",
              "      <td>0</td>\n",
              "      <td>0</td>\n",
              "      <td>0</td>\n",
              "      <td>1</td>\n",
              "      <td>0</td>\n",
              "      <td>0</td>\n",
              "      <td>0</td>\n",
              "      <td>0</td>\n",
              "      <td>1</td>\n",
              "      <td>0</td>\n",
              "      <td>0</td>\n",
              "      <td>0</td>\n",
              "      <td>0</td>\n",
              "      <td>1</td>\n",
              "      <td>0</td>\n",
              "      <td>0</td>\n",
              "      <td>0</td>\n",
              "      <td>0</td>\n",
              "      <td>0</td>\n",
              "      <td>0</td>\n",
              "      <td>0</td>\n",
              "      <td>0</td>\n",
              "      <td>0</td>\n",
              "      <td>0</td>\n",
              "      <td>0</td>\n",
              "      <td>0</td>\n",
              "      <td>1</td>\n",
              "      <td>0</td>\n",
              "      <td>1</td>\n",
              "      <td>0</td>\n",
              "      <td>0</td>\n",
              "      <td>0</td>\n",
              "      <td>0</td>\n",
              "      <td>0</td>\n",
              "      <td>0</td>\n",
              "      <td>0</td>\n",
              "      <td>0</td>\n",
              "      <td>0</td>\n",
              "    </tr>\n",
              "  </tbody>\n",
              "</table>\n",
              "<p>928 rows × 46 columns</p>\n",
              "</div>"
            ],
            "text/plain": [
              "     Do you typically check a daily weather report?_No  ...  US Region_West South Central\n",
              "0                                                    0  ...                             0\n",
              "1                                                    0  ...                             0\n",
              "2                                                    0  ...                             0\n",
              "3                                                    0  ...                             0\n",
              "4                                                    0  ...                             0\n",
              "..                                                 ...  ...                           ...\n",
              "923                                                  0  ...                             0\n",
              "924                                                  0  ...                             0\n",
              "925                                                  0  ...                             0\n",
              "926                                                  1  ...                             0\n",
              "927                                                  0  ...                             0\n",
              "\n",
              "[928 rows x 46 columns]"
            ]
          },
          "metadata": {
            "tags": []
          },
          "execution_count": 14
        }
      ]
    },
    {
      "cell_type": "code",
      "metadata": {
        "id": "rMPOdIakSULH",
        "outputId": "b21ee8d4-e46e-4e3c-b795-1e0bf7cf7e61",
        "colab": {
          "base_uri": "https://localhost:8080/"
        }
      },
      "source": [
        "df_dummy.columns"
      ],
      "execution_count": 35,
      "outputs": [
        {
          "output_type": "execute_result",
          "data": {
            "text/plain": [
              "Index(['Do you typically check a daily weather report?_No',\n",
              "       'Do you typically check a daily weather report?_Yes',\n",
              "       'How do you typically check the weather?_-',\n",
              "       'How do you typically check the weather?_A specific website or app (please provide the answer)',\n",
              "       'How do you typically check the weather?_Internet search',\n",
              "       'How do you typically check the weather?_Local TV News',\n",
              "       'How do you typically check the weather?_Newsletter',\n",
              "       'How do you typically check the weather?_Newspaper',\n",
              "       'How do you typically check the weather?_Radio weather',\n",
              "       'How do you typically check the weather?_The Weather Channel',\n",
              "       'How do you typically check the weather?_The default weather app on your phone',\n",
              "       'If you had a smartwatch (like the soon to be released Apple Watch), how likely or unlikely would you be to check the weather on that device?_-',\n",
              "       'If you had a smartwatch (like the soon to be released Apple Watch), how likely or unlikely would you be to check the weather on that device?_Somewhat likely',\n",
              "       'If you had a smartwatch (like the soon to be released Apple Watch), how likely or unlikely would you be to check the weather on that device?_Somewhat unlikely',\n",
              "       'If you had a smartwatch (like the soon to be released Apple Watch), how likely or unlikely would you be to check the weather on that device?_Very likely',\n",
              "       'If you had a smartwatch (like the soon to be released Apple Watch), how likely or unlikely would you be to check the weather on that device?_Very unlikely',\n",
              "       'Age_-', 'Age_18 - 29', 'Age_30 - 44', 'Age_45 - 59', 'Age_60+',\n",
              "       'What is your gender?_-', 'What is your gender?_Female',\n",
              "       'What is your gender?_Male',\n",
              "       'How much total combined money did all members of your HOUSEHOLD earn last year?_$0 to $9,999',\n",
              "       'How much total combined money did all members of your HOUSEHOLD earn last year?_$10,000 to $24,999',\n",
              "       'How much total combined money did all members of your HOUSEHOLD earn last year?_$100,000 to $124,999',\n",
              "       'How much total combined money did all members of your HOUSEHOLD earn last year?_$125,000 to $149,999',\n",
              "       'How much total combined money did all members of your HOUSEHOLD earn last year?_$150,000 to $174,999',\n",
              "       'How much total combined money did all members of your HOUSEHOLD earn last year?_$175,000 to $199,999',\n",
              "       'How much total combined money did all members of your HOUSEHOLD earn last year?_$200,000 and up',\n",
              "       'How much total combined money did all members of your HOUSEHOLD earn last year?_$25,000 to $49,999',\n",
              "       'How much total combined money did all members of your HOUSEHOLD earn last year?_$50,000 to $74,999',\n",
              "       'How much total combined money did all members of your HOUSEHOLD earn last year?_$75,000 to $99,999',\n",
              "       'How much total combined money did all members of your HOUSEHOLD earn last year?_-',\n",
              "       'How much total combined money did all members of your HOUSEHOLD earn last year?_Prefer not to answer',\n",
              "       'US Region_-', 'US Region_East North Central',\n",
              "       'US Region_East South Central', 'US Region_Middle Atlantic',\n",
              "       'US Region_Mountain', 'US Region_New England', 'US Region_Pacific',\n",
              "       'US Region_South Atlantic', 'US Region_West North Central',\n",
              "       'US Region_West South Central'],\n",
              "      dtype='object')"
            ]
          },
          "metadata": {
            "tags": []
          },
          "execution_count": 35
        }
      ]
    },
    {
      "cell_type": "code",
      "metadata": {
        "colab": {
          "base_uri": "https://localhost:8080/"
        },
        "id": "i2H4l3i1FVwZ",
        "outputId": "c614083c-3dc2-48dd-f419-a12d08742fcb"
      },
      "source": [
        "X = df_dummy.values\n",
        "X"
      ],
      "execution_count": 15,
      "outputs": [
        {
          "output_type": "execute_result",
          "data": {
            "text/plain": [
              "array([[0, 1, 0, ..., 1, 0, 0],\n",
              "       [0, 1, 0, ..., 0, 0, 0],\n",
              "       [0, 1, 0, ..., 0, 0, 0],\n",
              "       ...,\n",
              "       [0, 1, 0, ..., 0, 0, 0],\n",
              "       [1, 0, 1, ..., 0, 0, 0],\n",
              "       [0, 1, 1, ..., 0, 0, 0]], dtype=uint8)"
            ]
          },
          "metadata": {
            "tags": []
          },
          "execution_count": 15
        }
      ]
    },
    {
      "cell_type": "code",
      "metadata": {
        "colab": {
          "base_uri": "https://localhost:8080/"
        },
        "id": "z9l7p3nhJklB",
        "outputId": "21e5ace6-d2a8-4825-8e91-89cf6653a470"
      },
      "source": [
        "X.shape"
      ],
      "execution_count": 16,
      "outputs": [
        {
          "output_type": "execute_result",
          "data": {
            "text/plain": [
              "(928, 46)"
            ]
          },
          "metadata": {
            "tags": []
          },
          "execution_count": 16
        }
      ]
    },
    {
      "cell_type": "markdown",
      "metadata": {
        "id": "Qy5ARDJ5FVwZ"
      },
      "source": [
        "## Kmeans"
      ]
    },
    {
      "cell_type": "markdown",
      "metadata": {
        "id": "tr6vK-RpFVwa"
      },
      "source": [
        "Обычно, результаты kmeans на данных, полностью состоящим из категориальных признаков, получаются не такими хорошими.\n",
        "\n",
        "* Обучите метод к-средних с `n_clusters` от 2 до 20 и `random_state=123`\n",
        "* Создайте массив `scores`\n",
        "* Для каждого запуска вычислите `silhouette_score` полученной кластеризации\n",
        "* В переменную `answer1` сохраните значение наибольшего значения из `scores` c точностью до сотых"
      ]
    },
    {
      "cell_type": "code",
      "metadata": {
        "id": "BmfvnLunFVwa"
      },
      "source": [
        "from sklearn.cluster import KMeans\n",
        "from sklearn.metrics import silhouette_score"
      ],
      "execution_count": 17,
      "outputs": []
    },
    {
      "cell_type": "markdown",
      "metadata": {
        "id": "3OHkidq1FVwa"
      },
      "source": [
        "### *РЕШЕНИЕ*"
      ]
    },
    {
      "cell_type": "code",
      "metadata": {
        "colab": {
          "base_uri": "https://localhost:8080/"
        },
        "id": "EK8g3TdMFVwa",
        "outputId": "625fa8b9-e886-4c52-fb73-604072e6abc7"
      },
      "source": [
        "scores=[]\n",
        "for k in range(2,21):\n",
        "  kmeans = KMeans(n_clusters=k, random_state=123)\n",
        "  preds = kmeans.fit_predict(X)\n",
        "  \n",
        "  score = silhouette_score(X, preds, metric='euclidean')\n",
        "  print(\"For n_clusters = {}, silhouette score is {})\".format(k, score))"
      ],
      "execution_count": 18,
      "outputs": [
        {
          "output_type": "stream",
          "text": [
            "For n_clusters = 2, silhouette score is 0.1002864128782305)\n",
            "For n_clusters = 3, silhouette score is 0.09920088935026475)\n",
            "For n_clusters = 4, silhouette score is 0.0746796877850485)\n",
            "For n_clusters = 5, silhouette score is 0.07491743301394561)\n",
            "For n_clusters = 6, silhouette score is 0.07869785568966982)\n",
            "For n_clusters = 7, silhouette score is 0.08446868973633206)\n",
            "For n_clusters = 8, silhouette score is 0.08389226369629658)\n",
            "For n_clusters = 9, silhouette score is 0.09451887876780597)\n",
            "For n_clusters = 10, silhouette score is 0.08266799506510034)\n",
            "For n_clusters = 11, silhouette score is 0.09152435149475281)\n",
            "For n_clusters = 12, silhouette score is 0.09399945157985837)\n",
            "For n_clusters = 13, silhouette score is 0.08694070029493774)\n",
            "For n_clusters = 14, silhouette score is 0.08694689169771751)\n",
            "For n_clusters = 15, silhouette score is 0.09116875200745587)\n",
            "For n_clusters = 16, silhouette score is 0.09127423977908083)\n",
            "For n_clusters = 17, silhouette score is 0.09445328116270414)\n",
            "For n_clusters = 18, silhouette score is 0.09783838944367566)\n",
            "For n_clusters = 19, silhouette score is 0.09881756385018525)\n",
            "For n_clusters = 20, silhouette score is 0.10210623529244543)\n"
          ],
          "name": "stdout"
        }
      ]
    },
    {
      "cell_type": "markdown",
      "metadata": {
        "id": "sXTw_SBrFVwb"
      },
      "source": [
        "## Агломеративная кластеризация"
      ]
    },
    {
      "cell_type": "markdown",
      "metadata": {
        "id": "ie0ptEYxFVwb"
      },
      "source": [
        "Попробуем применить агломеративную кластеризацию\n",
        "\n",
        "* Прогоните метод с параметрами `method='average'`, `metric='cosine'`\n",
        "* Визуализируйте полученную дендрограмму\n",
        "* Выделите 5 кластеров из полученной иерархии\n",
        "* В переменную `answer2` запишите долю мужчин во втором по величине кластере с точностью до сотых"
      ]
    },
    {
      "cell_type": "code",
      "metadata": {
        "id": "zRzx5mY8FVwb"
      },
      "source": [
        "from scipy.cluster.hierarchy import fcluster, dendrogram, linkage"
      ],
      "execution_count": 19,
      "outputs": []
    },
    {
      "cell_type": "markdown",
      "metadata": {
        "id": "gBOOgnF1FVwb"
      },
      "source": [
        "### *РЕШЕНИЕ*"
      ]
    },
    {
      "cell_type": "code",
      "metadata": {
        "colab": {
          "base_uri": "https://localhost:8080/"
        },
        "id": "n8Br-IQ7FVwc",
        "outputId": "0afdb038-8d1a-4b58-abe2-9131245d385c"
      },
      "source": [
        "Z = linkage(X, method='average', metric='cosine')\n",
        "Z"
      ],
      "execution_count": 39,
      "outputs": [
        {
          "output_type": "execute_result",
          "data": {
            "text/plain": [
              "array([[2.00000000e+00, 4.30000000e+01, 1.11022302e-16, 2.00000000e+00],\n",
              "       [7.00000000e+00, 7.40000000e+01, 1.11022302e-16, 2.00000000e+00],\n",
              "       [1.20000000e+01, 2.40000000e+01, 1.11022302e-16, 2.00000000e+00],\n",
              "       ...,\n",
              "       [1.84600000e+03, 1.84900000e+03, 7.14213948e-01, 7.64000000e+02],\n",
              "       [1.85100000e+03, 1.85200000e+03, 7.87793272e-01, 9.16000000e+02],\n",
              "       [1.62200000e+03, 1.85300000e+03, 9.12806717e-01, 9.28000000e+02]])"
            ]
          },
          "metadata": {
            "tags": []
          },
          "execution_count": 39
        }
      ]
    },
    {
      "cell_type": "code",
      "metadata": {
        "id": "RdqHFJ4ATw03",
        "outputId": "5cf63993-1342-4685-8658-788322eef40d",
        "colab": {
          "base_uri": "https://localhost:8080/",
          "height": 326
        }
      },
      "source": [
        "dend = dendrogram(Z, orientation='left', color_threshold=0.0, labels=X)"
      ],
      "execution_count": 40,
      "outputs": [
        {
          "output_type": "stream",
          "text": [
            "/usr/local/lib/python3.7/dist-packages/matplotlib/text.py:1165: FutureWarning: elementwise comparison failed; returning scalar instead, but in the future will perform elementwise comparison\n",
            "  if s != self._text:\n"
          ],
          "name": "stderr"
        },
        {
          "output_type": "display_data",
          "data": {
            "image/png": "[encoded data removed]",
            "text/plain": [
              "<Figure size 432x288 with 1 Axes>"
            ]
          },
          "metadata": {
            "tags": [],
            "needs_background": "light"
          }
        }
      ]
    },
    {
      "cell_type": "code",
      "metadata": {
        "colab": {
          "base_uri": "https://localhost:8080/"
        },
        "id": "QPbtRZ4AOhVc",
        "outputId": "5e2a63ac-0dac-4694-bf9f-decd68da6c15"
      },
      "source": [
        "label = fcluster(Z, 0.35, criterion='distance')\n",
        "np.unique(label)"
      ],
      "execution_count": 36,
      "outputs": [
        {
          "output_type": "execute_result",
          "data": {
            "text/plain": [
              "array([1, 2, 3, 4, 5, 6, 7, 8, 9], dtype=int32)"
            ]
          },
          "metadata": {
            "tags": []
          },
          "execution_count": 36
        }
      ]
    },
    {
      "cell_type": "code",
      "metadata": {
        "colab": {
          "base_uri": "https://localhost:8080/"
        },
        "id": "11hpApN_PUKq",
        "outputId": "d91b1407-3253-4c98-f596-54c4ac5f3709"
      },
      "source": [
        "df.loc[:,'label'] = label\n",
        "for i, group in df.groupby('label'):\n",
        "  print('=' * 10)\n",
        "  print('cluster {}'.format(i))\n",
        "  print(group)"
      ],
      "execution_count": 37,
      "outputs": [
        {
          "output_type": "stream",
          "text": [
            "==========\n",
            "cluster 1\n",
            "    Do you typically check a daily weather report?  ... label\n",
            "7                                              Yes  ...     1\n",
            "12                                              No  ...     1\n",
            "24                                              No  ...     1\n",
            "74                                             Yes  ...     1\n",
            "406                                            Yes  ...     1\n",
            "407                                            Yes  ...     1\n",
            "542                                            Yes  ...     1\n",
            "569                                             No  ...     1\n",
            "576                                            Yes  ...     1\n",
            "879                                             No  ...     1\n",
            "926                                             No  ...     1\n",
            "927                                            Yes  ...     1\n",
            "\n",
            "[12 rows x 8 columns]\n",
            "==========\n",
            "cluster 2\n",
            "    Do you typically check a daily weather report?  ... label\n",
            "590                                             No  ...     2\n",
            "640                                             No  ...     2\n",
            "662                                             No  ...     2\n",
            "678                                             No  ...     2\n",
            "771                                             No  ...     2\n",
            "827                                             No  ...     2\n",
            "900                                             No  ...     2\n",
            "\n",
            "[7 rows x 8 columns]\n",
            "==========\n",
            "cluster 3\n",
            "    Do you typically check a daily weather report?  ... label\n",
            "19                                              No  ...     3\n",
            "85                                              No  ...     3\n",
            "288                                             No  ...     3\n",
            "313                                             No  ...     3\n",
            "363                                             No  ...     3\n",
            "401                                            Yes  ...     3\n",
            "404                                             No  ...     3\n",
            "474                                             No  ...     3\n",
            "521                                             No  ...     3\n",
            "522                                             No  ...     3\n",
            "530                                             No  ...     3\n",
            "538                                             No  ...     3\n",
            "592                                             No  ...     3\n",
            "603                                             No  ...     3\n",
            "637                                             No  ...     3\n",
            "682                                             No  ...     3\n",
            "684                                             No  ...     3\n",
            "718                                             No  ...     3\n",
            "740                                             No  ...     3\n",
            "769                                             No  ...     3\n",
            "781                                             No  ...     3\n",
            "787                                             No  ...     3\n",
            "795                                             No  ...     3\n",
            "802                                             No  ...     3\n",
            "824                                             No  ...     3\n",
            "846                                             No  ...     3\n",
            "850                                             No  ...     3\n",
            "853                                             No  ...     3\n",
            "862                                             No  ...     3\n",
            "887                                             No  ...     3\n",
            "919                                             No  ...     3\n",
            "920                                             No  ...     3\n",
            "\n",
            "[32 rows x 8 columns]\n",
            "==========\n",
            "cluster 4\n",
            "    Do you typically check a daily weather report?  ... label\n",
            "303                                             No  ...     4\n",
            "323                                             No  ...     4\n",
            "524                                            Yes  ...     4\n",
            "755                                             No  ...     4\n",
            "\n",
            "[4 rows x 8 columns]\n",
            "==========\n",
            "cluster 5\n",
            "    Do you typically check a daily weather report?  ... label\n",
            "247                                             No  ...     5\n",
            "253                                             No  ...     5\n",
            "264                                             No  ...     5\n",
            "275                                             No  ...     5\n",
            "281                                             No  ...     5\n",
            "312                                             No  ...     5\n",
            "333                                             No  ...     5\n",
            "430                                             No  ...     5\n",
            "456                                             No  ...     5\n",
            "514                                             No  ...     5\n",
            "534                                             No  ...     5\n",
            "550                                             No  ...     5\n",
            "618                                             No  ...     5\n",
            "636                                             No  ...     5\n",
            "699                                             No  ...     5\n",
            "774                                             No  ...     5\n",
            "922                                             No  ...     5\n",
            "\n",
            "[17 rows x 8 columns]\n",
            "==========\n",
            "cluster 6\n",
            "    Do you typically check a daily weather report?  ... label\n",
            "176                                             No  ...     6\n",
            "382                                             No  ...     6\n",
            "442                                             No  ...     6\n",
            "551                                             No  ...     6\n",
            "612                                             No  ...     6\n",
            "631                                             No  ...     6\n",
            "688                                             No  ...     6\n",
            "724                                             No  ...     6\n",
            "741                                             No  ...     6\n",
            "805                                             No  ...     6\n",
            "867                                             No  ...     6\n",
            "870                                             No  ...     6\n",
            "908                                             No  ...     6\n",
            "\n",
            "[13 rows x 8 columns]\n",
            "==========\n",
            "cluster 7\n",
            "    Do you typically check a daily weather report?  ... label\n",
            "0                                              Yes  ...     7\n",
            "1                                              Yes  ...     7\n",
            "2                                              Yes  ...     7\n",
            "3                                              Yes  ...     7\n",
            "4                                              Yes  ...     7\n",
            "..                                             ...  ...   ...\n",
            "918                                            Yes  ...     7\n",
            "921                                            Yes  ...     7\n",
            "923                                            Yes  ...     7\n",
            "924                                            Yes  ...     7\n",
            "925                                            Yes  ...     7\n",
            "\n",
            "[824 rows x 8 columns]\n",
            "==========\n",
            "cluster 8\n",
            "    Do you typically check a daily weather report?  ... label\n",
            "293                                             No  ...     8\n",
            "418                                             No  ...     8\n",
            "\n",
            "[2 rows x 8 columns]\n",
            "==========\n",
            "cluster 9\n",
            "    Do you typically check a daily weather report?  ... label\n",
            "223                                             No  ...     9\n",
            "359                                             No  ...     9\n",
            "367                                             No  ...     9\n",
            "388                                             No  ...     9\n",
            "472                                             No  ...     9\n",
            "491                                             No  ...     9\n",
            "492                                             No  ...     9\n",
            "553                                             No  ...     9\n",
            "565                                             No  ...     9\n",
            "589                                             No  ...     9\n",
            "598                                             No  ...     9\n",
            "600                                             No  ...     9\n",
            "676                                             No  ...     9\n",
            "714                                             No  ...     9\n",
            "754                                             No  ...     9\n",
            "760                                            Yes  ...     9\n",
            "916                                             No  ...     9\n",
            "\n",
            "[17 rows x 8 columns]\n"
          ],
          "name": "stdout"
        }
      ]
    },
    {
      "cell_type": "markdown",
      "metadata": {
        "id": "Uh8eLcXaFVwc"
      },
      "source": [
        "## DBSCAN"
      ]
    },
    {
      "cell_type": "markdown",
      "metadata": {
        "id": "0Buw1V3LFVwc"
      },
      "source": [
        "Возможно вы уже успели заметить, что часть респондентов практически не отвечали на заданные вопросы - то есть в соответствующих графах стоит символ \"-\". \"Молчунами\" будем называть участников опроса, которые не ответили ни на один вопрос. Таких респондентов можно сразу исключить из дальнейших исследований.\n",
        "\n",
        "* Переберите значение параметра `eps` в интервале [0.1, 1] с шагом 0.1\n",
        "* Остальные параметрамы установите следующим образом `min_samples=20`, `metric='cosine'`\n",
        "* В переменную `answer3` запишите значение `eps` (c точностью до **сотых**) при котором алгоритм выделит всех \"молчунов\" в отдельный кластер с выбросами"
      ]
    },
    {
      "cell_type": "code",
      "metadata": {
        "id": "yCcM6S3gFVwc"
      },
      "source": [
        "from sklearn.cluster import DBSCAN"
      ],
      "execution_count": null,
      "outputs": []
    },
    {
      "cell_type": "markdown",
      "metadata": {
        "id": "5JeefO-3FVwc"
      },
      "source": [
        "### *РЕШЕНИЕ*"
      ]
    },
    {
      "cell_type": "code",
      "metadata": {
        "id": "XHSrAgSuFVwd"
      },
      "source": [
        ""
      ],
      "execution_count": null,
      "outputs": []
    },
    {
      "cell_type": "markdown",
      "metadata": {
        "id": "f-M4m53mFVwd"
      },
      "source": [
        "# Строка с ответами"
      ]
    },
    {
      "cell_type": "code",
      "metadata": {
        "id": "5GN2MOzdFVwd"
      },
      "source": [
        "print('kmeans {:.2f}\\nagg {:.2f}\\ndbscan {:.2f}'.format(answer1, answer2, answer3))"
      ],
      "execution_count": null,
      "outputs": []
    }
  ]
}