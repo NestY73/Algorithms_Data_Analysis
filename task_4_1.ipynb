{
  "nbformat": 4,
  "nbformat_minor": 0,
  "metadata": {
    "anaconda-cloud": {},
    "kernelspec": {
      "display_name": "Python 3",
      "language": "python",
      "name": "python3"
    },
    "language_info": {
      "codemirror_mode": {
        "name": "ipython",
        "version": 3
      },
      "file_extension": ".py",
      "mimetype": "text/x-python",
      "name": "python",
      "nbconvert_exporter": "python",
      "pygments_lexer": "ipython3",
      "version": "3.6.7"
    },
    "toc": {
      "base_numbering": 1,
      "nav_menu": {
        "height": "216px",
        "width": "252px"
      },
      "number_sections": true,
      "sideBar": true,
      "skip_h1_title": false,
      "title_cell": "Table of Contents",
      "title_sidebar": "Contents",
      "toc_cell": false,
      "toc_position": {},
      "toc_section_display": "block",
      "toc_window_display": false
    },
    "colab": {
      "name": "task-4.1.ipynb",
      "provenance": [],
      "include_colab_link": true
    }
  },
  "cells": [
    {
      "cell_type": "markdown",
      "metadata": {
        "id": "view-in-github",
        "colab_type": "text"
      },
      "source": [
        "<a href=\"https://colab.research.google.com/github/NestY73/Algorithms_Data_Analysis/blob/master/task_4_1.ipynb\" target=\"_parent\"><img src=\"https://colab.research.google.com/assets/colab-badge.svg\" alt=\"Open In Colab\"/></a>"
      ]
    },
    {
      "cell_type": "markdown",
      "metadata": {
        "id": "cobkK90RFVwS"
      },
      "source": [
        "# Методы обучения без учителя.\n",
        "## Методы кластеризации"
      ]
    },
    {
      "cell_type": "markdown",
      "metadata": {
        "id": "AQu5gHibFVwV"
      },
      "source": [
        "В этом задании вам необходимо будет применить 3 метода кластеризации к данным.\n",
        "\n",
        "Для каждого метода будет свой вопрос, ответ на который надо будет передать на портал"
      ]
    },
    {
      "cell_type": "code",
      "metadata": {
        "id": "ZunWEj_qFVwW"
      },
      "source": [
        "import pandas as pd\n",
        "import matplotlib.pyplot as plt\n",
        "import numpy as np\n",
        "\n",
        "%matplotlib inline"
      ],
      "execution_count": 15,
      "outputs": []
    },
    {
      "cell_type": "markdown",
      "metadata": {
        "id": "mNoVc0eRFVwW"
      },
      "source": [
        "## Подготовка данных\n",
        "\n",
        "Для начала загрузим данные из этой [статьи](https://fivethirtyeight.com/features/weather-forecast-news-app-habits/)"
      ]
    },
    {
      "cell_type": "code",
      "metadata": {
        "id": "oUl0nIB3FVwX"
      },
      "source": [
        "df = pd.read_csv('./weather-check.csv')"
      ],
      "execution_count": 16,
      "outputs": []
    },
    {
      "cell_type": "code",
      "metadata": {
        "colab": {
          "base_uri": "https://localhost:8080/",
          "height": 548
        },
        "id": "a24nhGYtFVwX",
        "outputId": "505d583e-a5f5-4770-a3c1-2816b7ad0f4f"
      },
      "source": [
        "df.head()"
      ],
      "execution_count": 17,
      "outputs": [
        {
          "output_type": "execute_result",
          "data": {
            "text/html": [
              "<div>\n",
              "<style scoped>\n",
              "    .dataframe tbody tr th:only-of-type {\n",
              "        vertical-align: middle;\n",
              "    }\n",
              "\n",
              "    .dataframe tbody tr th {\n",
              "        vertical-align: top;\n",
              "    }\n",
              "\n",
              "    .dataframe thead th {\n",
              "        text-align: right;\n",
              "    }\n",
              "</style>\n",
              "<table border=\"1\" class=\"dataframe\">\n",
              "  <thead>\n",
              "    <tr style=\"text-align: right;\">\n",
              "      <th></th>\n",
              "      <th>RespondentID</th>\n",
              "      <th>Do you typically check a daily weather report?</th>\n",
              "      <th>How do you typically check the weather?</th>\n",
              "      <th>A specific website or app (please provide the answer)</th>\n",
              "      <th>If you had a smartwatch (like the soon to be released Apple Watch), how likely or unlikely would you be to check the weather on that device?</th>\n",
              "      <th>Age</th>\n",
              "      <th>What is your gender?</th>\n",
              "      <th>How much total combined money did all members of your HOUSEHOLD earn last year?</th>\n",
              "      <th>US Region</th>\n",
              "    </tr>\n",
              "  </thead>\n",
              "  <tbody>\n",
              "    <tr>\n",
              "      <th>0</th>\n",
              "      <td>3887201482</td>\n",
              "      <td>Yes</td>\n",
              "      <td>The default weather app on your phone</td>\n",
              "      <td>-</td>\n",
              "      <td>Very likely</td>\n",
              "      <td>30 - 44</td>\n",
              "      <td>Male</td>\n",
              "      <td>$50,000 to $74,999</td>\n",
              "      <td>South Atlantic</td>\n",
              "    </tr>\n",
              "    <tr>\n",
              "      <th>1</th>\n",
              "      <td>3887159451</td>\n",
              "      <td>Yes</td>\n",
              "      <td>The default weather app on your phone</td>\n",
              "      <td>-</td>\n",
              "      <td>Very likely</td>\n",
              "      <td>18 - 29</td>\n",
              "      <td>Male</td>\n",
              "      <td>Prefer not to answer</td>\n",
              "      <td>-</td>\n",
              "    </tr>\n",
              "    <tr>\n",
              "      <th>2</th>\n",
              "      <td>3887152228</td>\n",
              "      <td>Yes</td>\n",
              "      <td>The default weather app on your phone</td>\n",
              "      <td>-</td>\n",
              "      <td>Very likely</td>\n",
              "      <td>30 - 44</td>\n",
              "      <td>Male</td>\n",
              "      <td>$100,000 to $124,999</td>\n",
              "      <td>Middle Atlantic</td>\n",
              "    </tr>\n",
              "    <tr>\n",
              "      <th>3</th>\n",
              "      <td>3887145426</td>\n",
              "      <td>Yes</td>\n",
              "      <td>The default weather app on your phone</td>\n",
              "      <td>-</td>\n",
              "      <td>Somewhat likely</td>\n",
              "      <td>30 - 44</td>\n",
              "      <td>Male</td>\n",
              "      <td>Prefer not to answer</td>\n",
              "      <td>-</td>\n",
              "    </tr>\n",
              "    <tr>\n",
              "      <th>4</th>\n",
              "      <td>3887021873</td>\n",
              "      <td>Yes</td>\n",
              "      <td>A specific website or app (please provide the ...</td>\n",
              "      <td>Iphone app</td>\n",
              "      <td>Very likely</td>\n",
              "      <td>30 - 44</td>\n",
              "      <td>Male</td>\n",
              "      <td>$150,000 to $174,999</td>\n",
              "      <td>Middle Atlantic</td>\n",
              "    </tr>\n",
              "  </tbody>\n",
              "</table>\n",
              "</div>"
            ],
            "text/plain": [
              "   RespondentID  ...        US Region\n",
              "0    3887201482  ...   South Atlantic\n",
              "1    3887159451  ...                -\n",
              "2    3887152228  ...  Middle Atlantic\n",
              "3    3887145426  ...                -\n",
              "4    3887021873  ...  Middle Atlantic\n",
              "\n",
              "[5 rows x 9 columns]"
            ]
          },
          "metadata": {
            "tags": []
          },
          "execution_count": 17
        }
      ]
    },
    {
      "cell_type": "code",
      "metadata": {
        "colab": {
          "base_uri": "https://localhost:8080/"
        },
        "id": "13dFgb88JUY8",
        "outputId": "7a576a00-527a-4a9d-baec-a7c85deaee40"
      },
      "source": [
        "df.shape"
      ],
      "execution_count": 18,
      "outputs": [
        {
          "output_type": "execute_result",
          "data": {
            "text/plain": [
              "(928, 9)"
            ]
          },
          "metadata": {
            "tags": []
          },
          "execution_count": 18
        }
      ]
    },
    {
      "cell_type": "markdown",
      "metadata": {
        "id": "0g3qqPycFVwY"
      },
      "source": [
        "Они представляют из сбея результат небольшого опроса жителей США на тему того, как они проверяют прогноз прогоды. Кроме того в опроснике есть пункты, связанные с соц-дем информацией: возраст, пол, заработок, регион. \n",
        "\n",
        "Все признаки, в данном случае, являются категориальными.\n",
        "\n",
        "Для начала удалим столбец с идентификатором респондентов и столбец с открытым вопросом."
      ]
    },
    {
      "cell_type": "code",
      "metadata": {
        "id": "vrYnVnf5FVwY"
      },
      "source": [
        "df = df.drop(labels=df.columns[0], axis=1)\n",
        "df = df.drop(labels=df.columns[2], axis=1)"
      ],
      "execution_count": 19,
      "outputs": []
    },
    {
      "cell_type": "code",
      "metadata": {
        "colab": {
          "base_uri": "https://localhost:8080/",
          "height": 430
        },
        "id": "PokeC0UIFVwY",
        "outputId": "837f4202-b8d3-4115-afe6-7601f2e2fd53"
      },
      "source": [
        "df.head()"
      ],
      "execution_count": 20,
      "outputs": [
        {
          "output_type": "execute_result",
          "data": {
            "text/html": [
              "<div>\n",
              "<style scoped>\n",
              "    .dataframe tbody tr th:only-of-type {\n",
              "        vertical-align: middle;\n",
              "    }\n",
              "\n",
              "    .dataframe tbody tr th {\n",
              "        vertical-align: top;\n",
              "    }\n",
              "\n",
              "    .dataframe thead th {\n",
              "        text-align: right;\n",
              "    }\n",
              "</style>\n",
              "<table border=\"1\" class=\"dataframe\">\n",
              "  <thead>\n",
              "    <tr style=\"text-align: right;\">\n",
              "      <th></th>\n",
              "      <th>Do you typically check a daily weather report?</th>\n",
              "      <th>How do you typically check the weather?</th>\n",
              "      <th>If you had a smartwatch (like the soon to be released Apple Watch), how likely or unlikely would you be to check the weather on that device?</th>\n",
              "      <th>Age</th>\n",
              "      <th>What is your gender?</th>\n",
              "      <th>How much total combined money did all members of your HOUSEHOLD earn last year?</th>\n",
              "      <th>US Region</th>\n",
              "    </tr>\n",
              "  </thead>\n",
              "  <tbody>\n",
              "    <tr>\n",
              "      <th>0</th>\n",
              "      <td>Yes</td>\n",
              "      <td>The default weather app on your phone</td>\n",
              "      <td>Very likely</td>\n",
              "      <td>30 - 44</td>\n",
              "      <td>Male</td>\n",
              "      <td>$50,000 to $74,999</td>\n",
              "      <td>South Atlantic</td>\n",
              "    </tr>\n",
              "    <tr>\n",
              "      <th>1</th>\n",
              "      <td>Yes</td>\n",
              "      <td>The default weather app on your phone</td>\n",
              "      <td>Very likely</td>\n",
              "      <td>18 - 29</td>\n",
              "      <td>Male</td>\n",
              "      <td>Prefer not to answer</td>\n",
              "      <td>-</td>\n",
              "    </tr>\n",
              "    <tr>\n",
              "      <th>2</th>\n",
              "      <td>Yes</td>\n",
              "      <td>The default weather app on your phone</td>\n",
              "      <td>Very likely</td>\n",
              "      <td>30 - 44</td>\n",
              "      <td>Male</td>\n",
              "      <td>$100,000 to $124,999</td>\n",
              "      <td>Middle Atlantic</td>\n",
              "    </tr>\n",
              "    <tr>\n",
              "      <th>3</th>\n",
              "      <td>Yes</td>\n",
              "      <td>The default weather app on your phone</td>\n",
              "      <td>Somewhat likely</td>\n",
              "      <td>30 - 44</td>\n",
              "      <td>Male</td>\n",
              "      <td>Prefer not to answer</td>\n",
              "      <td>-</td>\n",
              "    </tr>\n",
              "    <tr>\n",
              "      <th>4</th>\n",
              "      <td>Yes</td>\n",
              "      <td>A specific website or app (please provide the ...</td>\n",
              "      <td>Very likely</td>\n",
              "      <td>30 - 44</td>\n",
              "      <td>Male</td>\n",
              "      <td>$150,000 to $174,999</td>\n",
              "      <td>Middle Atlantic</td>\n",
              "    </tr>\n",
              "  </tbody>\n",
              "</table>\n",
              "</div>"
            ],
            "text/plain": [
              "  Do you typically check a daily weather report?  ...        US Region\n",
              "0                                            Yes  ...   South Atlantic\n",
              "1                                            Yes  ...                -\n",
              "2                                            Yes  ...  Middle Atlantic\n",
              "3                                            Yes  ...                -\n",
              "4                                            Yes  ...  Middle Atlantic\n",
              "\n",
              "[5 rows x 7 columns]"
            ]
          },
          "metadata": {
            "tags": []
          },
          "execution_count": 20
        }
      ]
    },
    {
      "cell_type": "markdown",
      "metadata": {
        "id": "MfnkC6kcFVwZ"
      },
      "source": [
        "Далее выполним перекодировку признаков с помощью метода `pd.get_dummies`. \n",
        "\n",
        "Конечно, для таких признаков как \"заработок\" или \"регион проживания\" можно выполнить более интеллектуальное преобразование (например учитывающее, что ответ \"50,000 to  74,999\" ближе к \"80,000 to 99,999\", чем к \"150,000 to 174,999\"), но для первого подхода мы этого делать не будем."
      ]
    },
    {
      "cell_type": "code",
      "metadata": {
        "colab": {
          "base_uri": "https://localhost:8080/",
          "height": 724
        },
        "id": "Xy6rBUVVFVwZ",
        "outputId": "b2c797d8-c606-43bb-df0a-d718241576d4"
      },
      "source": [
        "df_dummy = pd.get_dummies(df)\n",
        "df_dummy"
      ],
      "execution_count": 21,
      "outputs": [
        {
          "output_type": "execute_result",
          "data": {
            "text/html": [
              "<div>\n",
              "<style scoped>\n",
              "    .dataframe tbody tr th:only-of-type {\n",
              "        vertical-align: middle;\n",
              "    }\n",
              "\n",
              "    .dataframe tbody tr th {\n",
              "        vertical-align: top;\n",
              "    }\n",
              "\n",
              "    .dataframe thead th {\n",
              "        text-align: right;\n",
              "    }\n",
              "</style>\n",
              "<table border=\"1\" class=\"dataframe\">\n",
              "  <thead>\n",
              "    <tr style=\"text-align: right;\">\n",
              "      <th></th>\n",
              "      <th>Do you typically check a daily weather report?_No</th>\n",
              "      <th>Do you typically check a daily weather report?_Yes</th>\n",
              "      <th>How do you typically check the weather?_-</th>\n",
              "      <th>How do you typically check the weather?_A specific website or app (please provide the answer)</th>\n",
              "      <th>How do you typically check the weather?_Internet search</th>\n",
              "      <th>How do you typically check the weather?_Local TV News</th>\n",
              "      <th>How do you typically check the weather?_Newsletter</th>\n",
              "      <th>How do you typically check the weather?_Newspaper</th>\n",
              "      <th>How do you typically check the weather?_Radio weather</th>\n",
              "      <th>How do you typically check the weather?_The Weather Channel</th>\n",
              "      <th>How do you typically check the weather?_The default weather app on your phone</th>\n",
              "      <th>If you had a smartwatch (like the soon to be released Apple Watch), how likely or unlikely would you be to check the weather on that device?_-</th>\n",
              "      <th>If you had a smartwatch (like the soon to be released Apple Watch), how likely or unlikely would you be to check the weather on that device?_Somewhat likely</th>\n",
              "      <th>If you had a smartwatch (like the soon to be released Apple Watch), how likely or unlikely would you be to check the weather on that device?_Somewhat unlikely</th>\n",
              "      <th>If you had a smartwatch (like the soon to be released Apple Watch), how likely or unlikely would you be to check the weather on that device?_Very likely</th>\n",
              "      <th>If you had a smartwatch (like the soon to be released Apple Watch), how likely or unlikely would you be to check the weather on that device?_Very unlikely</th>\n",
              "      <th>Age_-</th>\n",
              "      <th>Age_18 - 29</th>\n",
              "      <th>Age_30 - 44</th>\n",
              "      <th>Age_45 - 59</th>\n",
              "      <th>Age_60+</th>\n",
              "      <th>What is your gender?_-</th>\n",
              "      <th>What is your gender?_Female</th>\n",
              "      <th>What is your gender?_Male</th>\n",
              "      <th>How much total combined money did all members of your HOUSEHOLD earn last year?_$0 to $9,999</th>\n",
              "      <th>How much total combined money did all members of your HOUSEHOLD earn last year?_$10,000 to $24,999</th>\n",
              "      <th>How much total combined money did all members of your HOUSEHOLD earn last year?_$100,000 to $124,999</th>\n",
              "      <th>How much total combined money did all members of your HOUSEHOLD earn last year?_$125,000 to $149,999</th>\n",
              "      <th>How much total combined money did all members of your HOUSEHOLD earn last year?_$150,000 to $174,999</th>\n",
              "      <th>How much total combined money did all members of your HOUSEHOLD earn last year?_$175,000 to $199,999</th>\n",
              "      <th>How much total combined money did all members of your HOUSEHOLD earn last year?_$200,000 and up</th>\n",
              "      <th>How much total combined money did all members of your HOUSEHOLD earn last year?_$25,000 to $49,999</th>\n",
              "      <th>How much total combined money did all members of your HOUSEHOLD earn last year?_$50,000 to $74,999</th>\n",
              "      <th>How much total combined money did all members of your HOUSEHOLD earn last year?_$75,000 to $99,999</th>\n",
              "      <th>How much total combined money did all members of your HOUSEHOLD earn last year?_-</th>\n",
              "      <th>How much total combined money did all members of your HOUSEHOLD earn last year?_Prefer not to answer</th>\n",
              "      <th>US Region_-</th>\n",
              "      <th>US Region_East North Central</th>\n",
              "      <th>US Region_East South Central</th>\n",
              "      <th>US Region_Middle Atlantic</th>\n",
              "      <th>US Region_Mountain</th>\n",
              "      <th>US Region_New England</th>\n",
              "      <th>US Region_Pacific</th>\n",
              "      <th>US Region_South Atlantic</th>\n",
              "      <th>US Region_West North Central</th>\n",
              "      <th>US Region_West South Central</th>\n",
              "    </tr>\n",
              "  </thead>\n",
              "  <tbody>\n",
              "    <tr>\n",
              "      <th>0</th>\n",
              "      <td>0</td>\n",
              "      <td>1</td>\n",
              "      <td>0</td>\n",
              "      <td>0</td>\n",
              "      <td>0</td>\n",
              "      <td>0</td>\n",
              "      <td>0</td>\n",
              "      <td>0</td>\n",
              "      <td>0</td>\n",
              "      <td>0</td>\n",
              "      <td>1</td>\n",
              "      <td>0</td>\n",
              "      <td>0</td>\n",
              "      <td>0</td>\n",
              "      <td>1</td>\n",
              "      <td>0</td>\n",
              "      <td>0</td>\n",
              "      <td>0</td>\n",
              "      <td>1</td>\n",
              "      <td>0</td>\n",
              "      <td>0</td>\n",
              "      <td>0</td>\n",
              "      <td>0</td>\n",
              "      <td>1</td>\n",
              "      <td>0</td>\n",
              "      <td>0</td>\n",
              "      <td>0</td>\n",
              "      <td>0</td>\n",
              "      <td>0</td>\n",
              "      <td>0</td>\n",
              "      <td>0</td>\n",
              "      <td>0</td>\n",
              "      <td>1</td>\n",
              "      <td>0</td>\n",
              "      <td>0</td>\n",
              "      <td>0</td>\n",
              "      <td>0</td>\n",
              "      <td>0</td>\n",
              "      <td>0</td>\n",
              "      <td>0</td>\n",
              "      <td>0</td>\n",
              "      <td>0</td>\n",
              "      <td>0</td>\n",
              "      <td>1</td>\n",
              "      <td>0</td>\n",
              "      <td>0</td>\n",
              "    </tr>\n",
              "    <tr>\n",
              "      <th>1</th>\n",
              "      <td>0</td>\n",
              "      <td>1</td>\n",
              "      <td>0</td>\n",
              "      <td>0</td>\n",
              "      <td>0</td>\n",
              "      <td>0</td>\n",
              "      <td>0</td>\n",
              "      <td>0</td>\n",
              "      <td>0</td>\n",
              "      <td>0</td>\n",
              "      <td>1</td>\n",
              "      <td>0</td>\n",
              "      <td>0</td>\n",
              "      <td>0</td>\n",
              "      <td>1</td>\n",
              "      <td>0</td>\n",
              "      <td>0</td>\n",
              "      <td>1</td>\n",
              "      <td>0</td>\n",
              "      <td>0</td>\n",
              "      <td>0</td>\n",
              "      <td>0</td>\n",
              "      <td>0</td>\n",
              "      <td>1</td>\n",
              "      <td>0</td>\n",
              "      <td>0</td>\n",
              "      <td>0</td>\n",
              "      <td>0</td>\n",
              "      <td>0</td>\n",
              "      <td>0</td>\n",
              "      <td>0</td>\n",
              "      <td>0</td>\n",
              "      <td>0</td>\n",
              "      <td>0</td>\n",
              "      <td>0</td>\n",
              "      <td>1</td>\n",
              "      <td>1</td>\n",
              "      <td>0</td>\n",
              "      <td>0</td>\n",
              "      <td>0</td>\n",
              "      <td>0</td>\n",
              "      <td>0</td>\n",
              "      <td>0</td>\n",
              "      <td>0</td>\n",
              "      <td>0</td>\n",
              "      <td>0</td>\n",
              "    </tr>\n",
              "    <tr>\n",
              "      <th>2</th>\n",
              "      <td>0</td>\n",
              "      <td>1</td>\n",
              "      <td>0</td>\n",
              "      <td>0</td>\n",
              "      <td>0</td>\n",
              "      <td>0</td>\n",
              "      <td>0</td>\n",
              "      <td>0</td>\n",
              "      <td>0</td>\n",
              "      <td>0</td>\n",
              "      <td>1</td>\n",
              "      <td>0</td>\n",
              "      <td>0</td>\n",
              "      <td>0</td>\n",
              "      <td>1</td>\n",
              "      <td>0</td>\n",
              "      <td>0</td>\n",
              "      <td>0</td>\n",
              "      <td>1</td>\n",
              "      <td>0</td>\n",
              "      <td>0</td>\n",
              "      <td>0</td>\n",
              "      <td>0</td>\n",
              "      <td>1</td>\n",
              "      <td>0</td>\n",
              "      <td>0</td>\n",
              "      <td>1</td>\n",
              "      <td>0</td>\n",
              "      <td>0</td>\n",
              "      <td>0</td>\n",
              "      <td>0</td>\n",
              "      <td>0</td>\n",
              "      <td>0</td>\n",
              "      <td>0</td>\n",
              "      <td>0</td>\n",
              "      <td>0</td>\n",
              "      <td>0</td>\n",
              "      <td>0</td>\n",
              "      <td>0</td>\n",
              "      <td>1</td>\n",
              "      <td>0</td>\n",
              "      <td>0</td>\n",
              "      <td>0</td>\n",
              "      <td>0</td>\n",
              "      <td>0</td>\n",
              "      <td>0</td>\n",
              "    </tr>\n",
              "    <tr>\n",
              "      <th>3</th>\n",
              "      <td>0</td>\n",
              "      <td>1</td>\n",
              "      <td>0</td>\n",
              "      <td>0</td>\n",
              "      <td>0</td>\n",
              "      <td>0</td>\n",
              "      <td>0</td>\n",
              "      <td>0</td>\n",
              "      <td>0</td>\n",
              "      <td>0</td>\n",
              "      <td>1</td>\n",
              "      <td>0</td>\n",
              "      <td>1</td>\n",
              "      <td>0</td>\n",
              "      <td>0</td>\n",
              "      <td>0</td>\n",
              "      <td>0</td>\n",
              "      <td>0</td>\n",
              "      <td>1</td>\n",
              "      <td>0</td>\n",
              "      <td>0</td>\n",
              "      <td>0</td>\n",
              "      <td>0</td>\n",
              "      <td>1</td>\n",
              "      <td>0</td>\n",
              "      <td>0</td>\n",
              "      <td>0</td>\n",
              "      <td>0</td>\n",
              "      <td>0</td>\n",
              "      <td>0</td>\n",
              "      <td>0</td>\n",
              "      <td>0</td>\n",
              "      <td>0</td>\n",
              "      <td>0</td>\n",
              "      <td>0</td>\n",
              "      <td>1</td>\n",
              "      <td>1</td>\n",
              "      <td>0</td>\n",
              "      <td>0</td>\n",
              "      <td>0</td>\n",
              "      <td>0</td>\n",
              "      <td>0</td>\n",
              "      <td>0</td>\n",
              "      <td>0</td>\n",
              "      <td>0</td>\n",
              "      <td>0</td>\n",
              "    </tr>\n",
              "    <tr>\n",
              "      <th>4</th>\n",
              "      <td>0</td>\n",
              "      <td>1</td>\n",
              "      <td>0</td>\n",
              "      <td>1</td>\n",
              "      <td>0</td>\n",
              "      <td>0</td>\n",
              "      <td>0</td>\n",
              "      <td>0</td>\n",
              "      <td>0</td>\n",
              "      <td>0</td>\n",
              "      <td>0</td>\n",
              "      <td>0</td>\n",
              "      <td>0</td>\n",
              "      <td>0</td>\n",
              "      <td>1</td>\n",
              "      <td>0</td>\n",
              "      <td>0</td>\n",
              "      <td>0</td>\n",
              "      <td>1</td>\n",
              "      <td>0</td>\n",
              "      <td>0</td>\n",
              "      <td>0</td>\n",
              "      <td>0</td>\n",
              "      <td>1</td>\n",
              "      <td>0</td>\n",
              "      <td>0</td>\n",
              "      <td>0</td>\n",
              "      <td>0</td>\n",
              "      <td>1</td>\n",
              "      <td>0</td>\n",
              "      <td>0</td>\n",
              "      <td>0</td>\n",
              "      <td>0</td>\n",
              "      <td>0</td>\n",
              "      <td>0</td>\n",
              "      <td>0</td>\n",
              "      <td>0</td>\n",
              "      <td>0</td>\n",
              "      <td>0</td>\n",
              "      <td>1</td>\n",
              "      <td>0</td>\n",
              "      <td>0</td>\n",
              "      <td>0</td>\n",
              "      <td>0</td>\n",
              "      <td>0</td>\n",
              "      <td>0</td>\n",
              "    </tr>\n",
              "    <tr>\n",
              "      <th>...</th>\n",
              "      <td>...</td>\n",
              "      <td>...</td>\n",
              "      <td>...</td>\n",
              "      <td>...</td>\n",
              "      <td>...</td>\n",
              "      <td>...</td>\n",
              "      <td>...</td>\n",
              "      <td>...</td>\n",
              "      <td>...</td>\n",
              "      <td>...</td>\n",
              "      <td>...</td>\n",
              "      <td>...</td>\n",
              "      <td>...</td>\n",
              "      <td>...</td>\n",
              "      <td>...</td>\n",
              "      <td>...</td>\n",
              "      <td>...</td>\n",
              "      <td>...</td>\n",
              "      <td>...</td>\n",
              "      <td>...</td>\n",
              "      <td>...</td>\n",
              "      <td>...</td>\n",
              "      <td>...</td>\n",
              "      <td>...</td>\n",
              "      <td>...</td>\n",
              "      <td>...</td>\n",
              "      <td>...</td>\n",
              "      <td>...</td>\n",
              "      <td>...</td>\n",
              "      <td>...</td>\n",
              "      <td>...</td>\n",
              "      <td>...</td>\n",
              "      <td>...</td>\n",
              "      <td>...</td>\n",
              "      <td>...</td>\n",
              "      <td>...</td>\n",
              "      <td>...</td>\n",
              "      <td>...</td>\n",
              "      <td>...</td>\n",
              "      <td>...</td>\n",
              "      <td>...</td>\n",
              "      <td>...</td>\n",
              "      <td>...</td>\n",
              "      <td>...</td>\n",
              "      <td>...</td>\n",
              "      <td>...</td>\n",
              "    </tr>\n",
              "    <tr>\n",
              "      <th>923</th>\n",
              "      <td>0</td>\n",
              "      <td>1</td>\n",
              "      <td>0</td>\n",
              "      <td>0</td>\n",
              "      <td>0</td>\n",
              "      <td>0</td>\n",
              "      <td>0</td>\n",
              "      <td>0</td>\n",
              "      <td>0</td>\n",
              "      <td>1</td>\n",
              "      <td>0</td>\n",
              "      <td>0</td>\n",
              "      <td>0</td>\n",
              "      <td>0</td>\n",
              "      <td>1</td>\n",
              "      <td>0</td>\n",
              "      <td>0</td>\n",
              "      <td>0</td>\n",
              "      <td>0</td>\n",
              "      <td>1</td>\n",
              "      <td>0</td>\n",
              "      <td>0</td>\n",
              "      <td>1</td>\n",
              "      <td>0</td>\n",
              "      <td>0</td>\n",
              "      <td>0</td>\n",
              "      <td>0</td>\n",
              "      <td>0</td>\n",
              "      <td>0</td>\n",
              "      <td>0</td>\n",
              "      <td>0</td>\n",
              "      <td>0</td>\n",
              "      <td>0</td>\n",
              "      <td>0</td>\n",
              "      <td>0</td>\n",
              "      <td>1</td>\n",
              "      <td>0</td>\n",
              "      <td>0</td>\n",
              "      <td>0</td>\n",
              "      <td>0</td>\n",
              "      <td>0</td>\n",
              "      <td>0</td>\n",
              "      <td>1</td>\n",
              "      <td>0</td>\n",
              "      <td>0</td>\n",
              "      <td>0</td>\n",
              "    </tr>\n",
              "    <tr>\n",
              "      <th>924</th>\n",
              "      <td>0</td>\n",
              "      <td>1</td>\n",
              "      <td>0</td>\n",
              "      <td>0</td>\n",
              "      <td>0</td>\n",
              "      <td>0</td>\n",
              "      <td>0</td>\n",
              "      <td>0</td>\n",
              "      <td>0</td>\n",
              "      <td>0</td>\n",
              "      <td>1</td>\n",
              "      <td>0</td>\n",
              "      <td>0</td>\n",
              "      <td>0</td>\n",
              "      <td>1</td>\n",
              "      <td>0</td>\n",
              "      <td>0</td>\n",
              "      <td>0</td>\n",
              "      <td>1</td>\n",
              "      <td>0</td>\n",
              "      <td>0</td>\n",
              "      <td>0</td>\n",
              "      <td>1</td>\n",
              "      <td>0</td>\n",
              "      <td>0</td>\n",
              "      <td>0</td>\n",
              "      <td>0</td>\n",
              "      <td>0</td>\n",
              "      <td>0</td>\n",
              "      <td>0</td>\n",
              "      <td>0</td>\n",
              "      <td>0</td>\n",
              "      <td>0</td>\n",
              "      <td>0</td>\n",
              "      <td>0</td>\n",
              "      <td>1</td>\n",
              "      <td>0</td>\n",
              "      <td>0</td>\n",
              "      <td>0</td>\n",
              "      <td>0</td>\n",
              "      <td>0</td>\n",
              "      <td>0</td>\n",
              "      <td>0</td>\n",
              "      <td>1</td>\n",
              "      <td>0</td>\n",
              "      <td>0</td>\n",
              "    </tr>\n",
              "    <tr>\n",
              "      <th>925</th>\n",
              "      <td>0</td>\n",
              "      <td>1</td>\n",
              "      <td>0</td>\n",
              "      <td>0</td>\n",
              "      <td>0</td>\n",
              "      <td>1</td>\n",
              "      <td>0</td>\n",
              "      <td>0</td>\n",
              "      <td>0</td>\n",
              "      <td>0</td>\n",
              "      <td>0</td>\n",
              "      <td>0</td>\n",
              "      <td>1</td>\n",
              "      <td>0</td>\n",
              "      <td>0</td>\n",
              "      <td>0</td>\n",
              "      <td>0</td>\n",
              "      <td>0</td>\n",
              "      <td>0</td>\n",
              "      <td>0</td>\n",
              "      <td>1</td>\n",
              "      <td>0</td>\n",
              "      <td>1</td>\n",
              "      <td>0</td>\n",
              "      <td>0</td>\n",
              "      <td>0</td>\n",
              "      <td>0</td>\n",
              "      <td>0</td>\n",
              "      <td>0</td>\n",
              "      <td>0</td>\n",
              "      <td>0</td>\n",
              "      <td>0</td>\n",
              "      <td>0</td>\n",
              "      <td>0</td>\n",
              "      <td>0</td>\n",
              "      <td>1</td>\n",
              "      <td>0</td>\n",
              "      <td>0</td>\n",
              "      <td>0</td>\n",
              "      <td>0</td>\n",
              "      <td>0</td>\n",
              "      <td>0</td>\n",
              "      <td>1</td>\n",
              "      <td>0</td>\n",
              "      <td>0</td>\n",
              "      <td>0</td>\n",
              "    </tr>\n",
              "    <tr>\n",
              "      <th>926</th>\n",
              "      <td>1</td>\n",
              "      <td>0</td>\n",
              "      <td>1</td>\n",
              "      <td>0</td>\n",
              "      <td>0</td>\n",
              "      <td>0</td>\n",
              "      <td>0</td>\n",
              "      <td>0</td>\n",
              "      <td>0</td>\n",
              "      <td>0</td>\n",
              "      <td>0</td>\n",
              "      <td>1</td>\n",
              "      <td>0</td>\n",
              "      <td>0</td>\n",
              "      <td>0</td>\n",
              "      <td>0</td>\n",
              "      <td>1</td>\n",
              "      <td>0</td>\n",
              "      <td>0</td>\n",
              "      <td>0</td>\n",
              "      <td>0</td>\n",
              "      <td>1</td>\n",
              "      <td>0</td>\n",
              "      <td>0</td>\n",
              "      <td>0</td>\n",
              "      <td>0</td>\n",
              "      <td>0</td>\n",
              "      <td>0</td>\n",
              "      <td>0</td>\n",
              "      <td>0</td>\n",
              "      <td>0</td>\n",
              "      <td>0</td>\n",
              "      <td>0</td>\n",
              "      <td>0</td>\n",
              "      <td>1</td>\n",
              "      <td>0</td>\n",
              "      <td>1</td>\n",
              "      <td>0</td>\n",
              "      <td>0</td>\n",
              "      <td>0</td>\n",
              "      <td>0</td>\n",
              "      <td>0</td>\n",
              "      <td>0</td>\n",
              "      <td>0</td>\n",
              "      <td>0</td>\n",
              "      <td>0</td>\n",
              "    </tr>\n",
              "    <tr>\n",
              "      <th>927</th>\n",
              "      <td>0</td>\n",
              "      <td>1</td>\n",
              "      <td>1</td>\n",
              "      <td>0</td>\n",
              "      <td>0</td>\n",
              "      <td>0</td>\n",
              "      <td>0</td>\n",
              "      <td>0</td>\n",
              "      <td>0</td>\n",
              "      <td>0</td>\n",
              "      <td>0</td>\n",
              "      <td>1</td>\n",
              "      <td>0</td>\n",
              "      <td>0</td>\n",
              "      <td>0</td>\n",
              "      <td>0</td>\n",
              "      <td>1</td>\n",
              "      <td>0</td>\n",
              "      <td>0</td>\n",
              "      <td>0</td>\n",
              "      <td>0</td>\n",
              "      <td>1</td>\n",
              "      <td>0</td>\n",
              "      <td>0</td>\n",
              "      <td>0</td>\n",
              "      <td>0</td>\n",
              "      <td>0</td>\n",
              "      <td>0</td>\n",
              "      <td>0</td>\n",
              "      <td>0</td>\n",
              "      <td>0</td>\n",
              "      <td>0</td>\n",
              "      <td>0</td>\n",
              "      <td>0</td>\n",
              "      <td>1</td>\n",
              "      <td>0</td>\n",
              "      <td>1</td>\n",
              "      <td>0</td>\n",
              "      <td>0</td>\n",
              "      <td>0</td>\n",
              "      <td>0</td>\n",
              "      <td>0</td>\n",
              "      <td>0</td>\n",
              "      <td>0</td>\n",
              "      <td>0</td>\n",
              "      <td>0</td>\n",
              "    </tr>\n",
              "  </tbody>\n",
              "</table>\n",
              "<p>928 rows × 46 columns</p>\n",
              "</div>"
            ],
            "text/plain": [
              "     Do you typically check a daily weather report?_No  ...  US Region_West South Central\n",
              "0                                                    0  ...                             0\n",
              "1                                                    0  ...                             0\n",
              "2                                                    0  ...                             0\n",
              "3                                                    0  ...                             0\n",
              "4                                                    0  ...                             0\n",
              "..                                                 ...  ...                           ...\n",
              "923                                                  0  ...                             0\n",
              "924                                                  0  ...                             0\n",
              "925                                                  0  ...                             0\n",
              "926                                                  1  ...                             0\n",
              "927                                                  0  ...                             0\n",
              "\n",
              "[928 rows x 46 columns]"
            ]
          },
          "metadata": {
            "tags": []
          },
          "execution_count": 21
        }
      ]
    },
    {
      "cell_type": "code",
      "metadata": {
        "id": "rMPOdIakSULH",
        "colab": {
          "base_uri": "https://localhost:8080/"
        },
        "outputId": "1c5f6515-0740-47a6-a2ca-0876f42b29c5"
      },
      "source": [
        "df_dummy.columns\n"
      ],
      "execution_count": 39,
      "outputs": [
        {
          "output_type": "execute_result",
          "data": {
            "text/plain": [
              "Index(['Do you typically check a daily weather report?_No',\n",
              "       'Do you typically check a daily weather report?_Yes',\n",
              "       'How do you typically check the weather?_-',\n",
              "       'How do you typically check the weather?_A specific website or app (please provide the answer)',\n",
              "       'How do you typically check the weather?_Internet search',\n",
              "       'How do you typically check the weather?_Local TV News',\n",
              "       'How do you typically check the weather?_Newsletter',\n",
              "       'How do you typically check the weather?_Newspaper',\n",
              "       'How do you typically check the weather?_Radio weather',\n",
              "       'How do you typically check the weather?_The Weather Channel',\n",
              "       'How do you typically check the weather?_The default weather app on your phone',\n",
              "       'If you had a smartwatch (like the soon to be released Apple Watch), how likely or unlikely would you be to check the weather on that device?_-',\n",
              "       'If you had a smartwatch (like the soon to be released Apple Watch), how likely or unlikely would you be to check the weather on that device?_Somewhat likely',\n",
              "       'If you had a smartwatch (like the soon to be released Apple Watch), how likely or unlikely would you be to check the weather on that device?_Somewhat unlikely',\n",
              "       'If you had a smartwatch (like the soon to be released Apple Watch), how likely or unlikely would you be to check the weather on that device?_Very likely',\n",
              "       'If you had a smartwatch (like the soon to be released Apple Watch), how likely or unlikely would you be to check the weather on that device?_Very unlikely',\n",
              "       'Age_-', 'Age_18 - 29', 'Age_30 - 44', 'Age_45 - 59', 'Age_60+',\n",
              "       'What is your gender?_-', 'What is your gender?_Female',\n",
              "       'What is your gender?_Male',\n",
              "       'How much total combined money did all members of your HOUSEHOLD earn last year?_$0 to $9,999',\n",
              "       'How much total combined money did all members of your HOUSEHOLD earn last year?_$10,000 to $24,999',\n",
              "       'How much total combined money did all members of your HOUSEHOLD earn last year?_$100,000 to $124,999',\n",
              "       'How much total combined money did all members of your HOUSEHOLD earn last year?_$125,000 to $149,999',\n",
              "       'How much total combined money did all members of your HOUSEHOLD earn last year?_$150,000 to $174,999',\n",
              "       'How much total combined money did all members of your HOUSEHOLD earn last year?_$175,000 to $199,999',\n",
              "       'How much total combined money did all members of your HOUSEHOLD earn last year?_$200,000 and up',\n",
              "       'How much total combined money did all members of your HOUSEHOLD earn last year?_$25,000 to $49,999',\n",
              "       'How much total combined money did all members of your HOUSEHOLD earn last year?_$50,000 to $74,999',\n",
              "       'How much total combined money did all members of your HOUSEHOLD earn last year?_$75,000 to $99,999',\n",
              "       'How much total combined money did all members of your HOUSEHOLD earn last year?_-',\n",
              "       'How much total combined money did all members of your HOUSEHOLD earn last year?_Prefer not to answer',\n",
              "       'US Region_-', 'US Region_East North Central',\n",
              "       'US Region_East South Central', 'US Region_Middle Atlantic',\n",
              "       'US Region_Mountain', 'US Region_New England', 'US Region_Pacific',\n",
              "       'US Region_South Atlantic', 'US Region_West North Central',\n",
              "       'US Region_West South Central'],\n",
              "      dtype='object')"
            ]
          },
          "metadata": {
            "tags": []
          },
          "execution_count": 39
        }
      ]
    },
    {
      "cell_type": "code",
      "metadata": {
        "colab": {
          "base_uri": "https://localhost:8080/"
        },
        "id": "i2H4l3i1FVwZ",
        "outputId": "ed466ba1-f8cd-480a-d3e3-2ba586b5e0e6"
      },
      "source": [
        "X = df_dummy.values\n",
        "X"
      ],
      "execution_count": 23,
      "outputs": [
        {
          "output_type": "execute_result",
          "data": {
            "text/plain": [
              "array([[0, 1, 0, ..., 1, 0, 0],\n",
              "       [0, 1, 0, ..., 0, 0, 0],\n",
              "       [0, 1, 0, ..., 0, 0, 0],\n",
              "       ...,\n",
              "       [0, 1, 0, ..., 0, 0, 0],\n",
              "       [1, 0, 1, ..., 0, 0, 0],\n",
              "       [0, 1, 1, ..., 0, 0, 0]], dtype=uint8)"
            ]
          },
          "metadata": {
            "tags": []
          },
          "execution_count": 23
        }
      ]
    },
    {
      "cell_type": "code",
      "metadata": {
        "colab": {
          "base_uri": "https://localhost:8080/"
        },
        "id": "z9l7p3nhJklB",
        "outputId": "1bcaafde-4005-4e6c-bf7d-dc85175dcdb6"
      },
      "source": [
        "X.shape"
      ],
      "execution_count": 24,
      "outputs": [
        {
          "output_type": "execute_result",
          "data": {
            "text/plain": [
              "(928, 46)"
            ]
          },
          "metadata": {
            "tags": []
          },
          "execution_count": 24
        }
      ]
    },
    {
      "cell_type": "markdown",
      "metadata": {
        "id": "Qy5ARDJ5FVwZ"
      },
      "source": [
        "## Kmeans"
      ]
    },
    {
      "cell_type": "markdown",
      "metadata": {
        "id": "tr6vK-RpFVwa"
      },
      "source": [
        "Обычно, результаты kmeans на данных, полностью состоящим из категориальных признаков, получаются не такими хорошими.\n",
        "\n",
        "* Обучите метод к-средних с `n_clusters` от 2 до 20 и `random_state=123`\n",
        "* Создайте массив `scores`\n",
        "* Для каждого запуска вычислите `silhouette_score` полученной кластеризации\n",
        "* В переменную `answer1` сохраните значение наибольшего значения из `scores` c точностью до сотых"
      ]
    },
    {
      "cell_type": "code",
      "metadata": {
        "id": "BmfvnLunFVwa"
      },
      "source": [
        "from sklearn.cluster import KMeans\n",
        "from sklearn.metrics import silhouette_score"
      ],
      "execution_count": 25,
      "outputs": []
    },
    {
      "cell_type": "markdown",
      "metadata": {
        "id": "3OHkidq1FVwa"
      },
      "source": [
        "### *РЕШЕНИЕ*"
      ]
    },
    {
      "cell_type": "code",
      "metadata": {
        "colab": {
          "base_uri": "https://localhost:8080/"
        },
        "id": "EK8g3TdMFVwa",
        "outputId": "c97ae0a5-0eb4-4a01-c5c6-be8e71dfa785"
      },
      "source": [
        "scores=[]\n",
        "for k in range(2,21):\n",
        "  kmeans = KMeans(n_clusters=k, random_state=123)\n",
        "  preds = kmeans.fit_predict(X)\n",
        "  \n",
        "  score = silhouette_score(X, preds, metric='euclidean')\n",
        "  print(\"For n_clusters = {}, silhouette score is {})\".format(k, score))"
      ],
      "execution_count": 26,
      "outputs": [
        {
          "output_type": "stream",
          "text": [
            "For n_clusters = 2, silhouette score is 0.1002864128782305)\n",
            "For n_clusters = 3, silhouette score is 0.09920088935026475)\n",
            "For n_clusters = 4, silhouette score is 0.0746796877850485)\n",
            "For n_clusters = 5, silhouette score is 0.07491743301394561)\n",
            "For n_clusters = 6, silhouette score is 0.07869785568966982)\n",
            "For n_clusters = 7, silhouette score is 0.08446868973633206)\n",
            "For n_clusters = 8, silhouette score is 0.08389226369629658)\n",
            "For n_clusters = 9, silhouette score is 0.09451887876780597)\n",
            "For n_clusters = 10, silhouette score is 0.08266799506510034)\n",
            "For n_clusters = 11, silhouette score is 0.09152435149475281)\n",
            "For n_clusters = 12, silhouette score is 0.09399945157985837)\n",
            "For n_clusters = 13, silhouette score is 0.08694070029493774)\n",
            "For n_clusters = 14, silhouette score is 0.08694689169771751)\n",
            "For n_clusters = 15, silhouette score is 0.09116875200745587)\n",
            "For n_clusters = 16, silhouette score is 0.09127423977908083)\n",
            "For n_clusters = 17, silhouette score is 0.09445328116270414)\n",
            "For n_clusters = 18, silhouette score is 0.09783838944367566)\n",
            "For n_clusters = 19, silhouette score is 0.09881756385018525)\n",
            "For n_clusters = 20, silhouette score is 0.10210623529244543)\n"
          ],
          "name": "stdout"
        }
      ]
    },
    {
      "cell_type": "markdown",
      "metadata": {
        "id": "sXTw_SBrFVwb"
      },
      "source": [
        "## Агломеративная кластеризация"
      ]
    },
    {
      "cell_type": "markdown",
      "metadata": {
        "id": "ie0ptEYxFVwb"
      },
      "source": [
        "Попробуем применить агломеративную кластеризацию\n",
        "\n",
        "* Прогоните метод с параметрами `method='average'`, `metric='cosine'`\n",
        "* Визуализируйте полученную дендрограмму\n",
        "* Выделите 5 кластеров из полученной иерархии\n",
        "* В переменную `answer2` запишите долю мужчин во втором по величине кластере с точностью до сотых"
      ]
    },
    {
      "cell_type": "code",
      "metadata": {
        "id": "zRzx5mY8FVwb"
      },
      "source": [
        "from scipy.cluster.hierarchy import fcluster, dendrogram, linkage"
      ],
      "execution_count": 27,
      "outputs": []
    },
    {
      "cell_type": "markdown",
      "metadata": {
        "id": "gBOOgnF1FVwb"
      },
      "source": [
        "### *РЕШЕНИЕ*"
      ]
    },
    {
      "cell_type": "code",
      "metadata": {
        "colab": {
          "base_uri": "https://localhost:8080/"
        },
        "id": "n8Br-IQ7FVwc",
        "outputId": "f63bd9f2-cd9d-4d7b-bbf0-de6381fcb81f"
      },
      "source": [
        "Z = linkage(X, method='average', metric='cosine')\n",
        "Z"
      ],
      "execution_count": 28,
      "outputs": [
        {
          "output_type": "execute_result",
          "data": {
            "text/plain": [
              "array([[2.00000000e+00, 4.30000000e+01, 1.11022302e-16, 2.00000000e+00],\n",
              "       [7.00000000e+00, 7.40000000e+01, 1.11022302e-16, 2.00000000e+00],\n",
              "       [1.20000000e+01, 2.40000000e+01, 1.11022302e-16, 2.00000000e+00],\n",
              "       ...,\n",
              "       [1.84600000e+03, 1.84900000e+03, 7.14213948e-01, 7.64000000e+02],\n",
              "       [1.85100000e+03, 1.85200000e+03, 7.87793272e-01, 9.16000000e+02],\n",
              "       [1.62200000e+03, 1.85300000e+03, 9.12806717e-01, 9.28000000e+02]])"
            ]
          },
          "metadata": {
            "tags": []
          },
          "execution_count": 28
        }
      ]
    },
    {
      "cell_type": "code",
      "metadata": {
        "id": "RdqHFJ4ATw03",
        "colab": {
          "base_uri": "https://localhost:8080/",
          "height": 281
        },
        "outputId": "12b5b6a5-d1b3-4bfe-8f1f-207778e606d7"
      },
      "source": [
        "dend = dendrogram(Z, truncate_mode='lastp')"
      ],
      "execution_count": 140,
      "outputs": [
        {
          "output_type": "display_data",
          "data": {
            "image/png": "[encoded data removed]",
            "text/plain": [
              "<Figure size 432x288 with 1 Axes>"
            ]
          },
          "metadata": {
            "tags": [],
            "needs_background": "light"
          }
        }
      ]
    },
    {
      "cell_type": "code",
      "metadata": {
        "colab": {
          "base_uri": "https://localhost:8080/"
        },
        "id": "QPbtRZ4AOhVc",
        "outputId": "9519d060-ae31-49e1-ce95-5c7288c51730"
      },
      "source": [
        "labels = fcluster(Z, 5, criterion='maxclust')\n",
        "pd.Series(labels).value_counts()"
      ],
      "execution_count": 167,
      "outputs": [
        {
          "output_type": "execute_result",
          "data": {
            "text/plain": [
              "4    433\n",
              "5    331\n",
              "2     92\n",
              "3     60\n",
              "1     12\n",
              "dtype: int64"
            ]
          },
          "metadata": {
            "tags": []
          },
          "execution_count": 167
        }
      ]
    },
    {
      "cell_type": "code",
      "metadata": {
        "id": "sNjoyMA7YhRR"
      },
      "source": [
        "largest = pd.Series(labels).value_counts().index[1]"
      ],
      "execution_count": 154,
      "outputs": []
    },
    {
      "cell_type": "code",
      "metadata": {
        "id": "Cs2a26plYpIg",
        "outputId": "a9656430-bd73-46ec-f9de-faa716c0c1d6",
        "colab": {
          "base_uri": "https://localhost:8080/"
        }
      },
      "source": [
        "largest_size = (labels == largest).sum()\n",
        "largest_size"
      ],
      "execution_count": 156,
      "outputs": [
        {
          "output_type": "execute_result",
          "data": {
            "text/plain": [
              "331"
            ]
          },
          "metadata": {
            "tags": []
          },
          "execution_count": 156
        }
      ]
    },
    {
      "cell_type": "code",
      "metadata": {
        "id": "qEfJWhsJZcHN"
      },
      "source": [
        "df.loc[:, 'labels'] = labels"
      ],
      "execution_count": 161,
      "outputs": []
    },
    {
      "cell_type": "code",
      "metadata": {
        "id": "MoQBQlfRZre4"
      },
      "source": [
        "df_dummy.loc[:, 'labels'] = labels"
      ],
      "execution_count": 162,
      "outputs": []
    },
    {
      "cell_type": "code",
      "metadata": {
        "id": "vFMBTp1lZtnw",
        "outputId": "0c50fbe5-fa1f-4405-b6b6-3d019a1e7e22",
        "colab": {
          "base_uri": "https://localhost:8080/"
        }
      },
      "source": [
        "sex_ratio = df.query('labels=={}'.format(largest)).loc[:, 'What is your gender?'].value_counts() / largest_size\n",
        "sex_ratio"
      ],
      "execution_count": 164,
      "outputs": [
        {
          "output_type": "execute_result",
          "data": {
            "text/plain": [
              "Male      0.945619\n",
              "Female    0.054381\n",
              "Name: What is your gender?, dtype: float64"
            ]
          },
          "metadata": {
            "tags": []
          },
          "execution_count": 164
        }
      ]
    },
    {
      "cell_type": "code",
      "metadata": {
        "colab": {
          "base_uri": "https://localhost:8080/"
        },
        "id": "11hpApN_PUKq",
        "outputId": "cd6448e2-7384-421d-9e6c-64e33f869a1a"
      },
      "source": [
        "df.loc[:,'label'] = label\n",
        "for i, group in df.groupby('label'):\n",
        "  print('=' * 10)\n",
        "  print('cluster {}'.format(i))\n",
        "  print(group)"
      ],
      "execution_count": 49,
      "outputs": [
        {
          "output_type": "stream",
          "text": [
            "==========\n",
            "cluster 1\n",
            "    Do you typically check a daily weather report?  ... label\n",
            "7                                              Yes  ...     1\n",
            "12                                              No  ...     1\n",
            "24                                              No  ...     1\n",
            "74                                             Yes  ...     1\n",
            "406                                            Yes  ...     1\n",
            "407                                            Yes  ...     1\n",
            "542                                            Yes  ...     1\n",
            "569                                             No  ...     1\n",
            "576                                            Yes  ...     1\n",
            "879                                             No  ...     1\n",
            "926                                             No  ...     1\n",
            "927                                            Yes  ...     1\n",
            "\n",
            "[12 rows x 8 columns]\n",
            "==========\n",
            "cluster 2\n",
            "    Do you typically check a daily weather report?  ... label\n",
            "19                                              No  ...     2\n",
            "85                                              No  ...     2\n",
            "176                                             No  ...     2\n",
            "223                                             No  ...     2\n",
            "247                                             No  ...     2\n",
            "..                                             ...  ...   ...\n",
            "908                                             No  ...     2\n",
            "916                                             No  ...     2\n",
            "919                                             No  ...     2\n",
            "920                                             No  ...     2\n",
            "922                                             No  ...     2\n",
            "\n",
            "[92 rows x 8 columns]\n",
            "==========\n",
            "cluster 3\n",
            "    Do you typically check a daily weather report?  ... label\n",
            "10                                              No  ...     3\n",
            "11                                              No  ...     3\n",
            "14                                              No  ...     3\n",
            "29                                              No  ...     3\n",
            "32                                              No  ...     3\n",
            "35                                              No  ...     3\n",
            "45                                              No  ...     3\n",
            "46                                              No  ...     3\n",
            "52                                              No  ...     3\n",
            "53                                              No  ...     3\n",
            "60                                              No  ...     3\n",
            "63                                              No  ...     3\n",
            "75                                              No  ...     3\n",
            "82                                              No  ...     3\n",
            "87                                              No  ...     3\n",
            "92                                              No  ...     3\n",
            "93                                              No  ...     3\n",
            "97                                              No  ...     3\n",
            "100                                             No  ...     3\n",
            "101                                             No  ...     3\n",
            "103                                             No  ...     3\n",
            "106                                             No  ...     3\n",
            "108                                             No  ...     3\n",
            "116                                             No  ...     3\n",
            "136                                             No  ...     3\n",
            "137                                             No  ...     3\n",
            "144                                             No  ...     3\n",
            "146                                             No  ...     3\n",
            "151                                             No  ...     3\n",
            "166                                             No  ...     3\n",
            "169                                             No  ...     3\n",
            "173                                             No  ...     3\n",
            "175                                             No  ...     3\n",
            "177                                             No  ...     3\n",
            "183                                             No  ...     3\n",
            "200                                             No  ...     3\n",
            "201                                             No  ...     3\n",
            "238                                             No  ...     3\n",
            "239                                             No  ...     3\n",
            "245                                             No  ...     3\n",
            "248                                             No  ...     3\n",
            "249                                             No  ...     3\n",
            "260                                             No  ...     3\n",
            "265                                             No  ...     3\n",
            "270                                             No  ...     3\n",
            "286                                             No  ...     3\n",
            "295                                             No  ...     3\n",
            "299                                             No  ...     3\n",
            "309                                             No  ...     3\n",
            "316                                             No  ...     3\n",
            "375                                             No  ...     3\n",
            "415                                             No  ...     3\n",
            "422                                             No  ...     3\n",
            "444                                             No  ...     3\n",
            "450                                             No  ...     3\n",
            "673                                             No  ...     3\n",
            "766                                             No  ...     3\n",
            "798                                             No  ...     3\n",
            "859                                            Yes  ...     3\n",
            "884                                             No  ...     3\n",
            "\n",
            "[60 rows x 8 columns]\n",
            "==========\n",
            "cluster 4\n",
            "    Do you typically check a daily weather report?  ... label\n",
            "18                                             Yes  ...     4\n",
            "28                                             Yes  ...     4\n",
            "30                                             Yes  ...     4\n",
            "34                                             Yes  ...     4\n",
            "38                                             Yes  ...     4\n",
            "..                                             ...  ...   ...\n",
            "918                                            Yes  ...     4\n",
            "921                                            Yes  ...     4\n",
            "923                                            Yes  ...     4\n",
            "924                                            Yes  ...     4\n",
            "925                                            Yes  ...     4\n",
            "\n",
            "[433 rows x 8 columns]\n",
            "==========\n",
            "cluster 5\n",
            "    Do you typically check a daily weather report?  ... label\n",
            "0                                              Yes  ...     5\n",
            "1                                              Yes  ...     5\n",
            "2                                              Yes  ...     5\n",
            "3                                              Yes  ...     5\n",
            "4                                              Yes  ...     5\n",
            "..                                             ...  ...   ...\n",
            "895                                            Yes  ...     5\n",
            "899                                            Yes  ...     5\n",
            "902                                            Yes  ...     5\n",
            "904                                            Yes  ...     5\n",
            "914                                            Yes  ...     5\n",
            "\n",
            "[331 rows x 8 columns]\n"
          ],
          "name": "stdout"
        }
      ]
    },
    {
      "cell_type": "code",
      "metadata": {
        "id": "N30vcv7RL6ae",
        "outputId": "a92bd7e1-9747-4a2d-91ee-064c839e3948",
        "colab": {
          "base_uri": "https://localhost:8080/"
        }
      },
      "source": [
        "df[(df['What is your gender?'] == 'Male') & (df['label'] == 53)].shape"
      ],
      "execution_count": 50,
      "outputs": [
        {
          "output_type": "execute_result",
          "data": {
            "text/plain": [
              "(313, 8)"
            ]
          },
          "metadata": {
            "tags": []
          },
          "execution_count": 50
        }
      ]
    },
    {
      "cell_type": "markdown",
      "metadata": {
        "id": "Uh8eLcXaFVwc"
      },
      "source": [
        "## DBSCAN"
      ]
    },
    {
      "cell_type": "markdown",
      "metadata": {
        "id": "0Buw1V3LFVwc"
      },
      "source": [
        "Возможно вы уже успели заметить, что часть респондентов практически не отвечали на заданные вопросы - то есть в соответствующих графах стоит символ \"-\". \"Молчунами\" будем называть участников опроса, которые не ответили ни на один вопрос. Таких респондентов можно сразу исключить из дальнейших исследований.\n",
        "\n",
        "* Переберите значение параметра `eps` в интервале [0.1, 1] с шагом 0.1\n",
        "* Остальные параметрамы установите следующим образом `min_samples=20`, `metric='cosine'`\n",
        "* В переменную `answer3` запишите значение `eps` (c точностью до **сотых**) при котором алгоритм выделит всех \"молчунов\" в отдельный кластер с выбросами"
      ]
    },
    {
      "cell_type": "code",
      "metadata": {
        "id": "yCcM6S3gFVwc"
      },
      "source": [
        "from sklearn.cluster import DBSCAN"
      ],
      "execution_count": 51,
      "outputs": []
    },
    {
      "cell_type": "markdown",
      "metadata": {
        "id": "5JeefO-3FVwc"
      },
      "source": [
        "### *РЕШЕНИЕ*"
      ]
    },
    {
      "cell_type": "code",
      "metadata": {
        "id": "XHSrAgSuFVwd",
        "outputId": "23a66a32-abc1-4b99-9009-03436f161a10",
        "colab": {
          "base_uri": "https://localhost:8080/"
        }
      },
      "source": [
        "dbscan = DBSCAN(eps=0.6, min_samples=20, metric='cosine')\n",
        "dbscan.fit(X)\n"
      ],
      "execution_count": 137,
      "outputs": [
        {
          "output_type": "execute_result",
          "data": {
            "text/plain": [
              "DBSCAN(algorithm='auto', eps=0.6, leaf_size=30, metric='cosine',\n",
              "       metric_params=None, min_samples=20, n_jobs=None, p=None)"
            ]
          },
          "metadata": {
            "tags": []
          },
          "execution_count": 137
        }
      ]
    },
    {
      "cell_type": "code",
      "metadata": {
        "id": "Damo2138PcWH"
      },
      "source": [
        "labels = dbscan.labels_\n"
      ],
      "execution_count": 138,
      "outputs": []
    },
    {
      "cell_type": "code",
      "metadata": {
        "id": "BfVUfCkbPngu",
        "outputId": "a96949c3-7cc7-4ea2-f6e0-b70710ce3b94",
        "colab": {
          "base_uri": "https://localhost:8080/"
        }
      },
      "source": [
        "pd.Series(labels).value_counts()"
      ],
      "execution_count": 139,
      "outputs": [
        {
          "output_type": "execute_result",
          "data": {
            "text/plain": [
              "0    928\n",
              "dtype: int64"
            ]
          },
          "metadata": {
            "tags": []
          },
          "execution_count": 139
        }
      ]
    },
    {
      "cell_type": "markdown",
      "metadata": {
        "id": "f-M4m53mFVwd"
      },
      "source": [
        "# Строка с ответами"
      ]
    },
    {
      "cell_type": "code",
      "metadata": {
        "id": "5GN2MOzdFVwd"
      },
      "source": [
        "print('kmeans {:.2f}\\nagg {:.2f}\\ndbscan {:.2f}'.format(answer1, answer2, answer3))"
      ],
      "execution_count": null,
      "outputs": []
    }
  ]
}