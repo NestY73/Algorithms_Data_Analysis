{
  "nbformat": 4,
  "nbformat_minor": 0,
  "metadata": {
    "colab": {
      "name": "Lesson_3_Homework.ipynb",
      "provenance": [],
      "collapsed_sections": [],
      "include_colab_link": true
    },
    "kernelspec": {
      "name": "python3",
      "display_name": "Python 3"
    }
  },
  "cells": [
    {
      "cell_type": "markdown",
      "metadata": {
        "id": "view-in-github",
        "colab_type": "text"
      },
      "source": [
        "<a href=\"https://colab.research.google.com/github/NestY73/Algorithms_Data_Analysis/blob/geekbrains/Lesson_3_Homework.ipynb\" target=\"_parent\"><img src=\"https://colab.research.google.com/assets/colab-badge.svg\" alt=\"Open In Colab\"/></a>"
      ]
    },
    {
      "cell_type": "code",
      "metadata": {
        "id": "jg5yESeUF88j",
        "colab_type": "code",
        "colab": {}
      },
      "source": [
        "import numpy as np\n",
        "import matplotlib.pyplot as plt"
      ],
      "execution_count": 0,
      "outputs": []
    },
    {
      "cell_type": "code",
      "metadata": {
        "id": "-yCJogrlGBqH",
        "colab_type": "code",
        "colab": {}
      },
      "source": [
        "X = np.array([[1, 1, 1, 1, 1, 1, 1, 1, 1, 1],\n",
        "              [1, 1, 2, 1, 3, 0, 5, 10, 1, 2],\n",
        "              [500, 700, 750, 600, 1450,\n",
        "               800, 1500, 2000, 450, 1000],\n",
        "              [1, 1, 2, 1, 2, \n",
        "               1, 3, 3, 1, 2]], dtype = np.float64)\n",
        "y = np.array([0, 0, 1, 0, 1, 0, 1, 0, 1, 1], dtype = np.float64)\n"
      ],
      "execution_count": 0,
      "outputs": []
    },
    {
      "cell_type": "code",
      "metadata": {
        "id": "Ahab5F46GIwA",
        "colab_type": "code",
        "colab": {}
      },
      "source": [
        "def calc_std_feat(x):\n",
        "  res = (x - x.mean()) / x.std()\n",
        "  return res\n",
        "\n",
        "X_st = X.copy()\n",
        "X_st[2, :] = calc_std_feat(X[2, :])"
      ],
      "execution_count": 0,
      "outputs": []
    },
    {
      "cell_type": "code",
      "metadata": {
        "id": "PMovpW6lGqST",
        "colab_type": "code",
        "colab": {}
      },
      "source": [
        "def calc_logloss(y, y_pred):\n",
        "  err = - np.mean(y * np.log(y_pred) + (1.0 - y) * np.log(1.0 - y_pred))\n",
        "  err = np.sum(err)\n",
        "  return err"
      ],
      "execution_count": 0,
      "outputs": []
    },
    {
      "cell_type": "code",
      "metadata": {
        "id": "xKBm0hZfG4CY",
        "colab_type": "code",
        "colab": {}
      },
      "source": [
        "def sigmoid(z):\n",
        "  res = 1 / (1 + np.exp(-z))\n",
        "  return res"
      ],
      "execution_count": 0,
      "outputs": []
    },
    {
      "cell_type": "code",
      "metadata": {
        "id": "F6JM_DFiGvon",
        "colab_type": "code",
        "colab": {}
      },
      "source": [
        "def eval_model(X, y, iterations, alpha=1e-4):\n",
        "  np.random.seed(42)\n",
        "  W = np.random.randn(X.shape[0])\n",
        "  n = X.shape[1]\n",
        "  for i in range(1, iterations+1):\n",
        "    z = np.dot(W, X)\n",
        "    y_pred = sigmoid(z)\n",
        "    \n",
        "    err = calc_logloss(y, y_pred)\n",
        "    W -= alpha * (1/n * np.dot((y_pred - y), X.T))\n",
        "    if i % (iterations / 10) == 0:\n",
        "      print(i, W, err)\n",
        "      print(y_pred)\n",
        "  return W"
      ],
      "execution_count": 0,
      "outputs": []
    },
    {
      "cell_type": "markdown",
      "metadata": {
        "id": "WbhPp5YI4LhY",
        "colab_type": "text"
      },
      "source": [
        "1*. Измените функцию calc_logloss так, чтобы нули по возможности не попадали в np.log."
      ]
    },
    {
      "cell_type": "code",
      "metadata": {
        "id": "22KgeUeH3wpy",
        "colab_type": "code",
        "colab": {}
      },
      "source": [
        "def calc_logloss(y, y_pred):\n",
        "  err = - np.mean(y * np.log(y_pred) + (1.0 - y) * np.log(1.0 - y_pred))\n",
        "  err = np.sum(err)\n",
        "  return err"
      ],
      "execution_count": 0,
      "outputs": []
    },
    {
      "cell_type": "markdown",
      "metadata": {
        "id": "UhFKrT9c4PUJ",
        "colab_type": "text"
      },
      "source": [
        "2. Подберите аргументы функции eval_model для логистической регрессии таким образом, чтобы log loss был минимальным."
      ]
    },
    {
      "cell_type": "code",
      "metadata": {
        "id": "I0niEvu64hAE",
        "colab_type": "code",
        "colab": {
          "base_uri": "https://localhost:8080/",
          "height": 527
        },
        "outputId": "db1ee200-be88-4e4a-de0e-04f234c2d5d5"
      },
      "source": [
        "W = eval_model(X_st, y, iterations=4000, alpha=1e-2)"
      ],
      "execution_count": 36,
      "outputs": [
        {
          "output_type": "stream",
          "text": [
            "400 [-0.00887935 -0.68415387  0.90713736  1.22443854] 0.5476800278385013\n",
            "[0.41187041 0.50442949 0.65731176 0.45778572 0.78177463 0.70865186\n",
            " 0.77303149 0.22091504 0.38942549 0.75376301]\n",
            "800 [-0.21681092 -0.7078635   1.03062761  1.32973537] 0.5295551503580799\n",
            "[0.35339435 0.45533473 0.63384605 0.40332129 0.79059656 0.67724556\n",
            " 0.7939075  0.24458674 0.32950928 0.74649757]\n",
            "1200 [-0.37188064 -0.7461597   1.08260067  1.46531853] 0.517849884671324\n",
            "[0.32893009 0.43375782 0.63737756 0.37994497 0.79909713 0.66880249\n",
            " 0.81231655 0.24068079 0.30477723 0.75438095]\n",
            "1600 [-0.51036921 -0.783047    1.10664485  1.59979796] 0.5080360394424424\n",
            "[0.31484979 0.42040452 0.6478279  0.3660204  0.80597221 0.66598069\n",
            " 0.82802665 0.23111579 0.29076949 0.76495533]\n",
            "2000 [-0.64214517 -0.81531815  1.11599369  1.72618787] 0.4994117173889703\n",
            "[0.30483302 0.40996972 0.65962494 0.35566277 0.81113783 0.66402915\n",
            " 0.8412944  0.22139014 0.28100898 0.77504051]\n",
            "2400 [-0.77001652 -0.8428484   1.11557702  1.84379918] 0.4916712819232016\n",
            "[0.29696575 0.40091484 0.67130852 0.34712023 0.81484333 0.66177122\n",
            " 0.85255374 0.21268477 0.27352275 0.78402477]\n",
            "2800 [-0.89486786 -0.8661902   1.10782654  1.95340826] 0.4846158947679876\n",
            "[0.2905335  0.39273019 0.68252336 0.33976932 0.81735961 0.65898138\n",
            " 0.86219791 0.20511016 0.26756141 0.79192573]\n",
            "3200 [-1.01703694 -0.88597138  1.09428063  2.05601673] 0.4781060297284002\n",
            "[0.28518662 0.38520446 0.69320953 0.33332235 0.81891433 0.65567776\n",
            " 0.87054275 0.1985379  0.26275111 0.79888982]\n",
            "3600 [-1.13669488 -0.90275542  1.07606852  2.15255177] 0.47204135353832494\n",
            "[0.2807078  0.37822275 0.70338422 0.3276075  0.81968882 0.65193272\n",
            " 0.87783522 0.19280923 0.25885713 0.80506928]\n",
            "4000 [-1.25395556 -0.91702026  1.05407927  2.24381099] 0.4663484120925518\n",
            "[0.27694089 0.37170757 0.71308208 0.32250302 0.81982661 0.64782296\n",
            " 0.88426815 0.18778294 0.25571051 0.8105958 ]\n"
          ],
          "name": "stdout"
        }
      ]
    },
    {
      "cell_type": "markdown",
      "metadata": {
        "id": "vqwVqlbL4ipG",
        "colab_type": "text"
      },
      "source": [
        "3. Создайте функцию calc_pred_proba, возвращающую предсказанную вероятность класса 1 (на вход подаются W, который уже посчитан функцией eval_model и X, на выходе - массив y_pred_proba)."
      ]
    },
    {
      "cell_type": "code",
      "metadata": {
        "id": "xuzrWjQF4nKp",
        "colab_type": "code",
        "colab": {}
      },
      "source": [
        "def calc_pred_proba (W,X,y_pred):\n",
        "    z=np.dot(W,X)\n",
        "    y_pred=sigmoid(z)\n",
        "    return y_pred"
      ],
      "execution_count": 0,
      "outputs": []
    },
    {
      "cell_type": "markdown",
      "metadata": {
        "id": "pANu-QNy4pom",
        "colab_type": "text"
      },
      "source": [
        "4. Создайте функцию calc_pred, возвращающую предсказанный класс (на вход подаются W, который уже посчитан функцией eval_model и X, на выходе - массив y_pred)."
      ]
    },
    {
      "cell_type": "code",
      "metadata": {
        "id": "4mwMZ_vH4s0-",
        "colab_type": "code",
        "colab": {}
      },
      "source": [
        "def calc_pred (W,X,y_pred):\n",
        "  y_pred=np.dot(W,X)\n",
        "  return y_pred"
      ],
      "execution_count": 0,
      "outputs": []
    },
    {
      "cell_type": "markdown",
      "metadata": {
        "id": "Wl806Emm46Xf",
        "colab_type": "text"
      },
      "source": [
        "5. Посчитайте Accuracy, матрицу ошибок, точность и полноту, а также F1 score."
      ]
    },
    {
      "cell_type": "code",
      "metadata": {
        "id": "wNpuqECZ5MKb",
        "colab_type": "code",
        "colab": {}
      },
      "source": [
        "def accuracy_metric(actual, predicted):",
        "     correct = 0",
             "for i in range(len(actual)):",
                  "if actual[i] == predicted[i]:",
                  "correct += 1",
             "return correct / float(len(actual)) * 100.0",
      ],
      "execution_count": 0,
      "outputs": []
    },
    {
      "cell_type": "markdown",
      "metadata": {
        "id": "Ai7bf5lv5UFa",
        "colab_type": "text"
      },
      "source": [
        "6. Могла ли модель переобучиться? Почему?"
      ]
    },
    {
      "cell_type": "code",
      "metadata": {
        "id": "P77Z6xEc5VHz",
        "colab_type": "code",
        "colab": {}
      },
      "source": [
        ""
      ],
      "execution_count": 0,
      "outputs": []
    },
    {
      "cell_type": "markdown",
      "metadata": {
        "id": "-BSpyB_u5YGi",
        "colab_type": "text"
      },
      "source": [
        "7*. Создайте функции eval_model_l1 и eval_model_l2 с применением L1 и L2 регуляризаций соответственно."
      ]
    },
    {
      "cell_type": "code",
      "metadata": {
        "id": "4mZlMSa95Y_d",
        "colab_type": "code",
        "colab": {}
      },
      "source": [
        ""
      ],
      "execution_count": 0,
      "outputs": []
    },
    {
      "cell_type": "code",
      "metadata": {
        "id": "sxJSer-w5Zwf",
        "colab_type": "code",
        "colab": {}
      },
      "source": [
        ""
      ],
      "execution_count": 0,
      "outputs": []
    }
  ]
}
